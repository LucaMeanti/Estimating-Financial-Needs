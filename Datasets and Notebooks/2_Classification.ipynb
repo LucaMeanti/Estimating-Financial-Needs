{
 "cells": [
  {
   "cell_type": "code",
   "execution_count": 1,
   "id": "d00d3a86-e090-46dd-a4ae-cea5c72c40aa",
   "metadata": {
    "id": "d00d3a86-e090-46dd-a4ae-cea5c72c40aa"
   },
   "outputs": [],
   "source": [
    "import warnings\n",
    "warnings.filterwarnings('ignore')\n",
    "\n",
    "import numpy as np\n",
    "import pandas as pd\n",
    "import matplotlib.pyplot as plt\n",
    "import seaborn as sns\n",
    "\n",
    "from sklearn.neural_network import MLPClassifier\n",
    "from sklearn.ensemble import RandomForestClassifier\n",
    "from sklearn.linear_model import LogisticRegression\n",
    "from sklearn.neighbors import KNeighborsClassifier\n",
    "from sklearn.svm import SVC\n",
    "\n",
    "from sklearn.model_selection import train_test_split, GridSearchCV, cross_val_score\n",
    "from sklearn.metrics import confusion_matrix, accuracy_score, recall_score, roc_curve, roc_auc_score, precision_recall_curve, auc\n",
    "\n",
    "from sklearn.ensemble import GradientBoostingClassifier\n",
    "from sklearn.ensemble import AdaBoostClassifier\n",
    "from sklearn.tree import DecisionTreeClassifier\n",
    "from sklearn.naive_bayes import GaussianNB\n",
    "from xgboost import XGBClassifier\n"
   ]
  },
  {
   "cell_type": "markdown",
   "id": "5084457e-e4c4-40c5-a5ba-4bcc6bde3d73",
   "metadata": {
    "id": "5084457e-e4c4-40c5-a5ba-4bcc6bde3d73"
   },
   "source": [
    "<font size=\"4\">\n",
    "<strong>\n",
    "Procedure\n",
    "</strong>\n",
    "</font>\n",
    "\n",
    "\n",
    "In this section, we outline the approach for conducting two distinct classification tasks: one for 'IncomeInvestment' and the other for 'AccumulationInvestment', each with 2 classes {0, 1}. The objective is to focus on clients identified as potential buyers in at least one category, excluding those uninterested in investing. The classification process involves evaluating 9 classifiers, selecting the top 5 performers, and employing majority voting to enhance model robustness."
   ]
  },
  {
   "cell_type": "markdown",
   "id": "158c4378-098a-480e-8404-42a08808650a",
   "metadata": {
    "id": "158c4378-098a-480e-8404-42a08808650a"
   },
   "source": [
    "<font size = \"4\">\n",
    "    <strong>\n",
    "Possible future improvements\n",
    "    </strong>\n",
    "</font>\n",
    "\n",
    "\n",
    "A potential enhancement could involve developing a unified classifier with 4 classes, representing all combinations of 'IncomeInvestment' and 'AccumulationInvestment' values: (0,0), (0,1), (1,0), (1,1).\n",
    "\n"
   ]
  },
  {
   "cell_type": "markdown",
   "id": "b79918bf-a316-4e7c-b209-d2e168506174",
   "metadata": {
    "id": "b79918bf-a316-4e7c-b209-d2e168506174"
   },
   "source": [
    "# Data Preparation\n",
    "<p>We first load the 'DataIntrested.xlsx' dataset and separate the features and labels.</p>\n"
   ]
  },
  {
   "cell_type": "code",
   "execution_count": 2,
   "id": "d1d6d7d2-b997-4dd9-968d-22386433bcea",
   "metadata": {
    "colab": {
     "base_uri": "https://localhost:8080/",
     "height": 226
    },
    "id": "d1d6d7d2-b997-4dd9-968d-22386433bcea",
    "outputId": "ba31bc7b-4f67-46d0-cd5d-3ad912e119d3"
   },
   "outputs": [
    {
     "data": {
      "text/html": [
       "<div>\n",
       "<style scoped>\n",
       "    .dataframe tbody tr th:only-of-type {\n",
       "        vertical-align: middle;\n",
       "    }\n",
       "\n",
       "    .dataframe tbody tr th {\n",
       "        vertical-align: top;\n",
       "    }\n",
       "\n",
       "    .dataframe thead th {\n",
       "        text-align: right;\n",
       "    }\n",
       "</style>\n",
       "<table border=\"1\" class=\"dataframe\">\n",
       "  <thead>\n",
       "    <tr style=\"text-align: right;\">\n",
       "      <th></th>\n",
       "      <th>Age</th>\n",
       "      <th>FinancialEducation</th>\n",
       "      <th>RiskPropensity</th>\n",
       "      <th>Income</th>\n",
       "      <th>Wealth</th>\n",
       "      <th>Income/Wealth</th>\n",
       "      <th>IncomeInvestment</th>\n",
       "      <th>AccumulationInvestment</th>\n",
       "    </tr>\n",
       "  </thead>\n",
       "  <tbody>\n",
       "    <tr>\n",
       "      <th>0</th>\n",
       "      <td>0.531646</td>\n",
       "      <td>0.222172</td>\n",
       "      <td>0.243105</td>\n",
       "      <td>0.693150</td>\n",
       "      <td>0.511975</td>\n",
       "      <td>0.466159</td>\n",
       "      <td>0</td>\n",
       "      <td>1</td>\n",
       "    </tr>\n",
       "    <tr>\n",
       "      <th>1</th>\n",
       "      <td>0.759494</td>\n",
       "      <td>0.372410</td>\n",
       "      <td>0.170321</td>\n",
       "      <td>0.484773</td>\n",
       "      <td>0.634001</td>\n",
       "      <td>0.242923</td>\n",
       "      <td>1</td>\n",
       "      <td>0</td>\n",
       "    </tr>\n",
       "    <tr>\n",
       "      <th>2</th>\n",
       "      <td>0.189873</td>\n",
       "      <td>0.324649</td>\n",
       "      <td>0.262161</td>\n",
       "      <td>0.496502</td>\n",
       "      <td>0.540590</td>\n",
       "      <td>0.326796</td>\n",
       "      <td>0</td>\n",
       "      <td>1</td>\n",
       "    </tr>\n",
       "    <tr>\n",
       "      <th>3</th>\n",
       "      <td>0.645570</td>\n",
       "      <td>0.843975</td>\n",
       "      <td>0.734110</td>\n",
       "      <td>0.856016</td>\n",
       "      <td>0.776977</td>\n",
       "      <td>0.343701</td>\n",
       "      <td>1</td>\n",
       "      <td>1</td>\n",
       "    </tr>\n",
       "    <tr>\n",
       "      <th>4</th>\n",
       "      <td>0.303797</td>\n",
       "      <td>0.511827</td>\n",
       "      <td>0.570713</td>\n",
       "      <td>0.743707</td>\n",
       "      <td>0.562851</td>\n",
       "      <td>0.454007</td>\n",
       "      <td>0</td>\n",
       "      <td>1</td>\n",
       "    </tr>\n",
       "  </tbody>\n",
       "</table>\n",
       "</div>"
      ],
      "text/plain": [
       "        Age  FinancialEducation  RiskPropensity    Income    Wealth  \\\n",
       "0  0.531646            0.222172        0.243105  0.693150  0.511975   \n",
       "1  0.759494            0.372410        0.170321  0.484773  0.634001   \n",
       "2  0.189873            0.324649        0.262161  0.496502  0.540590   \n",
       "3  0.645570            0.843975        0.734110  0.856016  0.776977   \n",
       "4  0.303797            0.511827        0.570713  0.743707  0.562851   \n",
       "\n",
       "   Income/Wealth  IncomeInvestment  AccumulationInvestment  \n",
       "0       0.466159                 0                       1  \n",
       "1       0.242923                 1                       0  \n",
       "2       0.326796                 0                       1  \n",
       "3       0.343701                 1                       1  \n",
       "4       0.454007                 0                       1  "
      ]
     },
     "execution_count": 2,
     "metadata": {},
     "output_type": "execute_result"
    }
   ],
   "source": [
    "# Import the intresting data\n",
    "X = pd.read_excel('DataIntrested.xlsx')\n",
    "X.head()"
   ]
  },
  {
   "cell_type": "code",
   "execution_count": 3,
   "id": "64ff6345-57f0-48e2-a372-7252d55a45f1",
   "metadata": {
    "id": "64ff6345-57f0-48e2-a372-7252d55a45f1"
   },
   "outputs": [],
   "source": [
    "# Features and labels division\n",
    "y_II = X.loc[:, 'IncomeInvestment']\n",
    "y_AI = X.loc[:, 'AccumulationInvestment']\n",
    "X = X.drop(['IncomeInvestment', 'AccumulationInvestment'], axis = 1) # features\n",
    "\n",
    "y = y_II # IncomeInvestment label"
   ]
  },
  {
   "cell_type": "markdown",
   "id": "pB8N9d1OWrOB",
   "metadata": {
    "id": "pB8N9d1OWrOB"
   },
   "source": [
    "# IncomeInvestment classification\n",
    "\n"
   ]
  },
  {
   "cell_type": "markdown",
   "id": "ceb7ca70-4e55-44a4-89bd-6e8b831446ec",
   "metadata": {
    "id": "ceb7ca70-4e55-44a4-89bd-6e8b831446ec"
   },
   "source": [
    "<h4>Train-Test Split</h4>"
   ]
  },
  {
   "cell_type": "markdown",
   "id": "4fbe198a",
   "metadata": {
    "id": "4fbe198a"
   },
   "source": [
    "We split the dataset into training and testing sets"
   ]
  },
  {
   "cell_type": "code",
   "execution_count": 4,
   "id": "8f7922ee-3c45-4f14-b6c1-9913de72bcba",
   "metadata": {
    "colab": {
     "base_uri": "https://localhost:8080/"
    },
    "id": "8f7922ee-3c45-4f14-b6c1-9913de72bcba",
    "outputId": "2465a62e-c8ff-4b84-d109-6c7cde87f080"
   },
   "outputs": [
    {
     "name": "stdout",
     "output_type": "stream",
     "text": [
      "(2788, 6)\n",
      "(698, 6)\n"
     ]
    }
   ],
   "source": [
    "# Train and Test split -> this will still be the same for the other classification\n",
    "X_train, X_test, y_train, y_test = train_test_split(X, y, test_size = 0.2, random_state = 42)\n",
    "print(X_train.shape)\n",
    "print(X_test.shape)"
   ]
  },
  {
   "cell_type": "markdown",
   "id": "5a0f78a8-f94d-443f-94cb-d9861fc2a3ca",
   "metadata": {
    "id": "5a0f78a8-f94d-443f-94cb-d9861fc2a3ca"
   },
   "source": [
    "## Multi-layer Perceptron ##"
   ]
  },
  {
   "cell_type": "markdown",
   "id": "2e804378",
   "metadata": {
    "id": "2e804378"
   },
   "source": [
    "We initialize an MLP classifier with specific parameters, such as the number of hidden layers and maximum iterations.\n"
   ]
  },
  {
   "cell_type": "code",
   "execution_count": 5,
   "id": "57bf853c",
   "metadata": {
    "id": "57bf853c",
    "outputId": "34ab002d-7532-4aa8-fd31-92ae90f5d7b2"
   },
   "outputs": [
    {
     "data": {
      "text/html": [
       "<style>#sk-container-id-1 {\n",
       "  /* Definition of color scheme common for light and dark mode */\n",
       "  --sklearn-color-text: black;\n",
       "  --sklearn-color-line: gray;\n",
       "  /* Definition of color scheme for unfitted estimators */\n",
       "  --sklearn-color-unfitted-level-0: #fff5e6;\n",
       "  --sklearn-color-unfitted-level-1: #f6e4d2;\n",
       "  --sklearn-color-unfitted-level-2: #ffe0b3;\n",
       "  --sklearn-color-unfitted-level-3: chocolate;\n",
       "  /* Definition of color scheme for fitted estimators */\n",
       "  --sklearn-color-fitted-level-0: #f0f8ff;\n",
       "  --sklearn-color-fitted-level-1: #d4ebff;\n",
       "  --sklearn-color-fitted-level-2: #b3dbfd;\n",
       "  --sklearn-color-fitted-level-3: cornflowerblue;\n",
       "\n",
       "  /* Specific color for light theme */\n",
       "  --sklearn-color-text-on-default-background: var(--sg-text-color, var(--theme-code-foreground, var(--jp-content-font-color1, black)));\n",
       "  --sklearn-color-background: var(--sg-background-color, var(--theme-background, var(--jp-layout-color0, white)));\n",
       "  --sklearn-color-border-box: var(--sg-text-color, var(--theme-code-foreground, var(--jp-content-font-color1, black)));\n",
       "  --sklearn-color-icon: #696969;\n",
       "\n",
       "  @media (prefers-color-scheme: dark) {\n",
       "    /* Redefinition of color scheme for dark theme */\n",
       "    --sklearn-color-text-on-default-background: var(--sg-text-color, var(--theme-code-foreground, var(--jp-content-font-color1, white)));\n",
       "    --sklearn-color-background: var(--sg-background-color, var(--theme-background, var(--jp-layout-color0, #111)));\n",
       "    --sklearn-color-border-box: var(--sg-text-color, var(--theme-code-foreground, var(--jp-content-font-color1, white)));\n",
       "    --sklearn-color-icon: #878787;\n",
       "  }\n",
       "}\n",
       "\n",
       "#sk-container-id-1 {\n",
       "  color: var(--sklearn-color-text);\n",
       "}\n",
       "\n",
       "#sk-container-id-1 pre {\n",
       "  padding: 0;\n",
       "}\n",
       "\n",
       "#sk-container-id-1 input.sk-hidden--visually {\n",
       "  border: 0;\n",
       "  clip: rect(1px 1px 1px 1px);\n",
       "  clip: rect(1px, 1px, 1px, 1px);\n",
       "  height: 1px;\n",
       "  margin: -1px;\n",
       "  overflow: hidden;\n",
       "  padding: 0;\n",
       "  position: absolute;\n",
       "  width: 1px;\n",
       "}\n",
       "\n",
       "#sk-container-id-1 div.sk-dashed-wrapped {\n",
       "  border: 1px dashed var(--sklearn-color-line);\n",
       "  margin: 0 0.4em 0.5em 0.4em;\n",
       "  box-sizing: border-box;\n",
       "  padding-bottom: 0.4em;\n",
       "  background-color: var(--sklearn-color-background);\n",
       "}\n",
       "\n",
       "#sk-container-id-1 div.sk-container {\n",
       "  /* jupyter's `normalize.less` sets `[hidden] { display: none; }`\n",
       "     but bootstrap.min.css set `[hidden] { display: none !important; }`\n",
       "     so we also need the `!important` here to be able to override the\n",
       "     default hidden behavior on the sphinx rendered scikit-learn.org.\n",
       "     See: https://github.com/scikit-learn/scikit-learn/issues/21755 */\n",
       "  display: inline-block !important;\n",
       "  position: relative;\n",
       "}\n",
       "\n",
       "#sk-container-id-1 div.sk-text-repr-fallback {\n",
       "  display: none;\n",
       "}\n",
       "\n",
       "div.sk-parallel-item,\n",
       "div.sk-serial,\n",
       "div.sk-item {\n",
       "  /* draw centered vertical line to link estimators */\n",
       "  background-image: linear-gradient(var(--sklearn-color-text-on-default-background), var(--sklearn-color-text-on-default-background));\n",
       "  background-size: 2px 100%;\n",
       "  background-repeat: no-repeat;\n",
       "  background-position: center center;\n",
       "}\n",
       "\n",
       "/* Parallel-specific style estimator block */\n",
       "\n",
       "#sk-container-id-1 div.sk-parallel-item::after {\n",
       "  content: \"\";\n",
       "  width: 100%;\n",
       "  border-bottom: 2px solid var(--sklearn-color-text-on-default-background);\n",
       "  flex-grow: 1;\n",
       "}\n",
       "\n",
       "#sk-container-id-1 div.sk-parallel {\n",
       "  display: flex;\n",
       "  align-items: stretch;\n",
       "  justify-content: center;\n",
       "  background-color: var(--sklearn-color-background);\n",
       "  position: relative;\n",
       "}\n",
       "\n",
       "#sk-container-id-1 div.sk-parallel-item {\n",
       "  display: flex;\n",
       "  flex-direction: column;\n",
       "}\n",
       "\n",
       "#sk-container-id-1 div.sk-parallel-item:first-child::after {\n",
       "  align-self: flex-end;\n",
       "  width: 50%;\n",
       "}\n",
       "\n",
       "#sk-container-id-1 div.sk-parallel-item:last-child::after {\n",
       "  align-self: flex-start;\n",
       "  width: 50%;\n",
       "}\n",
       "\n",
       "#sk-container-id-1 div.sk-parallel-item:only-child::after {\n",
       "  width: 0;\n",
       "}\n",
       "\n",
       "/* Serial-specific style estimator block */\n",
       "\n",
       "#sk-container-id-1 div.sk-serial {\n",
       "  display: flex;\n",
       "  flex-direction: column;\n",
       "  align-items: center;\n",
       "  background-color: var(--sklearn-color-background);\n",
       "  padding-right: 1em;\n",
       "  padding-left: 1em;\n",
       "}\n",
       "\n",
       "\n",
       "/* Toggleable style: style used for estimator/Pipeline/ColumnTransformer box that is\n",
       "clickable and can be expanded/collapsed.\n",
       "- Pipeline and ColumnTransformer use this feature and define the default style\n",
       "- Estimators will overwrite some part of the style using the `sk-estimator` class\n",
       "*/\n",
       "\n",
       "/* Pipeline and ColumnTransformer style (default) */\n",
       "\n",
       "#sk-container-id-1 div.sk-toggleable {\n",
       "  /* Default theme specific background. It is overwritten whether we have a\n",
       "  specific estimator or a Pipeline/ColumnTransformer */\n",
       "  background-color: var(--sklearn-color-background);\n",
       "}\n",
       "\n",
       "/* Toggleable label */\n",
       "#sk-container-id-1 label.sk-toggleable__label {\n",
       "  cursor: pointer;\n",
       "  display: block;\n",
       "  width: 100%;\n",
       "  margin-bottom: 0;\n",
       "  padding: 0.5em;\n",
       "  box-sizing: border-box;\n",
       "  text-align: center;\n",
       "}\n",
       "\n",
       "#sk-container-id-1 label.sk-toggleable__label-arrow:before {\n",
       "  /* Arrow on the left of the label */\n",
       "  content: \"▸\";\n",
       "  float: left;\n",
       "  margin-right: 0.25em;\n",
       "  color: var(--sklearn-color-icon);\n",
       "}\n",
       "\n",
       "#sk-container-id-1 label.sk-toggleable__label-arrow:hover:before {\n",
       "  color: var(--sklearn-color-text);\n",
       "}\n",
       "\n",
       "/* Toggleable content - dropdown */\n",
       "\n",
       "#sk-container-id-1 div.sk-toggleable__content {\n",
       "  max-height: 0;\n",
       "  max-width: 0;\n",
       "  overflow: hidden;\n",
       "  text-align: left;\n",
       "  /* unfitted */\n",
       "  background-color: var(--sklearn-color-unfitted-level-0);\n",
       "}\n",
       "\n",
       "#sk-container-id-1 div.sk-toggleable__content.fitted {\n",
       "  /* fitted */\n",
       "  background-color: var(--sklearn-color-fitted-level-0);\n",
       "}\n",
       "\n",
       "#sk-container-id-1 div.sk-toggleable__content pre {\n",
       "  margin: 0.2em;\n",
       "  border-radius: 0.25em;\n",
       "  color: var(--sklearn-color-text);\n",
       "  /* unfitted */\n",
       "  background-color: var(--sklearn-color-unfitted-level-0);\n",
       "}\n",
       "\n",
       "#sk-container-id-1 div.sk-toggleable__content.fitted pre {\n",
       "  /* unfitted */\n",
       "  background-color: var(--sklearn-color-fitted-level-0);\n",
       "}\n",
       "\n",
       "#sk-container-id-1 input.sk-toggleable__control:checked~div.sk-toggleable__content {\n",
       "  /* Expand drop-down */\n",
       "  max-height: 200px;\n",
       "  max-width: 100%;\n",
       "  overflow: auto;\n",
       "}\n",
       "\n",
       "#sk-container-id-1 input.sk-toggleable__control:checked~label.sk-toggleable__label-arrow:before {\n",
       "  content: \"▾\";\n",
       "}\n",
       "\n",
       "/* Pipeline/ColumnTransformer-specific style */\n",
       "\n",
       "#sk-container-id-1 div.sk-label input.sk-toggleable__control:checked~label.sk-toggleable__label {\n",
       "  color: var(--sklearn-color-text);\n",
       "  background-color: var(--sklearn-color-unfitted-level-2);\n",
       "}\n",
       "\n",
       "#sk-container-id-1 div.sk-label.fitted input.sk-toggleable__control:checked~label.sk-toggleable__label {\n",
       "  background-color: var(--sklearn-color-fitted-level-2);\n",
       "}\n",
       "\n",
       "/* Estimator-specific style */\n",
       "\n",
       "/* Colorize estimator box */\n",
       "#sk-container-id-1 div.sk-estimator input.sk-toggleable__control:checked~label.sk-toggleable__label {\n",
       "  /* unfitted */\n",
       "  background-color: var(--sklearn-color-unfitted-level-2);\n",
       "}\n",
       "\n",
       "#sk-container-id-1 div.sk-estimator.fitted input.sk-toggleable__control:checked~label.sk-toggleable__label {\n",
       "  /* fitted */\n",
       "  background-color: var(--sklearn-color-fitted-level-2);\n",
       "}\n",
       "\n",
       "#sk-container-id-1 div.sk-label label.sk-toggleable__label,\n",
       "#sk-container-id-1 div.sk-label label {\n",
       "  /* The background is the default theme color */\n",
       "  color: var(--sklearn-color-text-on-default-background);\n",
       "}\n",
       "\n",
       "/* On hover, darken the color of the background */\n",
       "#sk-container-id-1 div.sk-label:hover label.sk-toggleable__label {\n",
       "  color: var(--sklearn-color-text);\n",
       "  background-color: var(--sklearn-color-unfitted-level-2);\n",
       "}\n",
       "\n",
       "/* Label box, darken color on hover, fitted */\n",
       "#sk-container-id-1 div.sk-label.fitted:hover label.sk-toggleable__label.fitted {\n",
       "  color: var(--sklearn-color-text);\n",
       "  background-color: var(--sklearn-color-fitted-level-2);\n",
       "}\n",
       "\n",
       "/* Estimator label */\n",
       "\n",
       "#sk-container-id-1 div.sk-label label {\n",
       "  font-family: monospace;\n",
       "  font-weight: bold;\n",
       "  display: inline-block;\n",
       "  line-height: 1.2em;\n",
       "}\n",
       "\n",
       "#sk-container-id-1 div.sk-label-container {\n",
       "  text-align: center;\n",
       "}\n",
       "\n",
       "/* Estimator-specific */\n",
       "#sk-container-id-1 div.sk-estimator {\n",
       "  font-family: monospace;\n",
       "  border: 1px dotted var(--sklearn-color-border-box);\n",
       "  border-radius: 0.25em;\n",
       "  box-sizing: border-box;\n",
       "  margin-bottom: 0.5em;\n",
       "  /* unfitted */\n",
       "  background-color: var(--sklearn-color-unfitted-level-0);\n",
       "}\n",
       "\n",
       "#sk-container-id-1 div.sk-estimator.fitted {\n",
       "  /* fitted */\n",
       "  background-color: var(--sklearn-color-fitted-level-0);\n",
       "}\n",
       "\n",
       "/* on hover */\n",
       "#sk-container-id-1 div.sk-estimator:hover {\n",
       "  /* unfitted */\n",
       "  background-color: var(--sklearn-color-unfitted-level-2);\n",
       "}\n",
       "\n",
       "#sk-container-id-1 div.sk-estimator.fitted:hover {\n",
       "  /* fitted */\n",
       "  background-color: var(--sklearn-color-fitted-level-2);\n",
       "}\n",
       "\n",
       "/* Specification for estimator info (e.g. \"i\" and \"?\") */\n",
       "\n",
       "/* Common style for \"i\" and \"?\" */\n",
       "\n",
       ".sk-estimator-doc-link,\n",
       "a:link.sk-estimator-doc-link,\n",
       "a:visited.sk-estimator-doc-link {\n",
       "  float: right;\n",
       "  font-size: smaller;\n",
       "  line-height: 1em;\n",
       "  font-family: monospace;\n",
       "  background-color: var(--sklearn-color-background);\n",
       "  border-radius: 1em;\n",
       "  height: 1em;\n",
       "  width: 1em;\n",
       "  text-decoration: none !important;\n",
       "  margin-left: 1ex;\n",
       "  /* unfitted */\n",
       "  border: var(--sklearn-color-unfitted-level-1) 1pt solid;\n",
       "  color: var(--sklearn-color-unfitted-level-1);\n",
       "}\n",
       "\n",
       ".sk-estimator-doc-link.fitted,\n",
       "a:link.sk-estimator-doc-link.fitted,\n",
       "a:visited.sk-estimator-doc-link.fitted {\n",
       "  /* fitted */\n",
       "  border: var(--sklearn-color-fitted-level-1) 1pt solid;\n",
       "  color: var(--sklearn-color-fitted-level-1);\n",
       "}\n",
       "\n",
       "/* On hover */\n",
       "div.sk-estimator:hover .sk-estimator-doc-link:hover,\n",
       ".sk-estimator-doc-link:hover,\n",
       "div.sk-label-container:hover .sk-estimator-doc-link:hover,\n",
       ".sk-estimator-doc-link:hover {\n",
       "  /* unfitted */\n",
       "  background-color: var(--sklearn-color-unfitted-level-3);\n",
       "  color: var(--sklearn-color-background);\n",
       "  text-decoration: none;\n",
       "}\n",
       "\n",
       "div.sk-estimator.fitted:hover .sk-estimator-doc-link.fitted:hover,\n",
       ".sk-estimator-doc-link.fitted:hover,\n",
       "div.sk-label-container:hover .sk-estimator-doc-link.fitted:hover,\n",
       ".sk-estimator-doc-link.fitted:hover {\n",
       "  /* fitted */\n",
       "  background-color: var(--sklearn-color-fitted-level-3);\n",
       "  color: var(--sklearn-color-background);\n",
       "  text-decoration: none;\n",
       "}\n",
       "\n",
       "/* Span, style for the box shown on hovering the info icon */\n",
       ".sk-estimator-doc-link span {\n",
       "  display: none;\n",
       "  z-index: 9999;\n",
       "  position: relative;\n",
       "  font-weight: normal;\n",
       "  right: .2ex;\n",
       "  padding: .5ex;\n",
       "  margin: .5ex;\n",
       "  width: min-content;\n",
       "  min-width: 20ex;\n",
       "  max-width: 50ex;\n",
       "  color: var(--sklearn-color-text);\n",
       "  box-shadow: 2pt 2pt 4pt #999;\n",
       "  /* unfitted */\n",
       "  background: var(--sklearn-color-unfitted-level-0);\n",
       "  border: .5pt solid var(--sklearn-color-unfitted-level-3);\n",
       "}\n",
       "\n",
       ".sk-estimator-doc-link.fitted span {\n",
       "  /* fitted */\n",
       "  background: var(--sklearn-color-fitted-level-0);\n",
       "  border: var(--sklearn-color-fitted-level-3);\n",
       "}\n",
       "\n",
       ".sk-estimator-doc-link:hover span {\n",
       "  display: block;\n",
       "}\n",
       "\n",
       "/* \"?\"-specific style due to the `<a>` HTML tag */\n",
       "\n",
       "#sk-container-id-1 a.estimator_doc_link {\n",
       "  float: right;\n",
       "  font-size: 1rem;\n",
       "  line-height: 1em;\n",
       "  font-family: monospace;\n",
       "  background-color: var(--sklearn-color-background);\n",
       "  border-radius: 1rem;\n",
       "  height: 1rem;\n",
       "  width: 1rem;\n",
       "  text-decoration: none;\n",
       "  /* unfitted */\n",
       "  color: var(--sklearn-color-unfitted-level-1);\n",
       "  border: var(--sklearn-color-unfitted-level-1) 1pt solid;\n",
       "}\n",
       "\n",
       "#sk-container-id-1 a.estimator_doc_link.fitted {\n",
       "  /* fitted */\n",
       "  border: var(--sklearn-color-fitted-level-1) 1pt solid;\n",
       "  color: var(--sklearn-color-fitted-level-1);\n",
       "}\n",
       "\n",
       "/* On hover */\n",
       "#sk-container-id-1 a.estimator_doc_link:hover {\n",
       "  /* unfitted */\n",
       "  background-color: var(--sklearn-color-unfitted-level-3);\n",
       "  color: var(--sklearn-color-background);\n",
       "  text-decoration: none;\n",
       "}\n",
       "\n",
       "#sk-container-id-1 a.estimator_doc_link.fitted:hover {\n",
       "  /* fitted */\n",
       "  background-color: var(--sklearn-color-fitted-level-3);\n",
       "}\n",
       "</style><div id=\"sk-container-id-1\" class=\"sk-top-container\"><div class=\"sk-text-repr-fallback\"><pre>MLPClassifier(hidden_layer_sizes=(50, 30), max_iter=1000, random_state=42)</pre><b>In a Jupyter environment, please rerun this cell to show the HTML representation or trust the notebook. <br />On GitHub, the HTML representation is unable to render, please try loading this page with nbviewer.org.</b></div><div class=\"sk-container\" hidden><div class=\"sk-item\"><div class=\"sk-estimator fitted sk-toggleable\"><input class=\"sk-toggleable__control sk-hidden--visually\" id=\"sk-estimator-id-1\" type=\"checkbox\" checked><label for=\"sk-estimator-id-1\" class=\"sk-toggleable__label fitted sk-toggleable__label-arrow fitted\">&nbsp;&nbsp;MLPClassifier<a class=\"sk-estimator-doc-link fitted\" rel=\"noreferrer\" target=\"_blank\" href=\"https://scikit-learn.org/1.4/modules/generated/sklearn.neural_network.MLPClassifier.html\">?<span>Documentation for MLPClassifier</span></a><span class=\"sk-estimator-doc-link fitted\">i<span>Fitted</span></span></label><div class=\"sk-toggleable__content fitted\"><pre>MLPClassifier(hidden_layer_sizes=(50, 30), max_iter=1000, random_state=42)</pre></div> </div></div></div></div>"
      ],
      "text/plain": [
       "MLPClassifier(hidden_layer_sizes=(50, 30), max_iter=1000, random_state=42)"
      ]
     },
     "execution_count": 5,
     "metadata": {},
     "output_type": "execute_result"
    }
   ],
   "source": [
    "# Multi Layer Perceptron only on the clients with at least a preference\n",
    "mlp_classifier = MLPClassifier(hidden_layer_sizes=(50, 30), max_iter=1000, random_state=42)\n",
    "\n",
    "# MLP training\n",
    "mlp_classifier.fit(X_train, y_train)"
   ]
  },
  {
   "cell_type": "markdown",
   "id": "0934b370",
   "metadata": {
    "id": "0934b370"
   },
   "source": [
    "<h4>Model Evaluation</h4>"
   ]
  },
  {
   "cell_type": "markdown",
   "id": "ff13a942",
   "metadata": {
    "id": "ff13a942"
   },
   "source": [
    "We make predictions on the test set and calculate the accuracy and recall scores to evaluate the model's performance."
   ]
  },
  {
   "cell_type": "code",
   "execution_count": 6,
   "id": "c739119c",
   "metadata": {
    "id": "c739119c",
    "outputId": "68ca6bcf-ed3c-4377-9ae9-66f19fb504da"
   },
   "outputs": [
    {
     "name": "stdout",
     "output_type": "stream",
     "text": [
      "Accuracy: 0.7535816618911175\n",
      "Recall score: 0.75\n",
      "Confusion Matrix:\n",
      "[[232  74]\n",
      " [ 98 294]]\n"
     ]
    },
    {
     "data": {
      "image/png": "[encoded data removed]",
      "text/plain": [
       "<Figure size 576x432 with 2 Axes>"
      ]
     },
     "metadata": {
      "needs_background": "light"
     },
     "output_type": "display_data"
    }
   ],
   "source": [
    "# Prediction on the test set\n",
    "predictions = mlp_classifier.predict(X_test)\n",
    "\n",
    "# Accuracy score\n",
    "accuracy = accuracy_score(y_test, predictions)\n",
    "print(\"Accuracy:\", accuracy)\n",
    "\n",
    "# Recall score -> True_positive/(True_positive + False_positive) -> what we want to maximize\n",
    "recall = recall_score(y_test, predictions)\n",
    "print(\"Recall score:\", recall)\n",
    "\n",
    "# Confusion matrix\n",
    "conf_matrix = confusion_matrix(y_test, predictions)\n",
    "print(\"Confusion Matrix:\")\n",
    "print(conf_matrix)\n",
    "\n",
    "# Visualize the confusion matrix\n",
    "plt.figure(figsize=(8, 6))\n",
    "sns.heatmap(conf_matrix, annot=True, fmt=\"d\", cmap=\"Blues\")\n",
    "plt.xlabel(\"Predicted Label\")\n",
    "plt.ylabel(\"True Label\")\n",
    "plt.title(\"Confusion Matrix\")\n",
    "plt.show()"
   ]
  },
  {
   "cell_type": "markdown",
   "id": "73af1c18",
   "metadata": {
    "id": "73af1c18"
   },
   "source": [
    "The accuracy score measures the overall correctness of the predictions, while the recall score focuses on the proportion of true positives that are correctly identified by the model."
   ]
  },
  {
   "cell_type": "markdown",
   "id": "33539382",
   "metadata": {
    "id": "33539382"
   },
   "source": [
    "<h4>Saving the Predictions</h4>"
   ]
  },
  {
   "cell_type": "markdown",
   "id": "fe180bf7",
   "metadata": {
    "id": "fe180bf7"
   },
   "source": [
    "Finally, we create a new DataFrame that includes the test set features and the MLP model's predictions."
   ]
  },
  {
   "cell_type": "code",
   "execution_count": 7,
   "id": "1f5015f7",
   "metadata": {
    "id": "1f5015f7",
    "outputId": "353e646c-8ace-4a8e-9f3a-d39f1dfd2acb"
   },
   "outputs": [
    {
     "data": {
      "text/html": [
       "<div>\n",
       "<style scoped>\n",
       "    .dataframe tbody tr th:only-of-type {\n",
       "        vertical-align: middle;\n",
       "    }\n",
       "\n",
       "    .dataframe tbody tr th {\n",
       "        vertical-align: top;\n",
       "    }\n",
       "\n",
       "    .dataframe thead th {\n",
       "        text-align: right;\n",
       "    }\n",
       "</style>\n",
       "<table border=\"1\" class=\"dataframe\">\n",
       "  <thead>\n",
       "    <tr style=\"text-align: right;\">\n",
       "      <th></th>\n",
       "      <th>Age</th>\n",
       "      <th>FinancialEducation</th>\n",
       "      <th>RiskPropensity</th>\n",
       "      <th>Income</th>\n",
       "      <th>Wealth</th>\n",
       "      <th>Income/Wealth</th>\n",
       "      <th>MLP IncomeInvestment</th>\n",
       "    </tr>\n",
       "  </thead>\n",
       "  <tbody>\n",
       "    <tr>\n",
       "      <th>179</th>\n",
       "      <td>0.518987</td>\n",
       "      <td>0.119366</td>\n",
       "      <td>0.166095</td>\n",
       "      <td>0.499077</td>\n",
       "      <td>0.447003</td>\n",
       "      <td>0.405424</td>\n",
       "      <td>1</td>\n",
       "    </tr>\n",
       "    <tr>\n",
       "      <th>2153</th>\n",
       "      <td>0.759494</td>\n",
       "      <td>0.568503</td>\n",
       "      <td>0.617078</td>\n",
       "      <td>0.902076</td>\n",
       "      <td>0.764515</td>\n",
       "      <td>0.381090</td>\n",
       "      <td>1</td>\n",
       "    </tr>\n",
       "    <tr>\n",
       "      <th>3234</th>\n",
       "      <td>0.582278</td>\n",
       "      <td>0.615310</td>\n",
       "      <td>0.398159</td>\n",
       "      <td>0.658283</td>\n",
       "      <td>0.661516</td>\n",
       "      <td>0.322413</td>\n",
       "      <td>1</td>\n",
       "    </tr>\n",
       "    <tr>\n",
       "      <th>184</th>\n",
       "      <td>0.582278</td>\n",
       "      <td>0.545493</td>\n",
       "      <td>0.482318</td>\n",
       "      <td>0.627178</td>\n",
       "      <td>0.580825</td>\n",
       "      <td>0.370585</td>\n",
       "      <td>1</td>\n",
       "    </tr>\n",
       "    <tr>\n",
       "      <th>1071</th>\n",
       "      <td>0.341772</td>\n",
       "      <td>0.610581</td>\n",
       "      <td>0.531877</td>\n",
       "      <td>0.845886</td>\n",
       "      <td>0.595056</td>\n",
       "      <td>0.487633</td>\n",
       "      <td>0</td>\n",
       "    </tr>\n",
       "  </tbody>\n",
       "</table>\n",
       "</div>"
      ],
      "text/plain": [
       "           Age  FinancialEducation  RiskPropensity    Income    Wealth  \\\n",
       "179   0.518987            0.119366        0.166095  0.499077  0.447003   \n",
       "2153  0.759494            0.568503        0.617078  0.902076  0.764515   \n",
       "3234  0.582278            0.615310        0.398159  0.658283  0.661516   \n",
       "184   0.582278            0.545493        0.482318  0.627178  0.580825   \n",
       "1071  0.341772            0.610581        0.531877  0.845886  0.595056   \n",
       "\n",
       "      Income/Wealth  MLP IncomeInvestment  \n",
       "179        0.405424                     1  \n",
       "2153       0.381090                     1  \n",
       "3234       0.322413                     1  \n",
       "184        0.370585                     1  \n",
       "1071       0.487633                     0  "
      ]
     },
     "execution_count": 7,
     "metadata": {},
     "output_type": "execute_result"
    }
   ],
   "source": [
    "# Save the predictions\n",
    "dataset_with_predictions = X_test.copy()\n",
    "dataset_with_predictions['MLP IncomeInvestment'] = predictions\n",
    "dataset_with_predictions.head()"
   ]
  },
  {
   "cell_type": "markdown",
   "id": "fe17f4a6-f881-4882-a3e6-a0813805e2ae",
   "metadata": {
    "id": "fe17f4a6-f881-4882-a3e6-a0813805e2ae"
   },
   "source": [
    "## Random Forest"
   ]
  },
  {
   "cell_type": "markdown",
   "id": "b61e1d81",
   "metadata": {
    "id": "b61e1d81"
   },
   "source": [
    "In this section, we train a Random Forest Classifier on the dataset to predict the 'IncomeInvestment' label."
   ]
  },
  {
   "cell_type": "markdown",
   "id": "b3361ad8",
   "metadata": {
    "id": "b3361ad8"
   },
   "source": [
    "<h4>Defining Parameters</h4>"
   ]
  },
  {
   "cell_type": "markdown",
   "id": "883016fa",
   "metadata": {
    "id": "883016fa"
   },
   "source": [
    "We start by setting the parameters for the Random Forest Classifier. These parameters include the number of trees in the forest, the maximum depth of each tree, the minimum number of samples required to split a node, the minimum number of samples required at each leaf node, and the minimum impurity decrease required for a split.\n"
   ]
  },
  {
   "cell_type": "code",
   "execution_count": 8,
   "id": "828ab6bb",
   "metadata": {
    "id": "828ab6bb"
   },
   "outputs": [],
   "source": [
    "# Parameters\n",
    "n_estimators = 50\n",
    "max_depth = 50\n",
    "min_samples_split = 10\n",
    "min_samples_leaf = 10\n",
    "min_impurity_decrease = 0\n",
    "parameters = {\"n_estimators\": n_estimators,\n",
    "              \"max_depth\": max_depth,\n",
    "              \"min_samples_split\": min_samples_split,\n",
    "              \"min_samples_leaf\": min_samples_leaf,\n",
    "              \"min_impurity_decrease\": min_impurity_decrease,\n",
    "             }"
   ]
  },
  {
   "cell_type": "markdown",
   "id": "b90811b5",
   "metadata": {
    "id": "b90811b5"
   },
   "source": [
    "<h4>Training the Classifier</h4>"
   ]
  },
  {
   "cell_type": "markdown",
   "id": "9bc9ee66",
   "metadata": {
    "id": "9bc9ee66"
   },
   "source": [
    "We create an instance of the Random Forest Classifier using the specified parameters and train it on the training set."
   ]
  },
  {
   "cell_type": "code",
   "execution_count": 9,
   "id": "beb83a5b",
   "metadata": {
    "id": "beb83a5b",
    "outputId": "1de46ca8-2abc-4a2a-f531-812b0632bd84"
   },
   "outputs": [
    {
     "data": {
      "text/html": [
       "<style>#sk-container-id-2 {\n",
       "  /* Definition of color scheme common for light and dark mode */\n",
       "  --sklearn-color-text: black;\n",
       "  --sklearn-color-line: gray;\n",
       "  /* Definition of color scheme for unfitted estimators */\n",
       "  --sklearn-color-unfitted-level-0: #fff5e6;\n",
       "  --sklearn-color-unfitted-level-1: #f6e4d2;\n",
       "  --sklearn-color-unfitted-level-2: #ffe0b3;\n",
       "  --sklearn-color-unfitted-level-3: chocolate;\n",
       "  /* Definition of color scheme for fitted estimators */\n",
       "  --sklearn-color-fitted-level-0: #f0f8ff;\n",
       "  --sklearn-color-fitted-level-1: #d4ebff;\n",
       "  --sklearn-color-fitted-level-2: #b3dbfd;\n",
       "  --sklearn-color-fitted-level-3: cornflowerblue;\n",
       "\n",
       "  /* Specific color for light theme */\n",
       "  --sklearn-color-text-on-default-background: var(--sg-text-color, var(--theme-code-foreground, var(--jp-content-font-color1, black)));\n",
       "  --sklearn-color-background: var(--sg-background-color, var(--theme-background, var(--jp-layout-color0, white)));\n",
       "  --sklearn-color-border-box: var(--sg-text-color, var(--theme-code-foreground, var(--jp-content-font-color1, black)));\n",
       "  --sklearn-color-icon: #696969;\n",
       "\n",
       "  @media (prefers-color-scheme: dark) {\n",
       "    /* Redefinition of color scheme for dark theme */\n",
       "    --sklearn-color-text-on-default-background: var(--sg-text-color, var(--theme-code-foreground, var(--jp-content-font-color1, white)));\n",
       "    --sklearn-color-background: var(--sg-background-color, var(--theme-background, var(--jp-layout-color0, #111)));\n",
       "    --sklearn-color-border-box: var(--sg-text-color, var(--theme-code-foreground, var(--jp-content-font-color1, white)));\n",
       "    --sklearn-color-icon: #878787;\n",
       "  }\n",
       "}\n",
       "\n",
       "#sk-container-id-2 {\n",
       "  color: var(--sklearn-color-text);\n",
       "}\n",
       "\n",
       "#sk-container-id-2 pre {\n",
       "  padding: 0;\n",
       "}\n",
       "\n",
       "#sk-container-id-2 input.sk-hidden--visually {\n",
       "  border: 0;\n",
       "  clip: rect(1px 1px 1px 1px);\n",
       "  clip: rect(1px, 1px, 1px, 1px);\n",
       "  height: 1px;\n",
       "  margin: -1px;\n",
       "  overflow: hidden;\n",
       "  padding: 0;\n",
       "  position: absolute;\n",
       "  width: 1px;\n",
       "}\n",
       "\n",
       "#sk-container-id-2 div.sk-dashed-wrapped {\n",
       "  border: 1px dashed var(--sklearn-color-line);\n",
       "  margin: 0 0.4em 0.5em 0.4em;\n",
       "  box-sizing: border-box;\n",
       "  padding-bottom: 0.4em;\n",
       "  background-color: var(--sklearn-color-background);\n",
       "}\n",
       "\n",
       "#sk-container-id-2 div.sk-container {\n",
       "  /* jupyter's `normalize.less` sets `[hidden] { display: none; }`\n",
       "     but bootstrap.min.css set `[hidden] { display: none !important; }`\n",
       "     so we also need the `!important` here to be able to override the\n",
       "     default hidden behavior on the sphinx rendered scikit-learn.org.\n",
       "     See: https://github.com/scikit-learn/scikit-learn/issues/21755 */\n",
       "  display: inline-block !important;\n",
       "  position: relative;\n",
       "}\n",
       "\n",
       "#sk-container-id-2 div.sk-text-repr-fallback {\n",
       "  display: none;\n",
       "}\n",
       "\n",
       "div.sk-parallel-item,\n",
       "div.sk-serial,\n",
       "div.sk-item {\n",
       "  /* draw centered vertical line to link estimators */\n",
       "  background-image: linear-gradient(var(--sklearn-color-text-on-default-background), var(--sklearn-color-text-on-default-background));\n",
       "  background-size: 2px 100%;\n",
       "  background-repeat: no-repeat;\n",
       "  background-position: center center;\n",
       "}\n",
       "\n",
       "/* Parallel-specific style estimator block */\n",
       "\n",
       "#sk-container-id-2 div.sk-parallel-item::after {\n",
       "  content: \"\";\n",
       "  width: 100%;\n",
       "  border-bottom: 2px solid var(--sklearn-color-text-on-default-background);\n",
       "  flex-grow: 1;\n",
       "}\n",
       "\n",
       "#sk-container-id-2 div.sk-parallel {\n",
       "  display: flex;\n",
       "  align-items: stretch;\n",
       "  justify-content: center;\n",
       "  background-color: var(--sklearn-color-background);\n",
       "  position: relative;\n",
       "}\n",
       "\n",
       "#sk-container-id-2 div.sk-parallel-item {\n",
       "  display: flex;\n",
       "  flex-direction: column;\n",
       "}\n",
       "\n",
       "#sk-container-id-2 div.sk-parallel-item:first-child::after {\n",
       "  align-self: flex-end;\n",
       "  width: 50%;\n",
       "}\n",
       "\n",
       "#sk-container-id-2 div.sk-parallel-item:last-child::after {\n",
       "  align-self: flex-start;\n",
       "  width: 50%;\n",
       "}\n",
       "\n",
       "#sk-container-id-2 div.sk-parallel-item:only-child::after {\n",
       "  width: 0;\n",
       "}\n",
       "\n",
       "/* Serial-specific style estimator block */\n",
       "\n",
       "#sk-container-id-2 div.sk-serial {\n",
       "  display: flex;\n",
       "  flex-direction: column;\n",
       "  align-items: center;\n",
       "  background-color: var(--sklearn-color-background);\n",
       "  padding-right: 1em;\n",
       "  padding-left: 1em;\n",
       "}\n",
       "\n",
       "\n",
       "/* Toggleable style: style used for estimator/Pipeline/ColumnTransformer box that is\n",
       "clickable and can be expanded/collapsed.\n",
       "- Pipeline and ColumnTransformer use this feature and define the default style\n",
       "- Estimators will overwrite some part of the style using the `sk-estimator` class\n",
       "*/\n",
       "\n",
       "/* Pipeline and ColumnTransformer style (default) */\n",
       "\n",
       "#sk-container-id-2 div.sk-toggleable {\n",
       "  /* Default theme specific background. It is overwritten whether we have a\n",
       "  specific estimator or a Pipeline/ColumnTransformer */\n",
       "  background-color: var(--sklearn-color-background);\n",
       "}\n",
       "\n",
       "/* Toggleable label */\n",
       "#sk-container-id-2 label.sk-toggleable__label {\n",
       "  cursor: pointer;\n",
       "  display: block;\n",
       "  width: 100%;\n",
       "  margin-bottom: 0;\n",
       "  padding: 0.5em;\n",
       "  box-sizing: border-box;\n",
       "  text-align: center;\n",
       "}\n",
       "\n",
       "#sk-container-id-2 label.sk-toggleable__label-arrow:before {\n",
       "  /* Arrow on the left of the label */\n",
       "  content: \"▸\";\n",
       "  float: left;\n",
       "  margin-right: 0.25em;\n",
       "  color: var(--sklearn-color-icon);\n",
       "}\n",
       "\n",
       "#sk-container-id-2 label.sk-toggleable__label-arrow:hover:before {\n",
       "  color: var(--sklearn-color-text);\n",
       "}\n",
       "\n",
       "/* Toggleable content - dropdown */\n",
       "\n",
       "#sk-container-id-2 div.sk-toggleable__content {\n",
       "  max-height: 0;\n",
       "  max-width: 0;\n",
       "  overflow: hidden;\n",
       "  text-align: left;\n",
       "  /* unfitted */\n",
       "  background-color: var(--sklearn-color-unfitted-level-0);\n",
       "}\n",
       "\n",
       "#sk-container-id-2 div.sk-toggleable__content.fitted {\n",
       "  /* fitted */\n",
       "  background-color: var(--sklearn-color-fitted-level-0);\n",
       "}\n",
       "\n",
       "#sk-container-id-2 div.sk-toggleable__content pre {\n",
       "  margin: 0.2em;\n",
       "  border-radius: 0.25em;\n",
       "  color: var(--sklearn-color-text);\n",
       "  /* unfitted */\n",
       "  background-color: var(--sklearn-color-unfitted-level-0);\n",
       "}\n",
       "\n",
       "#sk-container-id-2 div.sk-toggleable__content.fitted pre {\n",
       "  /* unfitted */\n",
       "  background-color: var(--sklearn-color-fitted-level-0);\n",
       "}\n",
       "\n",
       "#sk-container-id-2 input.sk-toggleable__control:checked~div.sk-toggleable__content {\n",
       "  /* Expand drop-down */\n",
       "  max-height: 200px;\n",
       "  max-width: 100%;\n",
       "  overflow: auto;\n",
       "}\n",
       "\n",
       "#sk-container-id-2 input.sk-toggleable__control:checked~label.sk-toggleable__label-arrow:before {\n",
       "  content: \"▾\";\n",
       "}\n",
       "\n",
       "/* Pipeline/ColumnTransformer-specific style */\n",
       "\n",
       "#sk-container-id-2 div.sk-label input.sk-toggleable__control:checked~label.sk-toggleable__label {\n",
       "  color: var(--sklearn-color-text);\n",
       "  background-color: var(--sklearn-color-unfitted-level-2);\n",
       "}\n",
       "\n",
       "#sk-container-id-2 div.sk-label.fitted input.sk-toggleable__control:checked~label.sk-toggleable__label {\n",
       "  background-color: var(--sklearn-color-fitted-level-2);\n",
       "}\n",
       "\n",
       "/* Estimator-specific style */\n",
       "\n",
       "/* Colorize estimator box */\n",
       "#sk-container-id-2 div.sk-estimator input.sk-toggleable__control:checked~label.sk-toggleable__label {\n",
       "  /* unfitted */\n",
       "  background-color: var(--sklearn-color-unfitted-level-2);\n",
       "}\n",
       "\n",
       "#sk-container-id-2 div.sk-estimator.fitted input.sk-toggleable__control:checked~label.sk-toggleable__label {\n",
       "  /* fitted */\n",
       "  background-color: var(--sklearn-color-fitted-level-2);\n",
       "}\n",
       "\n",
       "#sk-container-id-2 div.sk-label label.sk-toggleable__label,\n",
       "#sk-container-id-2 div.sk-label label {\n",
       "  /* The background is the default theme color */\n",
       "  color: var(--sklearn-color-text-on-default-background);\n",
       "}\n",
       "\n",
       "/* On hover, darken the color of the background */\n",
       "#sk-container-id-2 div.sk-label:hover label.sk-toggleable__label {\n",
       "  color: var(--sklearn-color-text);\n",
       "  background-color: var(--sklearn-color-unfitted-level-2);\n",
       "}\n",
       "\n",
       "/* Label box, darken color on hover, fitted */\n",
       "#sk-container-id-2 div.sk-label.fitted:hover label.sk-toggleable__label.fitted {\n",
       "  color: var(--sklearn-color-text);\n",
       "  background-color: var(--sklearn-color-fitted-level-2);\n",
       "}\n",
       "\n",
       "/* Estimator label */\n",
       "\n",
       "#sk-container-id-2 div.sk-label label {\n",
       "  font-family: monospace;\n",
       "  font-weight: bold;\n",
       "  display: inline-block;\n",
       "  line-height: 1.2em;\n",
       "}\n",
       "\n",
       "#sk-container-id-2 div.sk-label-container {\n",
       "  text-align: center;\n",
       "}\n",
       "\n",
       "/* Estimator-specific */\n",
       "#sk-container-id-2 div.sk-estimator {\n",
       "  font-family: monospace;\n",
       "  border: 1px dotted var(--sklearn-color-border-box);\n",
       "  border-radius: 0.25em;\n",
       "  box-sizing: border-box;\n",
       "  margin-bottom: 0.5em;\n",
       "  /* unfitted */\n",
       "  background-color: var(--sklearn-color-unfitted-level-0);\n",
       "}\n",
       "\n",
       "#sk-container-id-2 div.sk-estimator.fitted {\n",
       "  /* fitted */\n",
       "  background-color: var(--sklearn-color-fitted-level-0);\n",
       "}\n",
       "\n",
       "/* on hover */\n",
       "#sk-container-id-2 div.sk-estimator:hover {\n",
       "  /* unfitted */\n",
       "  background-color: var(--sklearn-color-unfitted-level-2);\n",
       "}\n",
       "\n",
       "#sk-container-id-2 div.sk-estimator.fitted:hover {\n",
       "  /* fitted */\n",
       "  background-color: var(--sklearn-color-fitted-level-2);\n",
       "}\n",
       "\n",
       "/* Specification for estimator info (e.g. \"i\" and \"?\") */\n",
       "\n",
       "/* Common style for \"i\" and \"?\" */\n",
       "\n",
       ".sk-estimator-doc-link,\n",
       "a:link.sk-estimator-doc-link,\n",
       "a:visited.sk-estimator-doc-link {\n",
       "  float: right;\n",
       "  font-size: smaller;\n",
       "  line-height: 1em;\n",
       "  font-family: monospace;\n",
       "  background-color: var(--sklearn-color-background);\n",
       "  border-radius: 1em;\n",
       "  height: 1em;\n",
       "  width: 1em;\n",
       "  text-decoration: none !important;\n",
       "  margin-left: 1ex;\n",
       "  /* unfitted */\n",
       "  border: var(--sklearn-color-unfitted-level-1) 1pt solid;\n",
       "  color: var(--sklearn-color-unfitted-level-1);\n",
       "}\n",
       "\n",
       ".sk-estimator-doc-link.fitted,\n",
       "a:link.sk-estimator-doc-link.fitted,\n",
       "a:visited.sk-estimator-doc-link.fitted {\n",
       "  /* fitted */\n",
       "  border: var(--sklearn-color-fitted-level-1) 1pt solid;\n",
       "  color: var(--sklearn-color-fitted-level-1);\n",
       "}\n",
       "\n",
       "/* On hover */\n",
       "div.sk-estimator:hover .sk-estimator-doc-link:hover,\n",
       ".sk-estimator-doc-link:hover,\n",
       "div.sk-label-container:hover .sk-estimator-doc-link:hover,\n",
       ".sk-estimator-doc-link:hover {\n",
       "  /* unfitted */\n",
       "  background-color: var(--sklearn-color-unfitted-level-3);\n",
       "  color: var(--sklearn-color-background);\n",
       "  text-decoration: none;\n",
       "}\n",
       "\n",
       "div.sk-estimator.fitted:hover .sk-estimator-doc-link.fitted:hover,\n",
       ".sk-estimator-doc-link.fitted:hover,\n",
       "div.sk-label-container:hover .sk-estimator-doc-link.fitted:hover,\n",
       ".sk-estimator-doc-link.fitted:hover {\n",
       "  /* fitted */\n",
       "  background-color: var(--sklearn-color-fitted-level-3);\n",
       "  color: var(--sklearn-color-background);\n",
       "  text-decoration: none;\n",
       "}\n",
       "\n",
       "/* Span, style for the box shown on hovering the info icon */\n",
       ".sk-estimator-doc-link span {\n",
       "  display: none;\n",
       "  z-index: 9999;\n",
       "  position: relative;\n",
       "  font-weight: normal;\n",
       "  right: .2ex;\n",
       "  padding: .5ex;\n",
       "  margin: .5ex;\n",
       "  width: min-content;\n",
       "  min-width: 20ex;\n",
       "  max-width: 50ex;\n",
       "  color: var(--sklearn-color-text);\n",
       "  box-shadow: 2pt 2pt 4pt #999;\n",
       "  /* unfitted */\n",
       "  background: var(--sklearn-color-unfitted-level-0);\n",
       "  border: .5pt solid var(--sklearn-color-unfitted-level-3);\n",
       "}\n",
       "\n",
       ".sk-estimator-doc-link.fitted span {\n",
       "  /* fitted */\n",
       "  background: var(--sklearn-color-fitted-level-0);\n",
       "  border: var(--sklearn-color-fitted-level-3);\n",
       "}\n",
       "\n",
       ".sk-estimator-doc-link:hover span {\n",
       "  display: block;\n",
       "}\n",
       "\n",
       "/* \"?\"-specific style due to the `<a>` HTML tag */\n",
       "\n",
       "#sk-container-id-2 a.estimator_doc_link {\n",
       "  float: right;\n",
       "  font-size: 1rem;\n",
       "  line-height: 1em;\n",
       "  font-family: monospace;\n",
       "  background-color: var(--sklearn-color-background);\n",
       "  border-radius: 1rem;\n",
       "  height: 1rem;\n",
       "  width: 1rem;\n",
       "  text-decoration: none;\n",
       "  /* unfitted */\n",
       "  color: var(--sklearn-color-unfitted-level-1);\n",
       "  border: var(--sklearn-color-unfitted-level-1) 1pt solid;\n",
       "}\n",
       "\n",
       "#sk-container-id-2 a.estimator_doc_link.fitted {\n",
       "  /* fitted */\n",
       "  border: var(--sklearn-color-fitted-level-1) 1pt solid;\n",
       "  color: var(--sklearn-color-fitted-level-1);\n",
       "}\n",
       "\n",
       "/* On hover */\n",
       "#sk-container-id-2 a.estimator_doc_link:hover {\n",
       "  /* unfitted */\n",
       "  background-color: var(--sklearn-color-unfitted-level-3);\n",
       "  color: var(--sklearn-color-background);\n",
       "  text-decoration: none;\n",
       "}\n",
       "\n",
       "#sk-container-id-2 a.estimator_doc_link.fitted:hover {\n",
       "  /* fitted */\n",
       "  background-color: var(--sklearn-color-fitted-level-3);\n",
       "}\n",
       "</style><div id=\"sk-container-id-2\" class=\"sk-top-container\"><div class=\"sk-text-repr-fallback\"><pre>RandomForestClassifier(max_depth=50, min_impurity_decrease=0,\n",
       "                       min_samples_leaf=10, min_samples_split=10,\n",
       "                       n_estimators=50, random_state=42)</pre><b>In a Jupyter environment, please rerun this cell to show the HTML representation or trust the notebook. <br />On GitHub, the HTML representation is unable to render, please try loading this page with nbviewer.org.</b></div><div class=\"sk-container\" hidden><div class=\"sk-item\"><div class=\"sk-estimator fitted sk-toggleable\"><input class=\"sk-toggleable__control sk-hidden--visually\" id=\"sk-estimator-id-2\" type=\"checkbox\" checked><label for=\"sk-estimator-id-2\" class=\"sk-toggleable__label fitted sk-toggleable__label-arrow fitted\">&nbsp;&nbsp;RandomForestClassifier<a class=\"sk-estimator-doc-link fitted\" rel=\"noreferrer\" target=\"_blank\" href=\"https://scikit-learn.org/1.4/modules/generated/sklearn.ensemble.RandomForestClassifier.html\">?<span>Documentation for RandomForestClassifier</span></a><span class=\"sk-estimator-doc-link fitted\">i<span>Fitted</span></span></label><div class=\"sk-toggleable__content fitted\"><pre>RandomForestClassifier(max_depth=50, min_impurity_decrease=0,\n",
       "                       min_samples_leaf=10, min_samples_split=10,\n",
       "                       n_estimators=50, random_state=42)</pre></div> </div></div></div></div>"
      ],
      "text/plain": [
       "RandomForestClassifier(max_depth=50, min_impurity_decrease=0,\n",
       "                       min_samples_leaf=10, min_samples_split=10,\n",
       "                       n_estimators=50, random_state=42)"
      ]
     },
     "execution_count": 9,
     "metadata": {},
     "output_type": "execute_result"
    }
   ],
   "source": [
    "# Training\n",
    "random_forest = RandomForestClassifier(**parameters, random_state=42)\n",
    "random_forest.fit(X_train, y_train)"
   ]
  },
  {
   "cell_type": "markdown",
   "id": "02f2be5c",
   "metadata": {
    "id": "02f2be5c"
   },
   "source": [
    "<h4>Making Predictions</h4>"
   ]
  },
  {
   "cell_type": "markdown",
   "id": "e67414ad",
   "metadata": {
    "id": "e67414ad"
   },
   "source": [
    "After training the classifier, we use it to make predictions on the test set.\n"
   ]
  },
  {
   "cell_type": "code",
   "execution_count": 10,
   "id": "158e92a8",
   "metadata": {
    "id": "158e92a8"
   },
   "outputs": [],
   "source": [
    "predictions = random_forest.predict(X_test)"
   ]
  },
  {
   "cell_type": "markdown",
   "id": "2c3f32b3",
   "metadata": {
    "id": "2c3f32b3"
   },
   "source": [
    "<h4>Evaluating Performance</h4>"
   ]
  },
  {
   "cell_type": "markdown",
   "id": "68086a36",
   "metadata": {
    "id": "68086a36"
   },
   "source": [
    "To evaluate the performance of the trained classifier, we calculate the accuracy score and recall score on the test set predictions.\n"
   ]
  },
  {
   "cell_type": "code",
   "execution_count": 11,
   "id": "74c0e652",
   "metadata": {
    "id": "74c0e652",
    "outputId": "6e3696be-fe42-4d12-f0ea-ce2b6c598099"
   },
   "outputs": [
    {
     "name": "stdout",
     "output_type": "stream",
     "text": [
      "Accuracy: 0.7679083094555874\n",
      "Recall score: 0.7678571428571429\n",
      "Confusion Matrix:\n",
      "[[235  71]\n",
      " [ 91 301]]\n"
     ]
    },
    {
     "data": {
      "image/png": "[encoded data removed]",
      "text/plain": [
       "<Figure size 576x432 with 2 Axes>"
      ]
     },
     "metadata": {
      "needs_background": "light"
     },
     "output_type": "display_data"
    }
   ],
   "source": [
    "# Accuracy score\n",
    "accuracy = accuracy_score(y_test, predictions)\n",
    "print(\"Accuracy:\", accuracy)\n",
    "\n",
    "# Recall score\n",
    "recall = recall_score(y_test, predictions)\n",
    "print(\"Recall score:\", recall)\n",
    "\n",
    "# Confusion matrix\n",
    "conf_matrix = confusion_matrix(y_test, predictions)\n",
    "print(\"Confusion Matrix:\")\n",
    "print(conf_matrix)\n",
    "\n",
    "# Visualize the confusion matrix\n",
    "plt.figure(figsize=(8, 6))\n",
    "sns.heatmap(conf_matrix, annot=True, fmt=\"d\", cmap=\"Blues\")\n",
    "plt.xlabel(\"Predicted Label\")\n",
    "plt.ylabel(\"True Label\")\n",
    "plt.title(\"Confusion Matrix\")\n",
    "plt.show()"
   ]
  },
  {
   "cell_type": "markdown",
   "id": "6eed5292",
   "metadata": {
    "id": "6eed5292"
   },
   "source": [
    "<h4>Feature Importance</h4>"
   ]
  },
  {
   "cell_type": "markdown",
   "id": "46247427",
   "metadata": {
    "id": "46247427"
   },
   "source": [
    "We extract the feature importances from the trained Random Forest Classifier to determine which features contribute the most to the predictions.\n"
   ]
  },
  {
   "cell_type": "code",
   "execution_count": 12,
   "id": "a480fc61",
   "metadata": {
    "id": "a480fc61",
    "outputId": "e3bb05b7-5df7-4edb-904c-139acb0ebed4"
   },
   "outputs": [
    {
     "name": "stdout",
     "output_type": "stream",
     "text": [
      "Age:0.18823737107524552\n",
      "FinancialEducation:0.05976056498610295\n",
      "RiskPropensity:0.06246219371472083\n",
      "Income:0.08433245201812727\n",
      "Wealth:0.24733979916920742\n",
      "Income/Wealth:0.357867619036596\n"
     ]
    }
   ],
   "source": [
    "# Features importance (impurity based)\n",
    "importances = random_forest.feature_importances_\n",
    "# Dictionary of features and their importance\n",
    "feature_importance_dict = {X.columns[i] : importances[i] for i in range(len(importances))}\n",
    "for feat, imp in feature_importance_dict.items():\n",
    "    print(f'{feat}:{imp}')"
   ]
  },
  {
   "cell_type": "markdown",
   "id": "67a03c2a",
   "metadata": {
    "id": "67a03c2a"
   },
   "source": [
    "The feature importances are based on the impurity-based criterion, which measures the decrease in impurity (e.g., Gini impurity or information gain) when a feature is used to split a node in a tree."
   ]
  },
  {
   "cell_type": "markdown",
   "id": "fd5fe91e",
   "metadata": {
    "id": "fd5fe91e"
   },
   "source": [
    "<h4>Saving Predictions</h4>"
   ]
  },
  {
   "cell_type": "markdown",
   "id": "5fd8e9d1",
   "metadata": {
    "id": "5fd8e9d1"
   },
   "source": [
    "Finally, we create a new DataFrame that includes the test set features and the Random Forest Classifier's predictions.\n"
   ]
  },
  {
   "cell_type": "code",
   "execution_count": 13,
   "id": "a1356fcd",
   "metadata": {
    "id": "a1356fcd",
    "outputId": "343c7568-f809-42f9-d621-624b6fe8ee05"
   },
   "outputs": [
    {
     "data": {
      "text/html": [
       "<div>\n",
       "<style scoped>\n",
       "    .dataframe tbody tr th:only-of-type {\n",
       "        vertical-align: middle;\n",
       "    }\n",
       "\n",
       "    .dataframe tbody tr th {\n",
       "        vertical-align: top;\n",
       "    }\n",
       "\n",
       "    .dataframe thead th {\n",
       "        text-align: right;\n",
       "    }\n",
       "</style>\n",
       "<table border=\"1\" class=\"dataframe\">\n",
       "  <thead>\n",
       "    <tr style=\"text-align: right;\">\n",
       "      <th></th>\n",
       "      <th>Age</th>\n",
       "      <th>FinancialEducation</th>\n",
       "      <th>RiskPropensity</th>\n",
       "      <th>Income</th>\n",
       "      <th>Wealth</th>\n",
       "      <th>Income/Wealth</th>\n",
       "      <th>MLP IncomeInvestment</th>\n",
       "      <th>RF IncomeInvestment</th>\n",
       "    </tr>\n",
       "  </thead>\n",
       "  <tbody>\n",
       "    <tr>\n",
       "      <th>179</th>\n",
       "      <td>0.518987</td>\n",
       "      <td>0.119366</td>\n",
       "      <td>0.166095</td>\n",
       "      <td>0.499077</td>\n",
       "      <td>0.447003</td>\n",
       "      <td>0.405424</td>\n",
       "      <td>1</td>\n",
       "      <td>1</td>\n",
       "    </tr>\n",
       "    <tr>\n",
       "      <th>2153</th>\n",
       "      <td>0.759494</td>\n",
       "      <td>0.568503</td>\n",
       "      <td>0.617078</td>\n",
       "      <td>0.902076</td>\n",
       "      <td>0.764515</td>\n",
       "      <td>0.381090</td>\n",
       "      <td>1</td>\n",
       "      <td>1</td>\n",
       "    </tr>\n",
       "    <tr>\n",
       "      <th>3234</th>\n",
       "      <td>0.582278</td>\n",
       "      <td>0.615310</td>\n",
       "      <td>0.398159</td>\n",
       "      <td>0.658283</td>\n",
       "      <td>0.661516</td>\n",
       "      <td>0.322413</td>\n",
       "      <td>1</td>\n",
       "      <td>1</td>\n",
       "    </tr>\n",
       "    <tr>\n",
       "      <th>184</th>\n",
       "      <td>0.582278</td>\n",
       "      <td>0.545493</td>\n",
       "      <td>0.482318</td>\n",
       "      <td>0.627178</td>\n",
       "      <td>0.580825</td>\n",
       "      <td>0.370585</td>\n",
       "      <td>1</td>\n",
       "      <td>1</td>\n",
       "    </tr>\n",
       "    <tr>\n",
       "      <th>1071</th>\n",
       "      <td>0.341772</td>\n",
       "      <td>0.610581</td>\n",
       "      <td>0.531877</td>\n",
       "      <td>0.845886</td>\n",
       "      <td>0.595056</td>\n",
       "      <td>0.487633</td>\n",
       "      <td>0</td>\n",
       "      <td>0</td>\n",
       "    </tr>\n",
       "  </tbody>\n",
       "</table>\n",
       "</div>"
      ],
      "text/plain": [
       "           Age  FinancialEducation  RiskPropensity    Income    Wealth  \\\n",
       "179   0.518987            0.119366        0.166095  0.499077  0.447003   \n",
       "2153  0.759494            0.568503        0.617078  0.902076  0.764515   \n",
       "3234  0.582278            0.615310        0.398159  0.658283  0.661516   \n",
       "184   0.582278            0.545493        0.482318  0.627178  0.580825   \n",
       "1071  0.341772            0.610581        0.531877  0.845886  0.595056   \n",
       "\n",
       "      Income/Wealth  MLP IncomeInvestment  RF IncomeInvestment  \n",
       "179        0.405424                     1                    1  \n",
       "2153       0.381090                     1                    1  \n",
       "3234       0.322413                     1                    1  \n",
       "184        0.370585                     1                    1  \n",
       "1071       0.487633                     0                    0  "
      ]
     },
     "execution_count": 13,
     "metadata": {},
     "output_type": "execute_result"
    }
   ],
   "source": [
    "dataset_with_predictions['RF IncomeInvestment'] = predictions\n",
    "dataset_with_predictions.head()"
   ]
  },
  {
   "cell_type": "markdown",
   "id": "d74a7e33",
   "metadata": {
    "id": "d74a7e33"
   },
   "source": [
    "## Logistic Regression"
   ]
  },
  {
   "cell_type": "markdown",
   "id": "82c7bd54",
   "metadata": {
    "id": "82c7bd54"
   },
   "source": [
    "We create an instance of the Logistic Regression model and fit it on the training data.\n"
   ]
  },
  {
   "cell_type": "code",
   "execution_count": 14,
   "id": "9c3f7ed4",
   "metadata": {
    "id": "9c3f7ed4",
    "outputId": "be95dcd3-3df6-48b1-88e0-95fba8ee1aa1"
   },
   "outputs": [
    {
     "data": {
      "text/html": [
       "<style>#sk-container-id-3 {\n",
       "  /* Definition of color scheme common for light and dark mode */\n",
       "  --sklearn-color-text: black;\n",
       "  --sklearn-color-line: gray;\n",
       "  /* Definition of color scheme for unfitted estimators */\n",
       "  --sklearn-color-unfitted-level-0: #fff5e6;\n",
       "  --sklearn-color-unfitted-level-1: #f6e4d2;\n",
       "  --sklearn-color-unfitted-level-2: #ffe0b3;\n",
       "  --sklearn-color-unfitted-level-3: chocolate;\n",
       "  /* Definition of color scheme for fitted estimators */\n",
       "  --sklearn-color-fitted-level-0: #f0f8ff;\n",
       "  --sklearn-color-fitted-level-1: #d4ebff;\n",
       "  --sklearn-color-fitted-level-2: #b3dbfd;\n",
       "  --sklearn-color-fitted-level-3: cornflowerblue;\n",
       "\n",
       "  /* Specific color for light theme */\n",
       "  --sklearn-color-text-on-default-background: var(--sg-text-color, var(--theme-code-foreground, var(--jp-content-font-color1, black)));\n",
       "  --sklearn-color-background: var(--sg-background-color, var(--theme-background, var(--jp-layout-color0, white)));\n",
       "  --sklearn-color-border-box: var(--sg-text-color, var(--theme-code-foreground, var(--jp-content-font-color1, black)));\n",
       "  --sklearn-color-icon: #696969;\n",
       "\n",
       "  @media (prefers-color-scheme: dark) {\n",
       "    /* Redefinition of color scheme for dark theme */\n",
       "    --sklearn-color-text-on-default-background: var(--sg-text-color, var(--theme-code-foreground, var(--jp-content-font-color1, white)));\n",
       "    --sklearn-color-background: var(--sg-background-color, var(--theme-background, var(--jp-layout-color0, #111)));\n",
       "    --sklearn-color-border-box: var(--sg-text-color, var(--theme-code-foreground, var(--jp-content-font-color1, white)));\n",
       "    --sklearn-color-icon: #878787;\n",
       "  }\n",
       "}\n",
       "\n",
       "#sk-container-id-3 {\n",
       "  color: var(--sklearn-color-text);\n",
       "}\n",
       "\n",
       "#sk-container-id-3 pre {\n",
       "  padding: 0;\n",
       "}\n",
       "\n",
       "#sk-container-id-3 input.sk-hidden--visually {\n",
       "  border: 0;\n",
       "  clip: rect(1px 1px 1px 1px);\n",
       "  clip: rect(1px, 1px, 1px, 1px);\n",
       "  height: 1px;\n",
       "  margin: -1px;\n",
       "  overflow: hidden;\n",
       "  padding: 0;\n",
       "  position: absolute;\n",
       "  width: 1px;\n",
       "}\n",
       "\n",
       "#sk-container-id-3 div.sk-dashed-wrapped {\n",
       "  border: 1px dashed var(--sklearn-color-line);\n",
       "  margin: 0 0.4em 0.5em 0.4em;\n",
       "  box-sizing: border-box;\n",
       "  padding-bottom: 0.4em;\n",
       "  background-color: var(--sklearn-color-background);\n",
       "}\n",
       "\n",
       "#sk-container-id-3 div.sk-container {\n",
       "  /* jupyter's `normalize.less` sets `[hidden] { display: none; }`\n",
       "     but bootstrap.min.css set `[hidden] { display: none !important; }`\n",
       "     so we also need the `!important` here to be able to override the\n",
       "     default hidden behavior on the sphinx rendered scikit-learn.org.\n",
       "     See: https://github.com/scikit-learn/scikit-learn/issues/21755 */\n",
       "  display: inline-block !important;\n",
       "  position: relative;\n",
       "}\n",
       "\n",
       "#sk-container-id-3 div.sk-text-repr-fallback {\n",
       "  display: none;\n",
       "}\n",
       "\n",
       "div.sk-parallel-item,\n",
       "div.sk-serial,\n",
       "div.sk-item {\n",
       "  /* draw centered vertical line to link estimators */\n",
       "  background-image: linear-gradient(var(--sklearn-color-text-on-default-background), var(--sklearn-color-text-on-default-background));\n",
       "  background-size: 2px 100%;\n",
       "  background-repeat: no-repeat;\n",
       "  background-position: center center;\n",
       "}\n",
       "\n",
       "/* Parallel-specific style estimator block */\n",
       "\n",
       "#sk-container-id-3 div.sk-parallel-item::after {\n",
       "  content: \"\";\n",
       "  width: 100%;\n",
       "  border-bottom: 2px solid var(--sklearn-color-text-on-default-background);\n",
       "  flex-grow: 1;\n",
       "}\n",
       "\n",
       "#sk-container-id-3 div.sk-parallel {\n",
       "  display: flex;\n",
       "  align-items: stretch;\n",
       "  justify-content: center;\n",
       "  background-color: var(--sklearn-color-background);\n",
       "  position: relative;\n",
       "}\n",
       "\n",
       "#sk-container-id-3 div.sk-parallel-item {\n",
       "  display: flex;\n",
       "  flex-direction: column;\n",
       "}\n",
       "\n",
       "#sk-container-id-3 div.sk-parallel-item:first-child::after {\n",
       "  align-self: flex-end;\n",
       "  width: 50%;\n",
       "}\n",
       "\n",
       "#sk-container-id-3 div.sk-parallel-item:last-child::after {\n",
       "  align-self: flex-start;\n",
       "  width: 50%;\n",
       "}\n",
       "\n",
       "#sk-container-id-3 div.sk-parallel-item:only-child::after {\n",
       "  width: 0;\n",
       "}\n",
       "\n",
       "/* Serial-specific style estimator block */\n",
       "\n",
       "#sk-container-id-3 div.sk-serial {\n",
       "  display: flex;\n",
       "  flex-direction: column;\n",
       "  align-items: center;\n",
       "  background-color: var(--sklearn-color-background);\n",
       "  padding-right: 1em;\n",
       "  padding-left: 1em;\n",
       "}\n",
       "\n",
       "\n",
       "/* Toggleable style: style used for estimator/Pipeline/ColumnTransformer box that is\n",
       "clickable and can be expanded/collapsed.\n",
       "- Pipeline and ColumnTransformer use this feature and define the default style\n",
       "- Estimators will overwrite some part of the style using the `sk-estimator` class\n",
       "*/\n",
       "\n",
       "/* Pipeline and ColumnTransformer style (default) */\n",
       "\n",
       "#sk-container-id-3 div.sk-toggleable {\n",
       "  /* Default theme specific background. It is overwritten whether we have a\n",
       "  specific estimator or a Pipeline/ColumnTransformer */\n",
       "  background-color: var(--sklearn-color-background);\n",
       "}\n",
       "\n",
       "/* Toggleable label */\n",
       "#sk-container-id-3 label.sk-toggleable__label {\n",
       "  cursor: pointer;\n",
       "  display: block;\n",
       "  width: 100%;\n",
       "  margin-bottom: 0;\n",
       "  padding: 0.5em;\n",
       "  box-sizing: border-box;\n",
       "  text-align: center;\n",
       "}\n",
       "\n",
       "#sk-container-id-3 label.sk-toggleable__label-arrow:before {\n",
       "  /* Arrow on the left of the label */\n",
       "  content: \"▸\";\n",
       "  float: left;\n",
       "  margin-right: 0.25em;\n",
       "  color: var(--sklearn-color-icon);\n",
       "}\n",
       "\n",
       "#sk-container-id-3 label.sk-toggleable__label-arrow:hover:before {\n",
       "  color: var(--sklearn-color-text);\n",
       "}\n",
       "\n",
       "/* Toggleable content - dropdown */\n",
       "\n",
       "#sk-container-id-3 div.sk-toggleable__content {\n",
       "  max-height: 0;\n",
       "  max-width: 0;\n",
       "  overflow: hidden;\n",
       "  text-align: left;\n",
       "  /* unfitted */\n",
       "  background-color: var(--sklearn-color-unfitted-level-0);\n",
       "}\n",
       "\n",
       "#sk-container-id-3 div.sk-toggleable__content.fitted {\n",
       "  /* fitted */\n",
       "  background-color: var(--sklearn-color-fitted-level-0);\n",
       "}\n",
       "\n",
       "#sk-container-id-3 div.sk-toggleable__content pre {\n",
       "  margin: 0.2em;\n",
       "  border-radius: 0.25em;\n",
       "  color: var(--sklearn-color-text);\n",
       "  /* unfitted */\n",
       "  background-color: var(--sklearn-color-unfitted-level-0);\n",
       "}\n",
       "\n",
       "#sk-container-id-3 div.sk-toggleable__content.fitted pre {\n",
       "  /* unfitted */\n",
       "  background-color: var(--sklearn-color-fitted-level-0);\n",
       "}\n",
       "\n",
       "#sk-container-id-3 input.sk-toggleable__control:checked~div.sk-toggleable__content {\n",
       "  /* Expand drop-down */\n",
       "  max-height: 200px;\n",
       "  max-width: 100%;\n",
       "  overflow: auto;\n",
       "}\n",
       "\n",
       "#sk-container-id-3 input.sk-toggleable__control:checked~label.sk-toggleable__label-arrow:before {\n",
       "  content: \"▾\";\n",
       "}\n",
       "\n",
       "/* Pipeline/ColumnTransformer-specific style */\n",
       "\n",
       "#sk-container-id-3 div.sk-label input.sk-toggleable__control:checked~label.sk-toggleable__label {\n",
       "  color: var(--sklearn-color-text);\n",
       "  background-color: var(--sklearn-color-unfitted-level-2);\n",
       "}\n",
       "\n",
       "#sk-container-id-3 div.sk-label.fitted input.sk-toggleable__control:checked~label.sk-toggleable__label {\n",
       "  background-color: var(--sklearn-color-fitted-level-2);\n",
       "}\n",
       "\n",
       "/* Estimator-specific style */\n",
       "\n",
       "/* Colorize estimator box */\n",
       "#sk-container-id-3 div.sk-estimator input.sk-toggleable__control:checked~label.sk-toggleable__label {\n",
       "  /* unfitted */\n",
       "  background-color: var(--sklearn-color-unfitted-level-2);\n",
       "}\n",
       "\n",
       "#sk-container-id-3 div.sk-estimator.fitted input.sk-toggleable__control:checked~label.sk-toggleable__label {\n",
       "  /* fitted */\n",
       "  background-color: var(--sklearn-color-fitted-level-2);\n",
       "}\n",
       "\n",
       "#sk-container-id-3 div.sk-label label.sk-toggleable__label,\n",
       "#sk-container-id-3 div.sk-label label {\n",
       "  /* The background is the default theme color */\n",
       "  color: var(--sklearn-color-text-on-default-background);\n",
       "}\n",
       "\n",
       "/* On hover, darken the color of the background */\n",
       "#sk-container-id-3 div.sk-label:hover label.sk-toggleable__label {\n",
       "  color: var(--sklearn-color-text);\n",
       "  background-color: var(--sklearn-color-unfitted-level-2);\n",
       "}\n",
       "\n",
       "/* Label box, darken color on hover, fitted */\n",
       "#sk-container-id-3 div.sk-label.fitted:hover label.sk-toggleable__label.fitted {\n",
       "  color: var(--sklearn-color-text);\n",
       "  background-color: var(--sklearn-color-fitted-level-2);\n",
       "}\n",
       "\n",
       "/* Estimator label */\n",
       "\n",
       "#sk-container-id-3 div.sk-label label {\n",
       "  font-family: monospace;\n",
       "  font-weight: bold;\n",
       "  display: inline-block;\n",
       "  line-height: 1.2em;\n",
       "}\n",
       "\n",
       "#sk-container-id-3 div.sk-label-container {\n",
       "  text-align: center;\n",
       "}\n",
       "\n",
       "/* Estimator-specific */\n",
       "#sk-container-id-3 div.sk-estimator {\n",
       "  font-family: monospace;\n",
       "  border: 1px dotted var(--sklearn-color-border-box);\n",
       "  border-radius: 0.25em;\n",
       "  box-sizing: border-box;\n",
       "  margin-bottom: 0.5em;\n",
       "  /* unfitted */\n",
       "  background-color: var(--sklearn-color-unfitted-level-0);\n",
       "}\n",
       "\n",
       "#sk-container-id-3 div.sk-estimator.fitted {\n",
       "  /* fitted */\n",
       "  background-color: var(--sklearn-color-fitted-level-0);\n",
       "}\n",
       "\n",
       "/* on hover */\n",
       "#sk-container-id-3 div.sk-estimator:hover {\n",
       "  /* unfitted */\n",
       "  background-color: var(--sklearn-color-unfitted-level-2);\n",
       "}\n",
       "\n",
       "#sk-container-id-3 div.sk-estimator.fitted:hover {\n",
       "  /* fitted */\n",
       "  background-color: var(--sklearn-color-fitted-level-2);\n",
       "}\n",
       "\n",
       "/* Specification for estimator info (e.g. \"i\" and \"?\") */\n",
       "\n",
       "/* Common style for \"i\" and \"?\" */\n",
       "\n",
       ".sk-estimator-doc-link,\n",
       "a:link.sk-estimator-doc-link,\n",
       "a:visited.sk-estimator-doc-link {\n",
       "  float: right;\n",
       "  font-size: smaller;\n",
       "  line-height: 1em;\n",
       "  font-family: monospace;\n",
       "  background-color: var(--sklearn-color-background);\n",
       "  border-radius: 1em;\n",
       "  height: 1em;\n",
       "  width: 1em;\n",
       "  text-decoration: none !important;\n",
       "  margin-left: 1ex;\n",
       "  /* unfitted */\n",
       "  border: var(--sklearn-color-unfitted-level-1) 1pt solid;\n",
       "  color: var(--sklearn-color-unfitted-level-1);\n",
       "}\n",
       "\n",
       ".sk-estimator-doc-link.fitted,\n",
       "a:link.sk-estimator-doc-link.fitted,\n",
       "a:visited.sk-estimator-doc-link.fitted {\n",
       "  /* fitted */\n",
       "  border: var(--sklearn-color-fitted-level-1) 1pt solid;\n",
       "  color: var(--sklearn-color-fitted-level-1);\n",
       "}\n",
       "\n",
       "/* On hover */\n",
       "div.sk-estimator:hover .sk-estimator-doc-link:hover,\n",
       ".sk-estimator-doc-link:hover,\n",
       "div.sk-label-container:hover .sk-estimator-doc-link:hover,\n",
       ".sk-estimator-doc-link:hover {\n",
       "  /* unfitted */\n",
       "  background-color: var(--sklearn-color-unfitted-level-3);\n",
       "  color: var(--sklearn-color-background);\n",
       "  text-decoration: none;\n",
       "}\n",
       "\n",
       "div.sk-estimator.fitted:hover .sk-estimator-doc-link.fitted:hover,\n",
       ".sk-estimator-doc-link.fitted:hover,\n",
       "div.sk-label-container:hover .sk-estimator-doc-link.fitted:hover,\n",
       ".sk-estimator-doc-link.fitted:hover {\n",
       "  /* fitted */\n",
       "  background-color: var(--sklearn-color-fitted-level-3);\n",
       "  color: var(--sklearn-color-background);\n",
       "  text-decoration: none;\n",
       "}\n",
       "\n",
       "/* Span, style for the box shown on hovering the info icon */\n",
       ".sk-estimator-doc-link span {\n",
       "  display: none;\n",
       "  z-index: 9999;\n",
       "  position: relative;\n",
       "  font-weight: normal;\n",
       "  right: .2ex;\n",
       "  padding: .5ex;\n",
       "  margin: .5ex;\n",
       "  width: min-content;\n",
       "  min-width: 20ex;\n",
       "  max-width: 50ex;\n",
       "  color: var(--sklearn-color-text);\n",
       "  box-shadow: 2pt 2pt 4pt #999;\n",
       "  /* unfitted */\n",
       "  background: var(--sklearn-color-unfitted-level-0);\n",
       "  border: .5pt solid var(--sklearn-color-unfitted-level-3);\n",
       "}\n",
       "\n",
       ".sk-estimator-doc-link.fitted span {\n",
       "  /* fitted */\n",
       "  background: var(--sklearn-color-fitted-level-0);\n",
       "  border: var(--sklearn-color-fitted-level-3);\n",
       "}\n",
       "\n",
       ".sk-estimator-doc-link:hover span {\n",
       "  display: block;\n",
       "}\n",
       "\n",
       "/* \"?\"-specific style due to the `<a>` HTML tag */\n",
       "\n",
       "#sk-container-id-3 a.estimator_doc_link {\n",
       "  float: right;\n",
       "  font-size: 1rem;\n",
       "  line-height: 1em;\n",
       "  font-family: monospace;\n",
       "  background-color: var(--sklearn-color-background);\n",
       "  border-radius: 1rem;\n",
       "  height: 1rem;\n",
       "  width: 1rem;\n",
       "  text-decoration: none;\n",
       "  /* unfitted */\n",
       "  color: var(--sklearn-color-unfitted-level-1);\n",
       "  border: var(--sklearn-color-unfitted-level-1) 1pt solid;\n",
       "}\n",
       "\n",
       "#sk-container-id-3 a.estimator_doc_link.fitted {\n",
       "  /* fitted */\n",
       "  border: var(--sklearn-color-fitted-level-1) 1pt solid;\n",
       "  color: var(--sklearn-color-fitted-level-1);\n",
       "}\n",
       "\n",
       "/* On hover */\n",
       "#sk-container-id-3 a.estimator_doc_link:hover {\n",
       "  /* unfitted */\n",
       "  background-color: var(--sklearn-color-unfitted-level-3);\n",
       "  color: var(--sklearn-color-background);\n",
       "  text-decoration: none;\n",
       "}\n",
       "\n",
       "#sk-container-id-3 a.estimator_doc_link.fitted:hover {\n",
       "  /* fitted */\n",
       "  background-color: var(--sklearn-color-fitted-level-3);\n",
       "}\n",
       "</style><div id=\"sk-container-id-3\" class=\"sk-top-container\"><div class=\"sk-text-repr-fallback\"><pre>LogisticRegression()</pre><b>In a Jupyter environment, please rerun this cell to show the HTML representation or trust the notebook. <br />On GitHub, the HTML representation is unable to render, please try loading this page with nbviewer.org.</b></div><div class=\"sk-container\" hidden><div class=\"sk-item\"><div class=\"sk-estimator fitted sk-toggleable\"><input class=\"sk-toggleable__control sk-hidden--visually\" id=\"sk-estimator-id-3\" type=\"checkbox\" checked><label for=\"sk-estimator-id-3\" class=\"sk-toggleable__label fitted sk-toggleable__label-arrow fitted\">&nbsp;&nbsp;LogisticRegression<a class=\"sk-estimator-doc-link fitted\" rel=\"noreferrer\" target=\"_blank\" href=\"https://scikit-learn.org/1.4/modules/generated/sklearn.linear_model.LogisticRegression.html\">?<span>Documentation for LogisticRegression</span></a><span class=\"sk-estimator-doc-link fitted\">i<span>Fitted</span></span></label><div class=\"sk-toggleable__content fitted\"><pre>LogisticRegression()</pre></div> </div></div></div></div>"
      ],
      "text/plain": [
       "LogisticRegression()"
      ]
     },
     "execution_count": 14,
     "metadata": {},
     "output_type": "execute_result"
    }
   ],
   "source": [
    "# Creating the logistic regression model\n",
    "model = LogisticRegression()\n",
    "\n",
    "# Fitting the model on the training data\n",
    "model.fit(X_train, y_train)"
   ]
  },
  {
   "cell_type": "markdown",
   "id": "77e77873",
   "metadata": {
    "id": "77e77873"
   },
   "source": [
    "<h4>Making Predictions and Calculating Metrics</h4>"
   ]
  },
  {
   "cell_type": "markdown",
   "id": "705d1e0b",
   "metadata": {
    "id": "705d1e0b"
   },
   "source": [
    "We make predictions on the testing data using the trained model and calculate accuracy and recall scores."
   ]
  },
  {
   "cell_type": "code",
   "execution_count": 15,
   "id": "413eba76",
   "metadata": {
    "id": "413eba76",
    "outputId": "fd177469-4b4a-4a17-8afd-82c56f6d23bf"
   },
   "outputs": [
    {
     "name": "stdout",
     "output_type": "stream",
     "text": [
      "Accuracy: 0.7363896848137536\n",
      "Recall: 0.7704081632653061\n"
     ]
    }
   ],
   "source": [
    "# Making predictions on the testing data\n",
    "y_pred = model.predict(X_test)\n",
    "\n",
    "# Calculating accuracy\n",
    "accuracy = accuracy_score(y_test, y_pred)\n",
    "print(\"Accuracy:\", accuracy)\n",
    "\n",
    "# Calculating recall\n",
    "recall = recall_score(y_test, y_pred)\n",
    "print(\"Recall:\", recall)"
   ]
  },
  {
   "cell_type": "markdown",
   "id": "356b551f",
   "metadata": {
    "id": "356b551f"
   },
   "source": [
    "<h4>ROC Curve and AUC Score</h4>"
   ]
  },
  {
   "cell_type": "markdown",
   "id": "c4d1b884",
   "metadata": {
    "id": "c4d1b884"
   },
   "source": [
    "We calculate the ROC curve and AUC score to evaluate the model's performance.\n"
   ]
  },
  {
   "cell_type": "code",
   "execution_count": 16,
   "id": "3442a971",
   "metadata": {
    "id": "3442a971",
    "outputId": "522ccdd6-7232-4adf-f097-89b568fe3301"
   },
   "outputs": [
    {
     "data": {
      "text/plain": [
       "<matplotlib.legend.Legend at 0x7fcf35411ae0>"
      ]
     },
     "execution_count": 16,
     "metadata": {},
     "output_type": "execute_result"
    },
    {
     "data": {
      "image/png": "[encoded data removed]",
      "text/plain": [
       "<Figure size 1080x432 with 1 Axes>"
      ]
     },
     "metadata": {
      "needs_background": "light"
     },
     "output_type": "display_data"
    }
   ],
   "source": [
    "# Calculating ROC curve and AUC score\n",
    "y_prob = model.predict_proba(X_test)[:, 1]\n",
    "fpr, tpr, thresholds_roc = roc_curve(y_test, y_prob)\n",
    "roc_auc = roc_auc_score(y_test, y_prob)\n",
    "\n",
    "# Plotting ROC curve\n",
    "plt.figure(figsize=(15, 6))\n",
    "\n",
    "plt.subplot(1, 2, 1)\n",
    "plt.plot(fpr, tpr, color='orange', lw=2, label='ROC curve (AUC = %0.2f)' % roc_auc)\n",
    "plt.plot([0, 1], [0, 1], color='blue', linestyle='--')\n",
    "plt.xlabel('False Positive Rate')\n",
    "plt.ylabel('True Positive Rate')\n",
    "plt.title('Receiver Operating Characteristic (ROC) Curve')\n",
    "plt.legend(loc='lower right')"
   ]
  },
  {
   "cell_type": "markdown",
   "id": "58f4b65b",
   "metadata": {
    "id": "58f4b65b"
   },
   "source": [
    "The ROC curve visualizes the trade-off between the true positive rate and false positive rate at various threshold settings. The AUC score summarizes the ROC curve into a single value, representing the probability that the model will rank a randomly chosen positive instance higher than a randomly chosen negative instance."
   ]
  },
  {
   "cell_type": "markdown",
   "id": "67e7fcbd",
   "metadata": {
    "id": "67e7fcbd"
   },
   "source": [
    "<h4>Precision-Recall Curve</h4>"
   ]
  },
  {
   "cell_type": "markdown",
   "id": "ff3da8c0",
   "metadata": {
    "id": "ff3da8c0"
   },
   "source": [
    "We also calculate the precision-recall curve to evaluate the model's performance.\n"
   ]
  },
  {
   "cell_type": "code",
   "execution_count": 17,
   "id": "e10c2c0b",
   "metadata": {
    "id": "e10c2c0b",
    "outputId": "99898025-8da4-4872-fa55-55a784eef5c5"
   },
   "outputs": [
    {
     "data": {
      "image/png": "[encoded data removed]",
      "text/plain": [
       "<Figure size 432x288 with 1 Axes>"
      ]
     },
     "metadata": {
      "needs_background": "light"
     },
     "output_type": "display_data"
    }
   ],
   "source": [
    "# Calculating precision-recall curve\n",
    "precision, recall, thresholds_pr = precision_recall_curve(y_test, y_prob)\n",
    "\n",
    "# Plotting precision-recall curve\n",
    "plt.subplot(1, 2, 2)\n",
    "plt.plot(recall, precision, color='blue', lw=2, label='Precision-Recall curve')\n",
    "plt.xlabel('Recall')\n",
    "plt.ylabel('Precision')\n",
    "plt.title('Precision-Recall Curve')\n",
    "plt.legend(loc='lower left')\n",
    "\n",
    "plt.tight_layout()\n",
    "plt.show()"
   ]
  },
  {
   "cell_type": "markdown",
   "id": "2d5133ed",
   "metadata": {
    "id": "2d5133ed"
   },
   "source": [
    "The precision-recall curve visualizes the trade-off between precision and recall at various threshold settings. It is particularly useful when dealing with imbalanced datasets, as it focuses on the performance on the positive class.\n"
   ]
  },
  {
   "cell_type": "markdown",
   "id": "1c9f38ce",
   "metadata": {
    "id": "1c9f38ce"
   },
   "source": [
    "<h4>Optimal Threshold Selection</h4>"
   ]
  },
  {
   "cell_type": "markdown",
   "id": "0192ec74",
   "metadata": {
    "id": "0192ec74"
   },
   "source": [
    "We find the optimal threshold that maximizes the accuracy on the ROC curve and the point closest to the top-right corner of the precision-recall curve.\n"
   ]
  },
  {
   "cell_type": "code",
   "execution_count": 18,
   "id": "a3e919b8",
   "metadata": {
    "id": "a3e919b8",
    "outputId": "53385add-60a0-41d1-f34e-5ac3a37a4c59"
   },
   "outputs": [
    {
     "name": "stdout",
     "output_type": "stream",
     "text": [
      "Optimal Threshold_ROC: 0.5669424342984343\n",
      "Corresponding TPR: 0.7193877551020408\n",
      "Corresponding FPR: 0.19607843137254902\n",
      "Optimal Threshold for balancing precision and recall: 0.5182130369476059\n",
      "Corresponding Precision: 0.7847769028871391\n",
      "Corresponding Recall: 0.7627551020408163\n"
     ]
    }
   ],
   "source": [
    "# Find the point closest to the top-left corner of the ROC curve\n",
    "min_distance = float('inf')\n",
    "optimal_threshold_roc = None\n",
    "optimal_tpr_roc = None\n",
    "optimal_fpr_roc = None\n",
    "\n",
    "for i in range(len(fpr)):\n",
    "    distance = ((fpr[i])**2 + (1 - tpr[i])**2)**0.5  # Euclidean distance form (0,1)\n",
    "    if distance < min_distance:\n",
    "        min_distance = distance\n",
    "        optimal_threshold_roc = thresholds_roc[i]\n",
    "        optimal_tpr_roc = tpr[i]\n",
    "        optimal_fpr_roc = fpr[i]\n",
    "\n",
    "print(\"Optimal Threshold_ROC:\", optimal_threshold_roc) # This should maximize the accuracy\n",
    "print(\"Corresponding TPR:\", optimal_tpr_roc)\n",
    "print(\"Corresponding FPR:\", optimal_fpr_roc)\n",
    "\n",
    "# Find the point closest to the top-right corner of the precision-recall curve\n",
    "min_distance = float('inf')\n",
    "optimal_threshold_pr = None\n",
    "optimal_precision = None\n",
    "optimal_recall = None\n",
    "\n",
    "for i in range(len(precision)):\n",
    "    distance = ((1 - recall[i])**2 + (1 - precision[i])**2)**0.5  # Euclidean distance formula\n",
    "    if distance < min_distance:\n",
    "        min_distance = distance\n",
    "        optimal_threshold_pr = thresholds_pr[i]\n",
    "        optimal_precision = precision[i]\n",
    "        optimal_recall = recall[i]\n",
    "\n",
    "print(\"Optimal Threshold for balancing precision and recall:\", optimal_threshold_pr)\n",
    "print(\"Corresponding Precision:\", optimal_precision)\n",
    "print(\"Corresponding Recall:\", optimal_recall)"
   ]
  },
  {
   "cell_type": "markdown",
   "id": "84586416",
   "metadata": {
    "id": "84586416"
   },
   "source": [
    "We select the optimal threshold based on the specific requirements of the problem. In this case, since the goal is to identify clients more likely to invest, we prioritize recall over accuracy."
   ]
  },
  {
   "cell_type": "markdown",
   "id": "81ddc0fb",
   "metadata": {
    "id": "81ddc0fb"
   },
   "source": [
    "<h4>Making Predictions with Optimal Thresholds</h4>"
   ]
  },
  {
   "cell_type": "markdown",
   "id": "4fec601d",
   "metadata": {
    "id": "4fec601d"
   },
   "source": [
    "We make predictions using the optimal thresholds from the ROC curve and precision-recall curve."
   ]
  },
  {
   "cell_type": "code",
   "execution_count": 19,
   "id": "4899a0b9",
   "metadata": {
    "id": "4899a0b9"
   },
   "outputs": [],
   "source": [
    "# Predictions using the optimal threshold from the roc-curv\n",
    "# Getting predicted probabilities\n",
    "y_prob = model.predict_proba(X_test)[:, 1]\n",
    "\n",
    "# Making predictions based on the adjusted threshold\n",
    "y_pred_opt_roc = (y_prob >= optimal_threshold_roc).astype(int)\n",
    "\n",
    "# Predictions using the optimal threshold from the precision-recall curve\n",
    "# Getting predicted probabilities\n",
    "y_prob = model.predict_proba(X_test)[:, 1]\n",
    "\n",
    "# Making predictions based on the adjusted threshold\n",
    "y_pred_opt_pr = (y_prob >= optimal_threshold_pr).astype(int)"
   ]
  },
  {
   "cell_type": "markdown",
   "id": "7fccaba9",
   "metadata": {
    "id": "7fccaba9"
   },
   "source": [
    "We compare the confusion matrices for the default threshold (0.5), the optimal threshold from the ROC curve, and the optimal threshold from the precision-recall curve.\n"
   ]
  },
  {
   "cell_type": "code",
   "execution_count": 20,
   "id": "24db265e",
   "metadata": {
    "id": "24db265e",
    "outputId": "2ef94676-84d8-47df-f0ff-fa8dec44104a"
   },
   "outputs": [
    {
     "name": "stdout",
     "output_type": "stream",
     "text": [
      "Confusion Matrix (threshold = 0.5):\n",
      "[[212  94]\n",
      " [ 90 302]]\n",
      "Confusion Matrix (threshold = optimal_roc):\n",
      "[[246  60]\n",
      " [110 282]]\n",
      "Confusion Matrix (threshold = optimal_pr):\n",
      "[[224  82]\n",
      " [ 93 299]]\n"
     ]
    },
    {
     "data": {
      "image/png": "[encoded data removed]",
      "text/plain": [
       "<Figure size 1080x288 with 6 Axes>"
      ]
     },
     "metadata": {
      "needs_background": "light"
     },
     "output_type": "display_data"
    }
   ],
   "source": [
    "# Plot confusion matrix with three thresholds: 0.5/optimal_roc/optimal_pr\n",
    "plt.figure(figsize = (15, 4))\n",
    "\n",
    "plt.subplot(1, 3, 1)\n",
    "conf_matrix = confusion_matrix(y_test, y_pred)\n",
    "print(\"Confusion Matrix (threshold = 0.5):\")\n",
    "print(conf_matrix)\n",
    "\n",
    "sns.heatmap(conf_matrix, annot=True, fmt=\"d\", cmap=\"Blues\")\n",
    "plt.xlabel(\"Predicted Label\")\n",
    "plt.ylabel(\"True Label\")\n",
    "plt.title(\"Confusion Matrix 0.5\")\n",
    "\n",
    "plt.subplot(1, 3, 2)\n",
    "conf_matrix = confusion_matrix(y_test, y_pred_opt_roc)\n",
    "print(\"Confusion Matrix (threshold = optimal_roc):\")\n",
    "print(conf_matrix)\n",
    "\n",
    "sns.heatmap(conf_matrix, annot=True, fmt=\"d\", cmap=\"Blues\")\n",
    "plt.xlabel(\"Predicted Label\")\n",
    "plt.ylabel(\"True Label\")\n",
    "plt.title(\"Confusion Matrix Optimal_ROC\")\n",
    "\n",
    "plt.subplot(1, 3, 3)\n",
    "conf_matrix = confusion_matrix(y_test, y_pred_opt_pr)\n",
    "print(\"Confusion Matrix (threshold = optimal_pr):\")\n",
    "print(conf_matrix)\n",
    "\n",
    "sns.heatmap(conf_matrix, annot=True, fmt=\"d\", cmap=\"Blues\")\n",
    "plt.xlabel(\"Predicted Label\")\n",
    "plt.ylabel(\"True Label\")\n",
    "plt.title(\"Confusion Matrix Optimal_PR\")\n",
    "\n",
    "plt.tight_layout()\n",
    "plt.show()"
   ]
  },
  {
   "cell_type": "markdown",
   "id": "9e1b07b6",
   "metadata": {
    "id": "9e1b07b6"
   },
   "source": [
    "Based on the analysis, we select the model using the optimal threshold from the precision-recall curve as it prioritizes the identification of clients more likely to invest.\n"
   ]
  },
  {
   "cell_type": "markdown",
   "id": "df39ae34",
   "metadata": {
    "id": "df39ae34"
   },
   "source": [
    "<h4>Saving Predictions</h4>"
   ]
  },
  {
   "cell_type": "markdown",
   "id": "c710a71e",
   "metadata": {
    "id": "c710a71e"
   },
   "source": [
    "Finally, we create a new DataFrame that includes the testing set features and the Logistic Regression model's predictions using the optimal threshold from the precision-recall curve.\n"
   ]
  },
  {
   "cell_type": "code",
   "execution_count": 21,
   "id": "c31d0ad6",
   "metadata": {
    "id": "c31d0ad6",
    "outputId": "53b16625-d4f1-44e7-85b4-c460b3e92edd"
   },
   "outputs": [
    {
     "data": {
      "text/html": [
       "<div>\n",
       "<style scoped>\n",
       "    .dataframe tbody tr th:only-of-type {\n",
       "        vertical-align: middle;\n",
       "    }\n",
       "\n",
       "    .dataframe tbody tr th {\n",
       "        vertical-align: top;\n",
       "    }\n",
       "\n",
       "    .dataframe thead th {\n",
       "        text-align: right;\n",
       "    }\n",
       "</style>\n",
       "<table border=\"1\" class=\"dataframe\">\n",
       "  <thead>\n",
       "    <tr style=\"text-align: right;\">\n",
       "      <th></th>\n",
       "      <th>Age</th>\n",
       "      <th>FinancialEducation</th>\n",
       "      <th>RiskPropensity</th>\n",
       "      <th>Income</th>\n",
       "      <th>Wealth</th>\n",
       "      <th>Income/Wealth</th>\n",
       "      <th>MLP IncomeInvestment</th>\n",
       "      <th>RF IncomeInvestment</th>\n",
       "      <th>LR IncomeInvestment</th>\n",
       "    </tr>\n",
       "  </thead>\n",
       "  <tbody>\n",
       "    <tr>\n",
       "      <th>179</th>\n",
       "      <td>0.518987</td>\n",
       "      <td>0.119366</td>\n",
       "      <td>0.166095</td>\n",
       "      <td>0.499077</td>\n",
       "      <td>0.447003</td>\n",
       "      <td>0.405424</td>\n",
       "      <td>1</td>\n",
       "      <td>1</td>\n",
       "      <td>1</td>\n",
       "    </tr>\n",
       "    <tr>\n",
       "      <th>2153</th>\n",
       "      <td>0.759494</td>\n",
       "      <td>0.568503</td>\n",
       "      <td>0.617078</td>\n",
       "      <td>0.902076</td>\n",
       "      <td>0.764515</td>\n",
       "      <td>0.381090</td>\n",
       "      <td>1</td>\n",
       "      <td>1</td>\n",
       "      <td>1</td>\n",
       "    </tr>\n",
       "    <tr>\n",
       "      <th>3234</th>\n",
       "      <td>0.582278</td>\n",
       "      <td>0.615310</td>\n",
       "      <td>0.398159</td>\n",
       "      <td>0.658283</td>\n",
       "      <td>0.661516</td>\n",
       "      <td>0.322413</td>\n",
       "      <td>1</td>\n",
       "      <td>1</td>\n",
       "      <td>1</td>\n",
       "    </tr>\n",
       "    <tr>\n",
       "      <th>184</th>\n",
       "      <td>0.582278</td>\n",
       "      <td>0.545493</td>\n",
       "      <td>0.482318</td>\n",
       "      <td>0.627178</td>\n",
       "      <td>0.580825</td>\n",
       "      <td>0.370585</td>\n",
       "      <td>1</td>\n",
       "      <td>1</td>\n",
       "      <td>1</td>\n",
       "    </tr>\n",
       "    <tr>\n",
       "      <th>1071</th>\n",
       "      <td>0.341772</td>\n",
       "      <td>0.610581</td>\n",
       "      <td>0.531877</td>\n",
       "      <td>0.845886</td>\n",
       "      <td>0.595056</td>\n",
       "      <td>0.487633</td>\n",
       "      <td>0</td>\n",
       "      <td>0</td>\n",
       "      <td>0</td>\n",
       "    </tr>\n",
       "  </tbody>\n",
       "</table>\n",
       "</div>"
      ],
      "text/plain": [
       "           Age  FinancialEducation  RiskPropensity    Income    Wealth  \\\n",
       "179   0.518987            0.119366        0.166095  0.499077  0.447003   \n",
       "2153  0.759494            0.568503        0.617078  0.902076  0.764515   \n",
       "3234  0.582278            0.615310        0.398159  0.658283  0.661516   \n",
       "184   0.582278            0.545493        0.482318  0.627178  0.580825   \n",
       "1071  0.341772            0.610581        0.531877  0.845886  0.595056   \n",
       "\n",
       "      Income/Wealth  MLP IncomeInvestment  RF IncomeInvestment  \\\n",
       "179        0.405424                     1                    1   \n",
       "2153       0.381090                     1                    1   \n",
       "3234       0.322413                     1                    1   \n",
       "184        0.370585                     1                    1   \n",
       "1071       0.487633                     0                    0   \n",
       "\n",
       "      LR IncomeInvestment  \n",
       "179                     1  \n",
       "2153                    1  \n",
       "3234                    1  \n",
       "184                     1  \n",
       "1071                    0  "
      ]
     },
     "execution_count": 21,
     "metadata": {},
     "output_type": "execute_result"
    }
   ],
   "source": [
    "dataset_with_predictions['LR IncomeInvestment'] = y_pred_opt_pr\n",
    "dataset_with_predictions.head()"
   ]
  },
  {
   "cell_type": "markdown",
   "id": "d1dcfbf3-415f-477c-a2a9-b02d89023c7f",
   "metadata": {
    "id": "d1dcfbf3-415f-477c-a2a9-b02d89023c7f"
   },
   "source": [
    "## K-Nearest Neighbors (KNN)"
   ]
  },
  {
   "cell_type": "markdown",
   "id": "83358385",
   "metadata": {
    "id": "83358385"
   },
   "source": [
    "In this section, we explore the process of training a K-Nearest Neighbors (KNN) model, optimizing the hyperparameter k, and evaluating its performance.\n"
   ]
  },
  {
   "cell_type": "markdown",
   "id": "ea4fc59b",
   "metadata": {
    "id": "ea4fc59b"
   },
   "source": [
    "<h4>Hyperparameter Optimization with Cross-Validation</h4>"
   ]
  },
  {
   "cell_type": "markdown",
   "id": "07a569c7",
   "metadata": {
    "id": "07a569c7"
   },
   "source": [
    "We start by defining a range of k values to test and perform 10-fold cross-validation for each k to determine the optimal value.\n"
   ]
  },
  {
   "cell_type": "code",
   "execution_count": 22,
   "id": "8fc4fdae",
   "metadata": {
    "id": "8fc4fdae"
   },
   "outputs": [],
   "source": [
    "# Define a range of k values to test\n",
    "k_values = range(1, 50)\n",
    "\n",
    "# Empty list to store cross-validation scores for each k\n",
    "cv_scores = []\n",
    "\n",
    "# Perform 10-fold cross-validation for each k\n",
    "for k in k_values:\n",
    "    knn_model = KNeighborsClassifier(n_neighbors=k)\n",
    "    scores = cross_val_score(knn_model, X_train, y_train, cv=10, scoring='accuracy')\n",
    "    cv_scores.append(scores.mean())"
   ]
  },
  {
   "cell_type": "markdown",
   "id": "2344024e",
   "metadata": {
    "id": "2344024e"
   },
   "source": [
    "<h4>Visualizing Cross-Validation Scores</h4>\n"
   ]
  },
  {
   "cell_type": "markdown",
   "id": "9e02e31d",
   "metadata": {
    "id": "9e02e31d"
   },
   "source": [
    "We plot the cross-validation scores for different values of k to identify the optimal k value.\n"
   ]
  },
  {
   "cell_type": "code",
   "execution_count": 23,
   "id": "4a0d3f6c",
   "metadata": {
    "id": "4a0d3f6c",
    "outputId": "b0d0f7f0-f5c5-4173-e2c9-26ae4b7b26d1"
   },
   "outputs": [
    {
     "data": {
      "image/png": "[encoded data removed]",
      "text/plain": [
       "<Figure size 720x432 with 1 Axes>"
      ]
     },
     "metadata": {
      "needs_background": "light"
     },
     "output_type": "display_data"
    }
   ],
   "source": [
    "plt.figure(figsize=(10, 6))\n",
    "plt.plot(k_values, cv_scores, marker='o', linestyle='-', color='orange')\n",
    "\n",
    "plt.axvline(x=13, color='r', linestyle='--', label='Optimal k = 13')\n",
    "\n",
    "plt.xlabel('Number of Neighbors (k)')\n",
    "plt.ylabel('Cross-Validation Accuracy')\n",
    "plt.title('Cross-Validation Scores for Different Values of k')\n",
    "plt.grid(True)\n",
    "plt.legend()\n",
    "plt.show()"
   ]
  },
  {
   "cell_type": "markdown",
   "id": "06d585f4",
   "metadata": {
    "id": "06d585f4"
   },
   "source": [
    "<h5>Comment:</h5>   \n",
    "The elbow point indicates that the optimal k value is around 13, where adding more complexity does not significantly improve accuracy."
   ]
  },
  {
   "cell_type": "markdown",
   "id": "7da3125c",
   "metadata": {
    "id": "7da3125c"
   },
   "source": [
    "<h4>Model Training and Evaluation</h4>"
   ]
  },
  {
   "cell_type": "markdown",
   "id": "98d06837",
   "metadata": {
    "id": "98d06837"
   },
   "source": [
    "We create the KNN model with the best k value found and evaluate its performance on the testing data.\n"
   ]
  },
  {
   "cell_type": "code",
   "execution_count": 24,
   "id": "80ae09ff",
   "metadata": {
    "id": "80ae09ff",
    "outputId": "e3670bef-fca2-407e-ebb9-d6e0fe494231"
   },
   "outputs": [
    {
     "name": "stdout",
     "output_type": "stream",
     "text": [
      "Accuracy: 0.7449856733524355\n",
      "Recall: 0.7168367346938775\n",
      "Confusion Matrix:\n",
      "[[239  67]\n",
      " [111 281]]\n"
     ]
    }
   ],
   "source": [
    "# Creating the KNN model with the best k found\n",
    "k_best = 13\n",
    "knn_model = KNeighborsClassifier(n_neighbors=k_best)\n",
    "\n",
    "# Fitting the model on the training data\n",
    "knn_model.fit(X_train, y_train)\n",
    "\n",
    "# Making predictions on the testing data\n",
    "y_pred_knn = knn_model.predict(X_test)\n",
    "\n",
    "# Evaluating the model\n",
    "accuracy_knn = accuracy_score(y_test, y_pred_knn)\n",
    "print(\"Accuracy:\", accuracy_knn)\n",
    "\n",
    "recall_knn = recall_score(y_test, y_pred_knn)\n",
    "print(\"Recall:\", recall_knn)\n",
    "\n",
    "conf_matrix = confusion_matrix(y_test, y_pred_knn)\n",
    "print(\"Confusion Matrix:\")\n",
    "print(conf_matrix)"
   ]
  },
  {
   "cell_type": "markdown",
   "id": "39c2dade",
   "metadata": {
    "id": "39c2dade"
   },
   "source": [
    "We plot the confusion matrix to visualize the model's performance in predicting the 'IncomeInvestment' label."
   ]
  },
  {
   "cell_type": "code",
   "execution_count": 25,
   "id": "b8f5a034",
   "metadata": {
    "id": "b8f5a034",
    "outputId": "3c6ade67-47ed-47a1-d288-60d31318b57a"
   },
   "outputs": [
    {
     "data": {
      "image/png": "[encoded data removed]",
      "text/plain": [
       "<Figure size 432x360 with 2 Axes>"
      ]
     },
     "metadata": {
      "needs_background": "light"
     },
     "output_type": "display_data"
    }
   ],
   "source": [
    "plt.figure(figsize=(6, 5))\n",
    "sns.heatmap(conf_matrix, annot=True, fmt=\"d\", cmap=\"Blues\")\n",
    "plt.xlabel(\"Predicted Label\")\n",
    "plt.ylabel(\"True Label\")\n",
    "plt.title(\"Confusion Matrix\")\n",
    "plt.tight_layout()\n",
    "plt.show()"
   ]
  },
  {
   "cell_type": "markdown",
   "id": "9475c5f6",
   "metadata": {
    "id": "9475c5f6"
   },
   "source": [
    "<h4>Saving Predictions</h4>\n"
   ]
  },
  {
   "cell_type": "markdown",
   "id": "8631a146",
   "metadata": {
    "id": "8631a146"
   },
   "source": [
    "Finally, we update the dataset with the KNN model's predictions for the 'IncomeInvestment' label.\n"
   ]
  },
  {
   "cell_type": "code",
   "execution_count": 26,
   "id": "f682dadf",
   "metadata": {
    "id": "f682dadf",
    "outputId": "9c4f11b0-8fe2-4d06-9a9e-cd67705b1a01"
   },
   "outputs": [
    {
     "data": {
      "text/html": [
       "<div>\n",
       "<style scoped>\n",
       "    .dataframe tbody tr th:only-of-type {\n",
       "        vertical-align: middle;\n",
       "    }\n",
       "\n",
       "    .dataframe tbody tr th {\n",
       "        vertical-align: top;\n",
       "    }\n",
       "\n",
       "    .dataframe thead th {\n",
       "        text-align: right;\n",
       "    }\n",
       "</style>\n",
       "<table border=\"1\" class=\"dataframe\">\n",
       "  <thead>\n",
       "    <tr style=\"text-align: right;\">\n",
       "      <th></th>\n",
       "      <th>Age</th>\n",
       "      <th>FinancialEducation</th>\n",
       "      <th>RiskPropensity</th>\n",
       "      <th>Income</th>\n",
       "      <th>Wealth</th>\n",
       "      <th>Income/Wealth</th>\n",
       "      <th>MLP IncomeInvestment</th>\n",
       "      <th>RF IncomeInvestment</th>\n",
       "      <th>LR IncomeInvestment</th>\n",
       "      <th>KNN IncomeInvestment</th>\n",
       "    </tr>\n",
       "  </thead>\n",
       "  <tbody>\n",
       "    <tr>\n",
       "      <th>179</th>\n",
       "      <td>0.518987</td>\n",
       "      <td>0.119366</td>\n",
       "      <td>0.166095</td>\n",
       "      <td>0.499077</td>\n",
       "      <td>0.447003</td>\n",
       "      <td>0.405424</td>\n",
       "      <td>1</td>\n",
       "      <td>1</td>\n",
       "      <td>1</td>\n",
       "      <td>1</td>\n",
       "    </tr>\n",
       "    <tr>\n",
       "      <th>2153</th>\n",
       "      <td>0.759494</td>\n",
       "      <td>0.568503</td>\n",
       "      <td>0.617078</td>\n",
       "      <td>0.902076</td>\n",
       "      <td>0.764515</td>\n",
       "      <td>0.381090</td>\n",
       "      <td>1</td>\n",
       "      <td>1</td>\n",
       "      <td>1</td>\n",
       "      <td>1</td>\n",
       "    </tr>\n",
       "    <tr>\n",
       "      <th>3234</th>\n",
       "      <td>0.582278</td>\n",
       "      <td>0.615310</td>\n",
       "      <td>0.398159</td>\n",
       "      <td>0.658283</td>\n",
       "      <td>0.661516</td>\n",
       "      <td>0.322413</td>\n",
       "      <td>1</td>\n",
       "      <td>1</td>\n",
       "      <td>1</td>\n",
       "      <td>1</td>\n",
       "    </tr>\n",
       "    <tr>\n",
       "      <th>184</th>\n",
       "      <td>0.582278</td>\n",
       "      <td>0.545493</td>\n",
       "      <td>0.482318</td>\n",
       "      <td>0.627178</td>\n",
       "      <td>0.580825</td>\n",
       "      <td>0.370585</td>\n",
       "      <td>1</td>\n",
       "      <td>1</td>\n",
       "      <td>1</td>\n",
       "      <td>1</td>\n",
       "    </tr>\n",
       "    <tr>\n",
       "      <th>1071</th>\n",
       "      <td>0.341772</td>\n",
       "      <td>0.610581</td>\n",
       "      <td>0.531877</td>\n",
       "      <td>0.845886</td>\n",
       "      <td>0.595056</td>\n",
       "      <td>0.487633</td>\n",
       "      <td>0</td>\n",
       "      <td>0</td>\n",
       "      <td>0</td>\n",
       "      <td>0</td>\n",
       "    </tr>\n",
       "  </tbody>\n",
       "</table>\n",
       "</div>"
      ],
      "text/plain": [
       "           Age  FinancialEducation  RiskPropensity    Income    Wealth  \\\n",
       "179   0.518987            0.119366        0.166095  0.499077  0.447003   \n",
       "2153  0.759494            0.568503        0.617078  0.902076  0.764515   \n",
       "3234  0.582278            0.615310        0.398159  0.658283  0.661516   \n",
       "184   0.582278            0.545493        0.482318  0.627178  0.580825   \n",
       "1071  0.341772            0.610581        0.531877  0.845886  0.595056   \n",
       "\n",
       "      Income/Wealth  MLP IncomeInvestment  RF IncomeInvestment  \\\n",
       "179        0.405424                     1                    1   \n",
       "2153       0.381090                     1                    1   \n",
       "3234       0.322413                     1                    1   \n",
       "184        0.370585                     1                    1   \n",
       "1071       0.487633                     0                    0   \n",
       "\n",
       "      LR IncomeInvestment  KNN IncomeInvestment  \n",
       "179                     1                     1  \n",
       "2153                    1                     1  \n",
       "3234                    1                     1  \n",
       "184                     1                     1  \n",
       "1071                    0                     0  "
      ]
     },
     "execution_count": 26,
     "metadata": {},
     "output_type": "execute_result"
    }
   ],
   "source": [
    "# Save the predictions\n",
    "dataset_with_predictions['KNN IncomeInvestment'] = y_pred_knn\n",
    "dataset_with_predictions.head()"
   ]
  },
  {
   "cell_type": "markdown",
   "id": "76e798fc-a035-4068-9ecc-7d5e72137748",
   "metadata": {
    "id": "76e798fc-a035-4068-9ecc-7d5e72137748"
   },
   "source": [
    "**Comment:**  \n",
    "The elbow is around 10/14 neighboors, after that it's no more convinient adding degrees of complexity since the accuracy gain wouldn't be enough."
   ]
  },
  {
   "cell_type": "markdown",
   "id": "d3835a4f-6f6b-4b73-be59-ac5bd2c65dad",
   "metadata": {
    "id": "d3835a4f-6f6b-4b73-be59-ac5bd2c65dad"
   },
   "source": [
    "## Support Vector Machine (SVM)"
   ]
  },
  {
   "cell_type": "markdown",
   "id": "6aef2827",
   "metadata": {
    "id": "6aef2827"
   },
   "source": [
    "In this section, we train a Support Vector Machine (SVM) model to predict the 'IncomeInvestment' label and evaluate its performance."
   ]
  },
  {
   "cell_type": "markdown",
   "id": "bf506d64",
   "metadata": {
    "id": "bf506d64"
   },
   "source": [
    "<h4>Model Initialization</h4>"
   ]
  },
  {
   "cell_type": "markdown",
   "id": "89a40094",
   "metadata": {
    "id": "89a40094"
   },
   "source": [
    "We start by creating an instance of the SVM model with the 'rbf' kernel and a random state of 42. The kernel and other parameters can be adjusted as needed to optimize the model's performance.\n"
   ]
  },
  {
   "cell_type": "code",
   "execution_count": 27,
   "id": "6c27aee1",
   "metadata": {
    "id": "6c27aee1"
   },
   "outputs": [],
   "source": [
    "svm_model = SVC(kernel='rbf', random_state=42)"
   ]
  },
  {
   "cell_type": "markdown",
   "id": "7f62b8c3",
   "metadata": {
    "id": "7f62b8c3"
   },
   "source": [
    "<h4>Model Training</h4>\n"
   ]
  },
  {
   "cell_type": "markdown",
   "id": "5d5ecb01",
   "metadata": {
    "id": "5d5ecb01"
   },
   "source": [
    "We fit the SVM model on the training data.\n"
   ]
  },
  {
   "cell_type": "code",
   "execution_count": 28,
   "id": "f055e97e",
   "metadata": {
    "id": "f055e97e",
    "outputId": "093c8fe6-c571-44fb-a6a5-8de96da40eac"
   },
   "outputs": [
    {
     "data": {
      "text/html": [
       "<style>#sk-container-id-4 {\n",
       "  /* Definition of color scheme common for light and dark mode */\n",
       "  --sklearn-color-text: black;\n",
       "  --sklearn-color-line: gray;\n",
       "  /* Definition of color scheme for unfitted estimators */\n",
       "  --sklearn-color-unfitted-level-0: #fff5e6;\n",
       "  --sklearn-color-unfitted-level-1: #f6e4d2;\n",
       "  --sklearn-color-unfitted-level-2: #ffe0b3;\n",
       "  --sklearn-color-unfitted-level-3: chocolate;\n",
       "  /* Definition of color scheme for fitted estimators */\n",
       "  --sklearn-color-fitted-level-0: #f0f8ff;\n",
       "  --sklearn-color-fitted-level-1: #d4ebff;\n",
       "  --sklearn-color-fitted-level-2: #b3dbfd;\n",
       "  --sklearn-color-fitted-level-3: cornflowerblue;\n",
       "\n",
       "  /* Specific color for light theme */\n",
       "  --sklearn-color-text-on-default-background: var(--sg-text-color, var(--theme-code-foreground, var(--jp-content-font-color1, black)));\n",
       "  --sklearn-color-background: var(--sg-background-color, var(--theme-background, var(--jp-layout-color0, white)));\n",
       "  --sklearn-color-border-box: var(--sg-text-color, var(--theme-code-foreground, var(--jp-content-font-color1, black)));\n",
       "  --sklearn-color-icon: #696969;\n",
       "\n",
       "  @media (prefers-color-scheme: dark) {\n",
       "    /* Redefinition of color scheme for dark theme */\n",
       "    --sklearn-color-text-on-default-background: var(--sg-text-color, var(--theme-code-foreground, var(--jp-content-font-color1, white)));\n",
       "    --sklearn-color-background: var(--sg-background-color, var(--theme-background, var(--jp-layout-color0, #111)));\n",
       "    --sklearn-color-border-box: var(--sg-text-color, var(--theme-code-foreground, var(--jp-content-font-color1, white)));\n",
       "    --sklearn-color-icon: #878787;\n",
       "  }\n",
       "}\n",
       "\n",
       "#sk-container-id-4 {\n",
       "  color: var(--sklearn-color-text);\n",
       "}\n",
       "\n",
       "#sk-container-id-4 pre {\n",
       "  padding: 0;\n",
       "}\n",
       "\n",
       "#sk-container-id-4 input.sk-hidden--visually {\n",
       "  border: 0;\n",
       "  clip: rect(1px 1px 1px 1px);\n",
       "  clip: rect(1px, 1px, 1px, 1px);\n",
       "  height: 1px;\n",
       "  margin: -1px;\n",
       "  overflow: hidden;\n",
       "  padding: 0;\n",
       "  position: absolute;\n",
       "  width: 1px;\n",
       "}\n",
       "\n",
       "#sk-container-id-4 div.sk-dashed-wrapped {\n",
       "  border: 1px dashed var(--sklearn-color-line);\n",
       "  margin: 0 0.4em 0.5em 0.4em;\n",
       "  box-sizing: border-box;\n",
       "  padding-bottom: 0.4em;\n",
       "  background-color: var(--sklearn-color-background);\n",
       "}\n",
       "\n",
       "#sk-container-id-4 div.sk-container {\n",
       "  /* jupyter's `normalize.less` sets `[hidden] { display: none; }`\n",
       "     but bootstrap.min.css set `[hidden] { display: none !important; }`\n",
       "     so we also need the `!important` here to be able to override the\n",
       "     default hidden behavior on the sphinx rendered scikit-learn.org.\n",
       "     See: https://github.com/scikit-learn/scikit-learn/issues/21755 */\n",
       "  display: inline-block !important;\n",
       "  position: relative;\n",
       "}\n",
       "\n",
       "#sk-container-id-4 div.sk-text-repr-fallback {\n",
       "  display: none;\n",
       "}\n",
       "\n",
       "div.sk-parallel-item,\n",
       "div.sk-serial,\n",
       "div.sk-item {\n",
       "  /* draw centered vertical line to link estimators */\n",
       "  background-image: linear-gradient(var(--sklearn-color-text-on-default-background), var(--sklearn-color-text-on-default-background));\n",
       "  background-size: 2px 100%;\n",
       "  background-repeat: no-repeat;\n",
       "  background-position: center center;\n",
       "}\n",
       "\n",
       "/* Parallel-specific style estimator block */\n",
       "\n",
       "#sk-container-id-4 div.sk-parallel-item::after {\n",
       "  content: \"\";\n",
       "  width: 100%;\n",
       "  border-bottom: 2px solid var(--sklearn-color-text-on-default-background);\n",
       "  flex-grow: 1;\n",
       "}\n",
       "\n",
       "#sk-container-id-4 div.sk-parallel {\n",
       "  display: flex;\n",
       "  align-items: stretch;\n",
       "  justify-content: center;\n",
       "  background-color: var(--sklearn-color-background);\n",
       "  position: relative;\n",
       "}\n",
       "\n",
       "#sk-container-id-4 div.sk-parallel-item {\n",
       "  display: flex;\n",
       "  flex-direction: column;\n",
       "}\n",
       "\n",
       "#sk-container-id-4 div.sk-parallel-item:first-child::after {\n",
       "  align-self: flex-end;\n",
       "  width: 50%;\n",
       "}\n",
       "\n",
       "#sk-container-id-4 div.sk-parallel-item:last-child::after {\n",
       "  align-self: flex-start;\n",
       "  width: 50%;\n",
       "}\n",
       "\n",
       "#sk-container-id-4 div.sk-parallel-item:only-child::after {\n",
       "  width: 0;\n",
       "}\n",
       "\n",
       "/* Serial-specific style estimator block */\n",
       "\n",
       "#sk-container-id-4 div.sk-serial {\n",
       "  display: flex;\n",
       "  flex-direction: column;\n",
       "  align-items: center;\n",
       "  background-color: var(--sklearn-color-background);\n",
       "  padding-right: 1em;\n",
       "  padding-left: 1em;\n",
       "}\n",
       "\n",
       "\n",
       "/* Toggleable style: style used for estimator/Pipeline/ColumnTransformer box that is\n",
       "clickable and can be expanded/collapsed.\n",
       "- Pipeline and ColumnTransformer use this feature and define the default style\n",
       "- Estimators will overwrite some part of the style using the `sk-estimator` class\n",
       "*/\n",
       "\n",
       "/* Pipeline and ColumnTransformer style (default) */\n",
       "\n",
       "#sk-container-id-4 div.sk-toggleable {\n",
       "  /* Default theme specific background. It is overwritten whether we have a\n",
       "  specific estimator or a Pipeline/ColumnTransformer */\n",
       "  background-color: var(--sklearn-color-background);\n",
       "}\n",
       "\n",
       "/* Toggleable label */\n",
       "#sk-container-id-4 label.sk-toggleable__label {\n",
       "  cursor: pointer;\n",
       "  display: block;\n",
       "  width: 100%;\n",
       "  margin-bottom: 0;\n",
       "  padding: 0.5em;\n",
       "  box-sizing: border-box;\n",
       "  text-align: center;\n",
       "}\n",
       "\n",
       "#sk-container-id-4 label.sk-toggleable__label-arrow:before {\n",
       "  /* Arrow on the left of the label */\n",
       "  content: \"▸\";\n",
       "  float: left;\n",
       "  margin-right: 0.25em;\n",
       "  color: var(--sklearn-color-icon);\n",
       "}\n",
       "\n",
       "#sk-container-id-4 label.sk-toggleable__label-arrow:hover:before {\n",
       "  color: var(--sklearn-color-text);\n",
       "}\n",
       "\n",
       "/* Toggleable content - dropdown */\n",
       "\n",
       "#sk-container-id-4 div.sk-toggleable__content {\n",
       "  max-height: 0;\n",
       "  max-width: 0;\n",
       "  overflow: hidden;\n",
       "  text-align: left;\n",
       "  /* unfitted */\n",
       "  background-color: var(--sklearn-color-unfitted-level-0);\n",
       "}\n",
       "\n",
       "#sk-container-id-4 div.sk-toggleable__content.fitted {\n",
       "  /* fitted */\n",
       "  background-color: var(--sklearn-color-fitted-level-0);\n",
       "}\n",
       "\n",
       "#sk-container-id-4 div.sk-toggleable__content pre {\n",
       "  margin: 0.2em;\n",
       "  border-radius: 0.25em;\n",
       "  color: var(--sklearn-color-text);\n",
       "  /* unfitted */\n",
       "  background-color: var(--sklearn-color-unfitted-level-0);\n",
       "}\n",
       "\n",
       "#sk-container-id-4 div.sk-toggleable__content.fitted pre {\n",
       "  /* unfitted */\n",
       "  background-color: var(--sklearn-color-fitted-level-0);\n",
       "}\n",
       "\n",
       "#sk-container-id-4 input.sk-toggleable__control:checked~div.sk-toggleable__content {\n",
       "  /* Expand drop-down */\n",
       "  max-height: 200px;\n",
       "  max-width: 100%;\n",
       "  overflow: auto;\n",
       "}\n",
       "\n",
       "#sk-container-id-4 input.sk-toggleable__control:checked~label.sk-toggleable__label-arrow:before {\n",
       "  content: \"▾\";\n",
       "}\n",
       "\n",
       "/* Pipeline/ColumnTransformer-specific style */\n",
       "\n",
       "#sk-container-id-4 div.sk-label input.sk-toggleable__control:checked~label.sk-toggleable__label {\n",
       "  color: var(--sklearn-color-text);\n",
       "  background-color: var(--sklearn-color-unfitted-level-2);\n",
       "}\n",
       "\n",
       "#sk-container-id-4 div.sk-label.fitted input.sk-toggleable__control:checked~label.sk-toggleable__label {\n",
       "  background-color: var(--sklearn-color-fitted-level-2);\n",
       "}\n",
       "\n",
       "/* Estimator-specific style */\n",
       "\n",
       "/* Colorize estimator box */\n",
       "#sk-container-id-4 div.sk-estimator input.sk-toggleable__control:checked~label.sk-toggleable__label {\n",
       "  /* unfitted */\n",
       "  background-color: var(--sklearn-color-unfitted-level-2);\n",
       "}\n",
       "\n",
       "#sk-container-id-4 div.sk-estimator.fitted input.sk-toggleable__control:checked~label.sk-toggleable__label {\n",
       "  /* fitted */\n",
       "  background-color: var(--sklearn-color-fitted-level-2);\n",
       "}\n",
       "\n",
       "#sk-container-id-4 div.sk-label label.sk-toggleable__label,\n",
       "#sk-container-id-4 div.sk-label label {\n",
       "  /* The background is the default theme color */\n",
       "  color: var(--sklearn-color-text-on-default-background);\n",
       "}\n",
       "\n",
       "/* On hover, darken the color of the background */\n",
       "#sk-container-id-4 div.sk-label:hover label.sk-toggleable__label {\n",
       "  color: var(--sklearn-color-text);\n",
       "  background-color: var(--sklearn-color-unfitted-level-2);\n",
       "}\n",
       "\n",
       "/* Label box, darken color on hover, fitted */\n",
       "#sk-container-id-4 div.sk-label.fitted:hover label.sk-toggleable__label.fitted {\n",
       "  color: var(--sklearn-color-text);\n",
       "  background-color: var(--sklearn-color-fitted-level-2);\n",
       "}\n",
       "\n",
       "/* Estimator label */\n",
       "\n",
       "#sk-container-id-4 div.sk-label label {\n",
       "  font-family: monospace;\n",
       "  font-weight: bold;\n",
       "  display: inline-block;\n",
       "  line-height: 1.2em;\n",
       "}\n",
       "\n",
       "#sk-container-id-4 div.sk-label-container {\n",
       "  text-align: center;\n",
       "}\n",
       "\n",
       "/* Estimator-specific */\n",
       "#sk-container-id-4 div.sk-estimator {\n",
       "  font-family: monospace;\n",
       "  border: 1px dotted var(--sklearn-color-border-box);\n",
       "  border-radius: 0.25em;\n",
       "  box-sizing: border-box;\n",
       "  margin-bottom: 0.5em;\n",
       "  /* unfitted */\n",
       "  background-color: var(--sklearn-color-unfitted-level-0);\n",
       "}\n",
       "\n",
       "#sk-container-id-4 div.sk-estimator.fitted {\n",
       "  /* fitted */\n",
       "  background-color: var(--sklearn-color-fitted-level-0);\n",
       "}\n",
       "\n",
       "/* on hover */\n",
       "#sk-container-id-4 div.sk-estimator:hover {\n",
       "  /* unfitted */\n",
       "  background-color: var(--sklearn-color-unfitted-level-2);\n",
       "}\n",
       "\n",
       "#sk-container-id-4 div.sk-estimator.fitted:hover {\n",
       "  /* fitted */\n",
       "  background-color: var(--sklearn-color-fitted-level-2);\n",
       "}\n",
       "\n",
       "/* Specification for estimator info (e.g. \"i\" and \"?\") */\n",
       "\n",
       "/* Common style for \"i\" and \"?\" */\n",
       "\n",
       ".sk-estimator-doc-link,\n",
       "a:link.sk-estimator-doc-link,\n",
       "a:visited.sk-estimator-doc-link {\n",
       "  float: right;\n",
       "  font-size: smaller;\n",
       "  line-height: 1em;\n",
       "  font-family: monospace;\n",
       "  background-color: var(--sklearn-color-background);\n",
       "  border-radius: 1em;\n",
       "  height: 1em;\n",
       "  width: 1em;\n",
       "  text-decoration: none !important;\n",
       "  margin-left: 1ex;\n",
       "  /* unfitted */\n",
       "  border: var(--sklearn-color-unfitted-level-1) 1pt solid;\n",
       "  color: var(--sklearn-color-unfitted-level-1);\n",
       "}\n",
       "\n",
       ".sk-estimator-doc-link.fitted,\n",
       "a:link.sk-estimator-doc-link.fitted,\n",
       "a:visited.sk-estimator-doc-link.fitted {\n",
       "  /* fitted */\n",
       "  border: var(--sklearn-color-fitted-level-1) 1pt solid;\n",
       "  color: var(--sklearn-color-fitted-level-1);\n",
       "}\n",
       "\n",
       "/* On hover */\n",
       "div.sk-estimator:hover .sk-estimator-doc-link:hover,\n",
       ".sk-estimator-doc-link:hover,\n",
       "div.sk-label-container:hover .sk-estimator-doc-link:hover,\n",
       ".sk-estimator-doc-link:hover {\n",
       "  /* unfitted */\n",
       "  background-color: var(--sklearn-color-unfitted-level-3);\n",
       "  color: var(--sklearn-color-background);\n",
       "  text-decoration: none;\n",
       "}\n",
       "\n",
       "div.sk-estimator.fitted:hover .sk-estimator-doc-link.fitted:hover,\n",
       ".sk-estimator-doc-link.fitted:hover,\n",
       "div.sk-label-container:hover .sk-estimator-doc-link.fitted:hover,\n",
       ".sk-estimator-doc-link.fitted:hover {\n",
       "  /* fitted */\n",
       "  background-color: var(--sklearn-color-fitted-level-3);\n",
       "  color: var(--sklearn-color-background);\n",
       "  text-decoration: none;\n",
       "}\n",
       "\n",
       "/* Span, style for the box shown on hovering the info icon */\n",
       ".sk-estimator-doc-link span {\n",
       "  display: none;\n",
       "  z-index: 9999;\n",
       "  position: relative;\n",
       "  font-weight: normal;\n",
       "  right: .2ex;\n",
       "  padding: .5ex;\n",
       "  margin: .5ex;\n",
       "  width: min-content;\n",
       "  min-width: 20ex;\n",
       "  max-width: 50ex;\n",
       "  color: var(--sklearn-color-text);\n",
       "  box-shadow: 2pt 2pt 4pt #999;\n",
       "  /* unfitted */\n",
       "  background: var(--sklearn-color-unfitted-level-0);\n",
       "  border: .5pt solid var(--sklearn-color-unfitted-level-3);\n",
       "}\n",
       "\n",
       ".sk-estimator-doc-link.fitted span {\n",
       "  /* fitted */\n",
       "  background: var(--sklearn-color-fitted-level-0);\n",
       "  border: var(--sklearn-color-fitted-level-3);\n",
       "}\n",
       "\n",
       ".sk-estimator-doc-link:hover span {\n",
       "  display: block;\n",
       "}\n",
       "\n",
       "/* \"?\"-specific style due to the `<a>` HTML tag */\n",
       "\n",
       "#sk-container-id-4 a.estimator_doc_link {\n",
       "  float: right;\n",
       "  font-size: 1rem;\n",
       "  line-height: 1em;\n",
       "  font-family: monospace;\n",
       "  background-color: var(--sklearn-color-background);\n",
       "  border-radius: 1rem;\n",
       "  height: 1rem;\n",
       "  width: 1rem;\n",
       "  text-decoration: none;\n",
       "  /* unfitted */\n",
       "  color: var(--sklearn-color-unfitted-level-1);\n",
       "  border: var(--sklearn-color-unfitted-level-1) 1pt solid;\n",
       "}\n",
       "\n",
       "#sk-container-id-4 a.estimator_doc_link.fitted {\n",
       "  /* fitted */\n",
       "  border: var(--sklearn-color-fitted-level-1) 1pt solid;\n",
       "  color: var(--sklearn-color-fitted-level-1);\n",
       "}\n",
       "\n",
       "/* On hover */\n",
       "#sk-container-id-4 a.estimator_doc_link:hover {\n",
       "  /* unfitted */\n",
       "  background-color: var(--sklearn-color-unfitted-level-3);\n",
       "  color: var(--sklearn-color-background);\n",
       "  text-decoration: none;\n",
       "}\n",
       "\n",
       "#sk-container-id-4 a.estimator_doc_link.fitted:hover {\n",
       "  /* fitted */\n",
       "  background-color: var(--sklearn-color-fitted-level-3);\n",
       "}\n",
       "</style><div id=\"sk-container-id-4\" class=\"sk-top-container\"><div class=\"sk-text-repr-fallback\"><pre>SVC(random_state=42)</pre><b>In a Jupyter environment, please rerun this cell to show the HTML representation or trust the notebook. <br />On GitHub, the HTML representation is unable to render, please try loading this page with nbviewer.org.</b></div><div class=\"sk-container\" hidden><div class=\"sk-item\"><div class=\"sk-estimator fitted sk-toggleable\"><input class=\"sk-toggleable__control sk-hidden--visually\" id=\"sk-estimator-id-4\" type=\"checkbox\" checked><label for=\"sk-estimator-id-4\" class=\"sk-toggleable__label fitted sk-toggleable__label-arrow fitted\">&nbsp;&nbsp;SVC<a class=\"sk-estimator-doc-link fitted\" rel=\"noreferrer\" target=\"_blank\" href=\"https://scikit-learn.org/1.4/modules/generated/sklearn.svm.SVC.html\">?<span>Documentation for SVC</span></a><span class=\"sk-estimator-doc-link fitted\">i<span>Fitted</span></span></label><div class=\"sk-toggleable__content fitted\"><pre>SVC(random_state=42)</pre></div> </div></div></div></div>"
      ],
      "text/plain": [
       "SVC(random_state=42)"
      ]
     },
     "execution_count": 28,
     "metadata": {},
     "output_type": "execute_result"
    }
   ],
   "source": [
    "svm_model.fit(X_train, y_train)"
   ]
  },
  {
   "cell_type": "markdown",
   "id": "86662a72",
   "metadata": {
    "id": "86662a72"
   },
   "source": [
    "<h4>Making Predictions</h4>"
   ]
  },
  {
   "cell_type": "markdown",
   "id": "1d623a2e",
   "metadata": {
    "id": "1d623a2e"
   },
   "source": [
    "After training the model, we use it to make predictions on the testing data.\n"
   ]
  },
  {
   "cell_type": "code",
   "execution_count": 29,
   "id": "4c34e98e",
   "metadata": {
    "id": "4c34e98e"
   },
   "outputs": [],
   "source": [
    "# Making predictions on the testing data\n",
    "y_pred_svm = svm_model.predict(X_test)"
   ]
  },
  {
   "cell_type": "markdown",
   "id": "9f6b156f",
   "metadata": {
    "id": "9f6b156f"
   },
   "source": [
    "<h4>Model Evaluation</h4>"
   ]
  },
  {
   "cell_type": "markdown",
   "id": "a683586a",
   "metadata": {
    "id": "a683586a"
   },
   "source": [
    "We evaluate the performance of the SVM model by calculating the accuracy and recall scores on the test set.\n"
   ]
  },
  {
   "cell_type": "code",
   "execution_count": 30,
   "id": "4d6c5a75",
   "metadata": {
    "id": "4d6c5a75",
    "outputId": "294d1aa6-6379-4381-cc19-ad671610d196"
   },
   "outputs": [
    {
     "name": "stdout",
     "output_type": "stream",
     "text": [
      "Accuracy: 0.7507163323782235\n",
      "Recall: 0.7193877551020408\n",
      "Confusion Matrix\n",
      "[[242  64]\n",
      " [110 282]]\n"
     ]
    }
   ],
   "source": [
    "# Evaluating the model\n",
    "accuracy_svm = accuracy_score(y_test, y_pred_svm)\n",
    "print(\"Accuracy:\", accuracy_svm)\n",
    "\n",
    "recall_svm = recall_score(y_test, y_pred_svm)\n",
    "print(\"Recall:\", recall_svm)\n",
    "\n",
    "conf_matrix = confusion_matrix(y_test, y_pred_svm)\n",
    "print(\"Confusion Matrix\")\n",
    "print(conf_matrix)"
   ]
  },
  {
   "cell_type": "markdown",
   "id": "c6133128",
   "metadata": {
    "id": "c6133128"
   },
   "source": [
    "We visualize the confusion matrix using a heatmap to better understand the model's performance."
   ]
  },
  {
   "cell_type": "code",
   "execution_count": 31,
   "id": "df0e7e0f",
   "metadata": {
    "id": "df0e7e0f",
    "outputId": "c1dbc7b5-5b2f-43fd-ce37-36ce31fc4008"
   },
   "outputs": [
    {
     "data": {
      "image/png": "[encoded data removed]",
      "text/plain": [
       "<Figure size 432x360 with 2 Axes>"
      ]
     },
     "metadata": {
      "needs_background": "light"
     },
     "output_type": "display_data"
    }
   ],
   "source": [
    "plt.figure(figsize=(6, 5))\n",
    "sns.heatmap(conf_matrix, annot=True, fmt=\"d\", cmap=\"Blues\")\n",
    "plt.xlabel(\"Predicted Label\")\n",
    "plt.ylabel(\"True Label\")\n",
    "plt.title(\"Confusion Matrix\")\n",
    "\n",
    "plt.tight_layout()\n",
    "plt.show()"
   ]
  },
  {
   "cell_type": "markdown",
   "id": "6df20403",
   "metadata": {
    "id": "6df20403"
   },
   "source": [
    "<h4>Saving Predictions</h4>"
   ]
  },
  {
   "cell_type": "markdown",
   "id": "ea31b654",
   "metadata": {
    "id": "ea31b654"
   },
   "source": [
    "Finally, we update the dataset with the SVM model's predictions for the 'IncomeInvestment' label.\n"
   ]
  },
  {
   "cell_type": "code",
   "execution_count": 32,
   "id": "77a2f957",
   "metadata": {
    "id": "77a2f957",
    "outputId": "c4803516-af55-4ca2-f1ff-5a5b148877ab"
   },
   "outputs": [
    {
     "data": {
      "text/html": [
       "<div>\n",
       "<style scoped>\n",
       "    .dataframe tbody tr th:only-of-type {\n",
       "        vertical-align: middle;\n",
       "    }\n",
       "\n",
       "    .dataframe tbody tr th {\n",
       "        vertical-align: top;\n",
       "    }\n",
       "\n",
       "    .dataframe thead th {\n",
       "        text-align: right;\n",
       "    }\n",
       "</style>\n",
       "<table border=\"1\" class=\"dataframe\">\n",
       "  <thead>\n",
       "    <tr style=\"text-align: right;\">\n",
       "      <th></th>\n",
       "      <th>Age</th>\n",
       "      <th>FinancialEducation</th>\n",
       "      <th>RiskPropensity</th>\n",
       "      <th>Income</th>\n",
       "      <th>Wealth</th>\n",
       "      <th>Income/Wealth</th>\n",
       "      <th>MLP IncomeInvestment</th>\n",
       "      <th>RF IncomeInvestment</th>\n",
       "      <th>LR IncomeInvestment</th>\n",
       "      <th>KNN IncomeInvestment</th>\n",
       "      <th>SVM IncomeInvestment</th>\n",
       "    </tr>\n",
       "  </thead>\n",
       "  <tbody>\n",
       "    <tr>\n",
       "      <th>179</th>\n",
       "      <td>0.518987</td>\n",
       "      <td>0.119366</td>\n",
       "      <td>0.166095</td>\n",
       "      <td>0.499077</td>\n",
       "      <td>0.447003</td>\n",
       "      <td>0.405424</td>\n",
       "      <td>1</td>\n",
       "      <td>1</td>\n",
       "      <td>1</td>\n",
       "      <td>1</td>\n",
       "      <td>1</td>\n",
       "    </tr>\n",
       "    <tr>\n",
       "      <th>2153</th>\n",
       "      <td>0.759494</td>\n",
       "      <td>0.568503</td>\n",
       "      <td>0.617078</td>\n",
       "      <td>0.902076</td>\n",
       "      <td>0.764515</td>\n",
       "      <td>0.381090</td>\n",
       "      <td>1</td>\n",
       "      <td>1</td>\n",
       "      <td>1</td>\n",
       "      <td>1</td>\n",
       "      <td>1</td>\n",
       "    </tr>\n",
       "    <tr>\n",
       "      <th>3234</th>\n",
       "      <td>0.582278</td>\n",
       "      <td>0.615310</td>\n",
       "      <td>0.398159</td>\n",
       "      <td>0.658283</td>\n",
       "      <td>0.661516</td>\n",
       "      <td>0.322413</td>\n",
       "      <td>1</td>\n",
       "      <td>1</td>\n",
       "      <td>1</td>\n",
       "      <td>1</td>\n",
       "      <td>1</td>\n",
       "    </tr>\n",
       "    <tr>\n",
       "      <th>184</th>\n",
       "      <td>0.582278</td>\n",
       "      <td>0.545493</td>\n",
       "      <td>0.482318</td>\n",
       "      <td>0.627178</td>\n",
       "      <td>0.580825</td>\n",
       "      <td>0.370585</td>\n",
       "      <td>1</td>\n",
       "      <td>1</td>\n",
       "      <td>1</td>\n",
       "      <td>1</td>\n",
       "      <td>1</td>\n",
       "    </tr>\n",
       "    <tr>\n",
       "      <th>1071</th>\n",
       "      <td>0.341772</td>\n",
       "      <td>0.610581</td>\n",
       "      <td>0.531877</td>\n",
       "      <td>0.845886</td>\n",
       "      <td>0.595056</td>\n",
       "      <td>0.487633</td>\n",
       "      <td>0</td>\n",
       "      <td>0</td>\n",
       "      <td>0</td>\n",
       "      <td>0</td>\n",
       "      <td>0</td>\n",
       "    </tr>\n",
       "  </tbody>\n",
       "</table>\n",
       "</div>"
      ],
      "text/plain": [
       "           Age  FinancialEducation  RiskPropensity    Income    Wealth  \\\n",
       "179   0.518987            0.119366        0.166095  0.499077  0.447003   \n",
       "2153  0.759494            0.568503        0.617078  0.902076  0.764515   \n",
       "3234  0.582278            0.615310        0.398159  0.658283  0.661516   \n",
       "184   0.582278            0.545493        0.482318  0.627178  0.580825   \n",
       "1071  0.341772            0.610581        0.531877  0.845886  0.595056   \n",
       "\n",
       "      Income/Wealth  MLP IncomeInvestment  RF IncomeInvestment  \\\n",
       "179        0.405424                     1                    1   \n",
       "2153       0.381090                     1                    1   \n",
       "3234       0.322413                     1                    1   \n",
       "184        0.370585                     1                    1   \n",
       "1071       0.487633                     0                    0   \n",
       "\n",
       "      LR IncomeInvestment  KNN IncomeInvestment  SVM IncomeInvestment  \n",
       "179                     1                     1                     1  \n",
       "2153                    1                     1                     1  \n",
       "3234                    1                     1                     1  \n",
       "184                     1                     1                     1  \n",
       "1071                    0                     0                     0  "
      ]
     },
     "execution_count": 32,
     "metadata": {},
     "output_type": "execute_result"
    }
   ],
   "source": [
    "# Save the predictions\n",
    "dataset_with_predictions['SVM IncomeInvestment'] = y_pred_svm\n",
    "dataset_with_predictions.head()"
   ]
  },
  {
   "cell_type": "markdown",
   "id": "XLzan46xJMQg",
   "metadata": {
    "id": "XLzan46xJMQg"
   },
   "source": [
    "## Gradient Boosting"
   ]
  },
  {
   "cell_type": "markdown",
   "id": "fe7d2bd0",
   "metadata": {
    "id": "fe7d2bd0"
   },
   "source": [
    "In this section, we train a Gradient Boosting Classifier model to predict the 'IncomeInvestment' label and evaluate its performance."
   ]
  },
  {
   "cell_type": "markdown",
   "id": "a90dfc7c",
   "metadata": {
    "id": "a90dfc7c"
   },
   "source": [
    "<h4>Model Initialization</h4>"
   ]
  },
  {
   "cell_type": "markdown",
   "id": "db2d5c9c",
   "metadata": {
    "id": "db2d5c9c"
   },
   "source": [
    "We initialize the Gradient Boosting Classifier with specific parameters such as the number of estimators, learning rate, and maximum depth of the individual regression estimators.\n"
   ]
  },
  {
   "cell_type": "code",
   "execution_count": 33,
   "id": "dc694001",
   "metadata": {
    "id": "dc694001"
   },
   "outputs": [],
   "source": [
    "gb_classifier = GradientBoostingClassifier(n_estimators=100, learning_rate=0.1, max_depth=3, random_state=42)"
   ]
  },
  {
   "cell_type": "markdown",
   "id": "20b027c2",
   "metadata": {
    "id": "20b027c2"
   },
   "source": [
    "<h4>Model Training</h4>"
   ]
  },
  {
   "cell_type": "markdown",
   "id": "08cd6c41",
   "metadata": {
    "id": "08cd6c41"
   },
   "source": [
    "We fit the Gradient Boosting Classifier model on the training data.\n"
   ]
  },
  {
   "cell_type": "code",
   "execution_count": 34,
   "id": "4aaa73fd",
   "metadata": {
    "id": "4aaa73fd",
    "outputId": "dc04579b-1d65-4f78-a073-d2c805016df4"
   },
   "outputs": [
    {
     "data": {
      "text/html": [
       "<style>#sk-container-id-5 {\n",
       "  /* Definition of color scheme common for light and dark mode */\n",
       "  --sklearn-color-text: black;\n",
       "  --sklearn-color-line: gray;\n",
       "  /* Definition of color scheme for unfitted estimators */\n",
       "  --sklearn-color-unfitted-level-0: #fff5e6;\n",
       "  --sklearn-color-unfitted-level-1: #f6e4d2;\n",
       "  --sklearn-color-unfitted-level-2: #ffe0b3;\n",
       "  --sklearn-color-unfitted-level-3: chocolate;\n",
       "  /* Definition of color scheme for fitted estimators */\n",
       "  --sklearn-color-fitted-level-0: #f0f8ff;\n",
       "  --sklearn-color-fitted-level-1: #d4ebff;\n",
       "  --sklearn-color-fitted-level-2: #b3dbfd;\n",
       "  --sklearn-color-fitted-level-3: cornflowerblue;\n",
       "\n",
       "  /* Specific color for light theme */\n",
       "  --sklearn-color-text-on-default-background: var(--sg-text-color, var(--theme-code-foreground, var(--jp-content-font-color1, black)));\n",
       "  --sklearn-color-background: var(--sg-background-color, var(--theme-background, var(--jp-layout-color0, white)));\n",
       "  --sklearn-color-border-box: var(--sg-text-color, var(--theme-code-foreground, var(--jp-content-font-color1, black)));\n",
       "  --sklearn-color-icon: #696969;\n",
       "\n",
       "  @media (prefers-color-scheme: dark) {\n",
       "    /* Redefinition of color scheme for dark theme */\n",
       "    --sklearn-color-text-on-default-background: var(--sg-text-color, var(--theme-code-foreground, var(--jp-content-font-color1, white)));\n",
       "    --sklearn-color-background: var(--sg-background-color, var(--theme-background, var(--jp-layout-color0, #111)));\n",
       "    --sklearn-color-border-box: var(--sg-text-color, var(--theme-code-foreground, var(--jp-content-font-color1, white)));\n",
       "    --sklearn-color-icon: #878787;\n",
       "  }\n",
       "}\n",
       "\n",
       "#sk-container-id-5 {\n",
       "  color: var(--sklearn-color-text);\n",
       "}\n",
       "\n",
       "#sk-container-id-5 pre {\n",
       "  padding: 0;\n",
       "}\n",
       "\n",
       "#sk-container-id-5 input.sk-hidden--visually {\n",
       "  border: 0;\n",
       "  clip: rect(1px 1px 1px 1px);\n",
       "  clip: rect(1px, 1px, 1px, 1px);\n",
       "  height: 1px;\n",
       "  margin: -1px;\n",
       "  overflow: hidden;\n",
       "  padding: 0;\n",
       "  position: absolute;\n",
       "  width: 1px;\n",
       "}\n",
       "\n",
       "#sk-container-id-5 div.sk-dashed-wrapped {\n",
       "  border: 1px dashed var(--sklearn-color-line);\n",
       "  margin: 0 0.4em 0.5em 0.4em;\n",
       "  box-sizing: border-box;\n",
       "  padding-bottom: 0.4em;\n",
       "  background-color: var(--sklearn-color-background);\n",
       "}\n",
       "\n",
       "#sk-container-id-5 div.sk-container {\n",
       "  /* jupyter's `normalize.less` sets `[hidden] { display: none; }`\n",
       "     but bootstrap.min.css set `[hidden] { display: none !important; }`\n",
       "     so we also need the `!important` here to be able to override the\n",
       "     default hidden behavior on the sphinx rendered scikit-learn.org.\n",
       "     See: https://github.com/scikit-learn/scikit-learn/issues/21755 */\n",
       "  display: inline-block !important;\n",
       "  position: relative;\n",
       "}\n",
       "\n",
       "#sk-container-id-5 div.sk-text-repr-fallback {\n",
       "  display: none;\n",
       "}\n",
       "\n",
       "div.sk-parallel-item,\n",
       "div.sk-serial,\n",
       "div.sk-item {\n",
       "  /* draw centered vertical line to link estimators */\n",
       "  background-image: linear-gradient(var(--sklearn-color-text-on-default-background), var(--sklearn-color-text-on-default-background));\n",
       "  background-size: 2px 100%;\n",
       "  background-repeat: no-repeat;\n",
       "  background-position: center center;\n",
       "}\n",
       "\n",
       "/* Parallel-specific style estimator block */\n",
       "\n",
       "#sk-container-id-5 div.sk-parallel-item::after {\n",
       "  content: \"\";\n",
       "  width: 100%;\n",
       "  border-bottom: 2px solid var(--sklearn-color-text-on-default-background);\n",
       "  flex-grow: 1;\n",
       "}\n",
       "\n",
       "#sk-container-id-5 div.sk-parallel {\n",
       "  display: flex;\n",
       "  align-items: stretch;\n",
       "  justify-content: center;\n",
       "  background-color: var(--sklearn-color-background);\n",
       "  position: relative;\n",
       "}\n",
       "\n",
       "#sk-container-id-5 div.sk-parallel-item {\n",
       "  display: flex;\n",
       "  flex-direction: column;\n",
       "}\n",
       "\n",
       "#sk-container-id-5 div.sk-parallel-item:first-child::after {\n",
       "  align-self: flex-end;\n",
       "  width: 50%;\n",
       "}\n",
       "\n",
       "#sk-container-id-5 div.sk-parallel-item:last-child::after {\n",
       "  align-self: flex-start;\n",
       "  width: 50%;\n",
       "}\n",
       "\n",
       "#sk-container-id-5 div.sk-parallel-item:only-child::after {\n",
       "  width: 0;\n",
       "}\n",
       "\n",
       "/* Serial-specific style estimator block */\n",
       "\n",
       "#sk-container-id-5 div.sk-serial {\n",
       "  display: flex;\n",
       "  flex-direction: column;\n",
       "  align-items: center;\n",
       "  background-color: var(--sklearn-color-background);\n",
       "  padding-right: 1em;\n",
       "  padding-left: 1em;\n",
       "}\n",
       "\n",
       "\n",
       "/* Toggleable style: style used for estimator/Pipeline/ColumnTransformer box that is\n",
       "clickable and can be expanded/collapsed.\n",
       "- Pipeline and ColumnTransformer use this feature and define the default style\n",
       "- Estimators will overwrite some part of the style using the `sk-estimator` class\n",
       "*/\n",
       "\n",
       "/* Pipeline and ColumnTransformer style (default) */\n",
       "\n",
       "#sk-container-id-5 div.sk-toggleable {\n",
       "  /* Default theme specific background. It is overwritten whether we have a\n",
       "  specific estimator or a Pipeline/ColumnTransformer */\n",
       "  background-color: var(--sklearn-color-background);\n",
       "}\n",
       "\n",
       "/* Toggleable label */\n",
       "#sk-container-id-5 label.sk-toggleable__label {\n",
       "  cursor: pointer;\n",
       "  display: block;\n",
       "  width: 100%;\n",
       "  margin-bottom: 0;\n",
       "  padding: 0.5em;\n",
       "  box-sizing: border-box;\n",
       "  text-align: center;\n",
       "}\n",
       "\n",
       "#sk-container-id-5 label.sk-toggleable__label-arrow:before {\n",
       "  /* Arrow on the left of the label */\n",
       "  content: \"▸\";\n",
       "  float: left;\n",
       "  margin-right: 0.25em;\n",
       "  color: var(--sklearn-color-icon);\n",
       "}\n",
       "\n",
       "#sk-container-id-5 label.sk-toggleable__label-arrow:hover:before {\n",
       "  color: var(--sklearn-color-text);\n",
       "}\n",
       "\n",
       "/* Toggleable content - dropdown */\n",
       "\n",
       "#sk-container-id-5 div.sk-toggleable__content {\n",
       "  max-height: 0;\n",
       "  max-width: 0;\n",
       "  overflow: hidden;\n",
       "  text-align: left;\n",
       "  /* unfitted */\n",
       "  background-color: var(--sklearn-color-unfitted-level-0);\n",
       "}\n",
       "\n",
       "#sk-container-id-5 div.sk-toggleable__content.fitted {\n",
       "  /* fitted */\n",
       "  background-color: var(--sklearn-color-fitted-level-0);\n",
       "}\n",
       "\n",
       "#sk-container-id-5 div.sk-toggleable__content pre {\n",
       "  margin: 0.2em;\n",
       "  border-radius: 0.25em;\n",
       "  color: var(--sklearn-color-text);\n",
       "  /* unfitted */\n",
       "  background-color: var(--sklearn-color-unfitted-level-0);\n",
       "}\n",
       "\n",
       "#sk-container-id-5 div.sk-toggleable__content.fitted pre {\n",
       "  /* unfitted */\n",
       "  background-color: var(--sklearn-color-fitted-level-0);\n",
       "}\n",
       "\n",
       "#sk-container-id-5 input.sk-toggleable__control:checked~div.sk-toggleable__content {\n",
       "  /* Expand drop-down */\n",
       "  max-height: 200px;\n",
       "  max-width: 100%;\n",
       "  overflow: auto;\n",
       "}\n",
       "\n",
       "#sk-container-id-5 input.sk-toggleable__control:checked~label.sk-toggleable__label-arrow:before {\n",
       "  content: \"▾\";\n",
       "}\n",
       "\n",
       "/* Pipeline/ColumnTransformer-specific style */\n",
       "\n",
       "#sk-container-id-5 div.sk-label input.sk-toggleable__control:checked~label.sk-toggleable__label {\n",
       "  color: var(--sklearn-color-text);\n",
       "  background-color: var(--sklearn-color-unfitted-level-2);\n",
       "}\n",
       "\n",
       "#sk-container-id-5 div.sk-label.fitted input.sk-toggleable__control:checked~label.sk-toggleable__label {\n",
       "  background-color: var(--sklearn-color-fitted-level-2);\n",
       "}\n",
       "\n",
       "/* Estimator-specific style */\n",
       "\n",
       "/* Colorize estimator box */\n",
       "#sk-container-id-5 div.sk-estimator input.sk-toggleable__control:checked~label.sk-toggleable__label {\n",
       "  /* unfitted */\n",
       "  background-color: var(--sklearn-color-unfitted-level-2);\n",
       "}\n",
       "\n",
       "#sk-container-id-5 div.sk-estimator.fitted input.sk-toggleable__control:checked~label.sk-toggleable__label {\n",
       "  /* fitted */\n",
       "  background-color: var(--sklearn-color-fitted-level-2);\n",
       "}\n",
       "\n",
       "#sk-container-id-5 div.sk-label label.sk-toggleable__label,\n",
       "#sk-container-id-5 div.sk-label label {\n",
       "  /* The background is the default theme color */\n",
       "  color: var(--sklearn-color-text-on-default-background);\n",
       "}\n",
       "\n",
       "/* On hover, darken the color of the background */\n",
       "#sk-container-id-5 div.sk-label:hover label.sk-toggleable__label {\n",
       "  color: var(--sklearn-color-text);\n",
       "  background-color: var(--sklearn-color-unfitted-level-2);\n",
       "}\n",
       "\n",
       "/* Label box, darken color on hover, fitted */\n",
       "#sk-container-id-5 div.sk-label.fitted:hover label.sk-toggleable__label.fitted {\n",
       "  color: var(--sklearn-color-text);\n",
       "  background-color: var(--sklearn-color-fitted-level-2);\n",
       "}\n",
       "\n",
       "/* Estimator label */\n",
       "\n",
       "#sk-container-id-5 div.sk-label label {\n",
       "  font-family: monospace;\n",
       "  font-weight: bold;\n",
       "  display: inline-block;\n",
       "  line-height: 1.2em;\n",
       "}\n",
       "\n",
       "#sk-container-id-5 div.sk-label-container {\n",
       "  text-align: center;\n",
       "}\n",
       "\n",
       "/* Estimator-specific */\n",
       "#sk-container-id-5 div.sk-estimator {\n",
       "  font-family: monospace;\n",
       "  border: 1px dotted var(--sklearn-color-border-box);\n",
       "  border-radius: 0.25em;\n",
       "  box-sizing: border-box;\n",
       "  margin-bottom: 0.5em;\n",
       "  /* unfitted */\n",
       "  background-color: var(--sklearn-color-unfitted-level-0);\n",
       "}\n",
       "\n",
       "#sk-container-id-5 div.sk-estimator.fitted {\n",
       "  /* fitted */\n",
       "  background-color: var(--sklearn-color-fitted-level-0);\n",
       "}\n",
       "\n",
       "/* on hover */\n",
       "#sk-container-id-5 div.sk-estimator:hover {\n",
       "  /* unfitted */\n",
       "  background-color: var(--sklearn-color-unfitted-level-2);\n",
       "}\n",
       "\n",
       "#sk-container-id-5 div.sk-estimator.fitted:hover {\n",
       "  /* fitted */\n",
       "  background-color: var(--sklearn-color-fitted-level-2);\n",
       "}\n",
       "\n",
       "/* Specification for estimator info (e.g. \"i\" and \"?\") */\n",
       "\n",
       "/* Common style for \"i\" and \"?\" */\n",
       "\n",
       ".sk-estimator-doc-link,\n",
       "a:link.sk-estimator-doc-link,\n",
       "a:visited.sk-estimator-doc-link {\n",
       "  float: right;\n",
       "  font-size: smaller;\n",
       "  line-height: 1em;\n",
       "  font-family: monospace;\n",
       "  background-color: var(--sklearn-color-background);\n",
       "  border-radius: 1em;\n",
       "  height: 1em;\n",
       "  width: 1em;\n",
       "  text-decoration: none !important;\n",
       "  margin-left: 1ex;\n",
       "  /* unfitted */\n",
       "  border: var(--sklearn-color-unfitted-level-1) 1pt solid;\n",
       "  color: var(--sklearn-color-unfitted-level-1);\n",
       "}\n",
       "\n",
       ".sk-estimator-doc-link.fitted,\n",
       "a:link.sk-estimator-doc-link.fitted,\n",
       "a:visited.sk-estimator-doc-link.fitted {\n",
       "  /* fitted */\n",
       "  border: var(--sklearn-color-fitted-level-1) 1pt solid;\n",
       "  color: var(--sklearn-color-fitted-level-1);\n",
       "}\n",
       "\n",
       "/* On hover */\n",
       "div.sk-estimator:hover .sk-estimator-doc-link:hover,\n",
       ".sk-estimator-doc-link:hover,\n",
       "div.sk-label-container:hover .sk-estimator-doc-link:hover,\n",
       ".sk-estimator-doc-link:hover {\n",
       "  /* unfitted */\n",
       "  background-color: var(--sklearn-color-unfitted-level-3);\n",
       "  color: var(--sklearn-color-background);\n",
       "  text-decoration: none;\n",
       "}\n",
       "\n",
       "div.sk-estimator.fitted:hover .sk-estimator-doc-link.fitted:hover,\n",
       ".sk-estimator-doc-link.fitted:hover,\n",
       "div.sk-label-container:hover .sk-estimator-doc-link.fitted:hover,\n",
       ".sk-estimator-doc-link.fitted:hover {\n",
       "  /* fitted */\n",
       "  background-color: var(--sklearn-color-fitted-level-3);\n",
       "  color: var(--sklearn-color-background);\n",
       "  text-decoration: none;\n",
       "}\n",
       "\n",
       "/* Span, style for the box shown on hovering the info icon */\n",
       ".sk-estimator-doc-link span {\n",
       "  display: none;\n",
       "  z-index: 9999;\n",
       "  position: relative;\n",
       "  font-weight: normal;\n",
       "  right: .2ex;\n",
       "  padding: .5ex;\n",
       "  margin: .5ex;\n",
       "  width: min-content;\n",
       "  min-width: 20ex;\n",
       "  max-width: 50ex;\n",
       "  color: var(--sklearn-color-text);\n",
       "  box-shadow: 2pt 2pt 4pt #999;\n",
       "  /* unfitted */\n",
       "  background: var(--sklearn-color-unfitted-level-0);\n",
       "  border: .5pt solid var(--sklearn-color-unfitted-level-3);\n",
       "}\n",
       "\n",
       ".sk-estimator-doc-link.fitted span {\n",
       "  /* fitted */\n",
       "  background: var(--sklearn-color-fitted-level-0);\n",
       "  border: var(--sklearn-color-fitted-level-3);\n",
       "}\n",
       "\n",
       ".sk-estimator-doc-link:hover span {\n",
       "  display: block;\n",
       "}\n",
       "\n",
       "/* \"?\"-specific style due to the `<a>` HTML tag */\n",
       "\n",
       "#sk-container-id-5 a.estimator_doc_link {\n",
       "  float: right;\n",
       "  font-size: 1rem;\n",
       "  line-height: 1em;\n",
       "  font-family: monospace;\n",
       "  background-color: var(--sklearn-color-background);\n",
       "  border-radius: 1rem;\n",
       "  height: 1rem;\n",
       "  width: 1rem;\n",
       "  text-decoration: none;\n",
       "  /* unfitted */\n",
       "  color: var(--sklearn-color-unfitted-level-1);\n",
       "  border: var(--sklearn-color-unfitted-level-1) 1pt solid;\n",
       "}\n",
       "\n",
       "#sk-container-id-5 a.estimator_doc_link.fitted {\n",
       "  /* fitted */\n",
       "  border: var(--sklearn-color-fitted-level-1) 1pt solid;\n",
       "  color: var(--sklearn-color-fitted-level-1);\n",
       "}\n",
       "\n",
       "/* On hover */\n",
       "#sk-container-id-5 a.estimator_doc_link:hover {\n",
       "  /* unfitted */\n",
       "  background-color: var(--sklearn-color-unfitted-level-3);\n",
       "  color: var(--sklearn-color-background);\n",
       "  text-decoration: none;\n",
       "}\n",
       "\n",
       "#sk-container-id-5 a.estimator_doc_link.fitted:hover {\n",
       "  /* fitted */\n",
       "  background-color: var(--sklearn-color-fitted-level-3);\n",
       "}\n",
       "</style><div id=\"sk-container-id-5\" class=\"sk-top-container\"><div class=\"sk-text-repr-fallback\"><pre>GradientBoostingClassifier(random_state=42)</pre><b>In a Jupyter environment, please rerun this cell to show the HTML representation or trust the notebook. <br />On GitHub, the HTML representation is unable to render, please try loading this page with nbviewer.org.</b></div><div class=\"sk-container\" hidden><div class=\"sk-item\"><div class=\"sk-estimator fitted sk-toggleable\"><input class=\"sk-toggleable__control sk-hidden--visually\" id=\"sk-estimator-id-5\" type=\"checkbox\" checked><label for=\"sk-estimator-id-5\" class=\"sk-toggleable__label fitted sk-toggleable__label-arrow fitted\">&nbsp;&nbsp;GradientBoostingClassifier<a class=\"sk-estimator-doc-link fitted\" rel=\"noreferrer\" target=\"_blank\" href=\"https://scikit-learn.org/1.4/modules/generated/sklearn.ensemble.GradientBoostingClassifier.html\">?<span>Documentation for GradientBoostingClassifier</span></a><span class=\"sk-estimator-doc-link fitted\">i<span>Fitted</span></span></label><div class=\"sk-toggleable__content fitted\"><pre>GradientBoostingClassifier(random_state=42)</pre></div> </div></div></div></div>"
      ],
      "text/plain": [
       "GradientBoostingClassifier(random_state=42)"
      ]
     },
     "execution_count": 34,
     "metadata": {},
     "output_type": "execute_result"
    }
   ],
   "source": [
    "gb_classifier.fit(X_train, y_train)"
   ]
  },
  {
   "cell_type": "markdown",
   "id": "4f84c9de",
   "metadata": {
    "id": "4f84c9de"
   },
   "source": [
    "<h4>Making Predictions</h4>"
   ]
  },
  {
   "cell_type": "markdown",
   "id": "4ae3a42d",
   "metadata": {
    "id": "4ae3a42d"
   },
   "source": [
    "After training the model, we use it to make predictions on the testing data.\n"
   ]
  },
  {
   "cell_type": "code",
   "execution_count": 35,
   "id": "e23b8afb",
   "metadata": {
    "id": "e23b8afb"
   },
   "outputs": [],
   "source": [
    "predictions_gb = gb_classifier.predict(X_test)"
   ]
  },
  {
   "cell_type": "markdown",
   "id": "01474292",
   "metadata": {
    "id": "01474292"
   },
   "source": [
    "<h4>Model Evaluation</h4>"
   ]
  },
  {
   "cell_type": "markdown",
   "id": "8e9db43b",
   "metadata": {
    "id": "8e9db43b"
   },
   "source": [
    "We evaluate the performance of the Gradient Boosting Classifier model by calculating the accuracy and recall scores on the test set.\n"
   ]
  },
  {
   "cell_type": "code",
   "execution_count": 36,
   "id": "bbe66c4e",
   "metadata": {
    "id": "bbe66c4e",
    "outputId": "94f012ff-4bd4-4115-e1f4-ce0c7c331ee5"
   },
   "outputs": [
    {
     "name": "stdout",
     "output_type": "stream",
     "text": [
      "Gradient Boosting Classifier Metrics:\n",
      "Accuracy: 0.7765042979942693\n",
      "Recall score: 0.7755102040816326\n",
      "Confusion Matrix:\n",
      "[[238  68]\n",
      " [ 88 304]]\n"
     ]
    }
   ],
   "source": [
    "# Accuracy and Recall\n",
    "accuracy_gb = accuracy_score(y_test, predictions_gb)\n",
    "recall_gb = recall_score(y_test, predictions_gb)\n",
    "\n",
    "# Confusion Matrix\n",
    "conf_matrix_gb = confusion_matrix(y_test, predictions_gb)\n",
    "\n",
    "print(\"Gradient Boosting Classifier Metrics:\")\n",
    "print(\"Accuracy:\", accuracy_gb)\n",
    "print(\"Recall score:\", recall_gb)\n",
    "print(\"Confusion Matrix:\")\n",
    "print(conf_matrix_gb)"
   ]
  },
  {
   "cell_type": "markdown",
   "id": "416dc2ba",
   "metadata": {
    "id": "416dc2ba"
   },
   "source": [
    "We visualize the confusion matrix using a heatmap to better understand the model's performance."
   ]
  },
  {
   "cell_type": "code",
   "execution_count": 37,
   "id": "dc127b22",
   "metadata": {
    "id": "dc127b22",
    "outputId": "bce76535-9daa-434b-826c-8cc68f406f10"
   },
   "outputs": [
    {
     "data": {
      "image/png": "[encoded data removed]",
      "text/plain": [
       "<Figure size 576x432 with 2 Axes>"
      ]
     },
     "metadata": {
      "needs_background": "light"
     },
     "output_type": "display_data"
    }
   ],
   "source": [
    "plt.figure(figsize=(8, 6))\n",
    "sns.heatmap(conf_matrix_gb, annot=True, fmt=\"d\", cmap=\"Blues\")\n",
    "plt.xlabel(\"Predicted Label\")\n",
    "plt.ylabel(\"True Label\")\n",
    "plt.title(\"Confusion Matrix - Gradient Boosting\")\n",
    "plt.show()"
   ]
  },
  {
   "cell_type": "markdown",
   "id": "8b7087e2",
   "metadata": {
    "id": "8b7087e2"
   },
   "source": [
    "<h4>Saving Predictions</h4>\n"
   ]
  },
  {
   "cell_type": "markdown",
   "id": "4e525ba8",
   "metadata": {
    "id": "4e525ba8"
   },
   "source": [
    "Finally, we update the dataset with the Gradient Boosting Classifier's predictions for the 'IncomeInvestment' label.\n"
   ]
  },
  {
   "cell_type": "code",
   "execution_count": 38,
   "id": "cf77df4c",
   "metadata": {
    "id": "cf77df4c",
    "outputId": "1ce4d612-8ade-4ff8-c793-98872912ae97"
   },
   "outputs": [
    {
     "data": {
      "text/html": [
       "<div>\n",
       "<style scoped>\n",
       "    .dataframe tbody tr th:only-of-type {\n",
       "        vertical-align: middle;\n",
       "    }\n",
       "\n",
       "    .dataframe tbody tr th {\n",
       "        vertical-align: top;\n",
       "    }\n",
       "\n",
       "    .dataframe thead th {\n",
       "        text-align: right;\n",
       "    }\n",
       "</style>\n",
       "<table border=\"1\" class=\"dataframe\">\n",
       "  <thead>\n",
       "    <tr style=\"text-align: right;\">\n",
       "      <th></th>\n",
       "      <th>Age</th>\n",
       "      <th>FinancialEducation</th>\n",
       "      <th>RiskPropensity</th>\n",
       "      <th>Income</th>\n",
       "      <th>Wealth</th>\n",
       "      <th>Income/Wealth</th>\n",
       "      <th>MLP IncomeInvestment</th>\n",
       "      <th>RF IncomeInvestment</th>\n",
       "      <th>LR IncomeInvestment</th>\n",
       "      <th>KNN IncomeInvestment</th>\n",
       "      <th>SVM IncomeInvestment</th>\n",
       "      <th>GB IncomeInvestment</th>\n",
       "    </tr>\n",
       "  </thead>\n",
       "  <tbody>\n",
       "    <tr>\n",
       "      <th>179</th>\n",
       "      <td>0.518987</td>\n",
       "      <td>0.119366</td>\n",
       "      <td>0.166095</td>\n",
       "      <td>0.499077</td>\n",
       "      <td>0.447003</td>\n",
       "      <td>0.405424</td>\n",
       "      <td>1</td>\n",
       "      <td>1</td>\n",
       "      <td>1</td>\n",
       "      <td>1</td>\n",
       "      <td>1</td>\n",
       "      <td>1</td>\n",
       "    </tr>\n",
       "    <tr>\n",
       "      <th>2153</th>\n",
       "      <td>0.759494</td>\n",
       "      <td>0.568503</td>\n",
       "      <td>0.617078</td>\n",
       "      <td>0.902076</td>\n",
       "      <td>0.764515</td>\n",
       "      <td>0.381090</td>\n",
       "      <td>1</td>\n",
       "      <td>1</td>\n",
       "      <td>1</td>\n",
       "      <td>1</td>\n",
       "      <td>1</td>\n",
       "      <td>1</td>\n",
       "    </tr>\n",
       "    <tr>\n",
       "      <th>3234</th>\n",
       "      <td>0.582278</td>\n",
       "      <td>0.615310</td>\n",
       "      <td>0.398159</td>\n",
       "      <td>0.658283</td>\n",
       "      <td>0.661516</td>\n",
       "      <td>0.322413</td>\n",
       "      <td>1</td>\n",
       "      <td>1</td>\n",
       "      <td>1</td>\n",
       "      <td>1</td>\n",
       "      <td>1</td>\n",
       "      <td>1</td>\n",
       "    </tr>\n",
       "    <tr>\n",
       "      <th>184</th>\n",
       "      <td>0.582278</td>\n",
       "      <td>0.545493</td>\n",
       "      <td>0.482318</td>\n",
       "      <td>0.627178</td>\n",
       "      <td>0.580825</td>\n",
       "      <td>0.370585</td>\n",
       "      <td>1</td>\n",
       "      <td>1</td>\n",
       "      <td>1</td>\n",
       "      <td>1</td>\n",
       "      <td>1</td>\n",
       "      <td>1</td>\n",
       "    </tr>\n",
       "    <tr>\n",
       "      <th>1071</th>\n",
       "      <td>0.341772</td>\n",
       "      <td>0.610581</td>\n",
       "      <td>0.531877</td>\n",
       "      <td>0.845886</td>\n",
       "      <td>0.595056</td>\n",
       "      <td>0.487633</td>\n",
       "      <td>0</td>\n",
       "      <td>0</td>\n",
       "      <td>0</td>\n",
       "      <td>0</td>\n",
       "      <td>0</td>\n",
       "      <td>0</td>\n",
       "    </tr>\n",
       "  </tbody>\n",
       "</table>\n",
       "</div>"
      ],
      "text/plain": [
       "           Age  FinancialEducation  RiskPropensity    Income    Wealth  \\\n",
       "179   0.518987            0.119366        0.166095  0.499077  0.447003   \n",
       "2153  0.759494            0.568503        0.617078  0.902076  0.764515   \n",
       "3234  0.582278            0.615310        0.398159  0.658283  0.661516   \n",
       "184   0.582278            0.545493        0.482318  0.627178  0.580825   \n",
       "1071  0.341772            0.610581        0.531877  0.845886  0.595056   \n",
       "\n",
       "      Income/Wealth  MLP IncomeInvestment  RF IncomeInvestment  \\\n",
       "179        0.405424                     1                    1   \n",
       "2153       0.381090                     1                    1   \n",
       "3234       0.322413                     1                    1   \n",
       "184        0.370585                     1                    1   \n",
       "1071       0.487633                     0                    0   \n",
       "\n",
       "      LR IncomeInvestment  KNN IncomeInvestment  SVM IncomeInvestment  \\\n",
       "179                     1                     1                     1   \n",
       "2153                    1                     1                     1   \n",
       "3234                    1                     1                     1   \n",
       "184                     1                     1                     1   \n",
       "1071                    0                     0                     0   \n",
       "\n",
       "      GB IncomeInvestment  \n",
       "179                     1  \n",
       "2153                    1  \n",
       "3234                    1  \n",
       "184                     1  \n",
       "1071                    0  "
      ]
     },
     "execution_count": 38,
     "metadata": {},
     "output_type": "execute_result"
    }
   ],
   "source": [
    "# Save the predictions\n",
    "dataset_with_predictions['GB IncomeInvestment'] = predictions_gb\n",
    "dataset_with_predictions.head()"
   ]
  },
  {
   "cell_type": "markdown",
   "id": "eVNyoVaLL1HK",
   "metadata": {
    "id": "eVNyoVaLL1HK"
   },
   "source": [
    "## Decision Tree + AdaBoost"
   ]
  },
  {
   "cell_type": "markdown",
   "id": "e46b543a",
   "metadata": {
    "id": "e46b543a"
   },
   "source": [
    "In this section, we train an AdaBoost Classifier using a Decision Tree as the base estimator to predict the 'IncomeInvestment' label."
   ]
  },
  {
   "cell_type": "markdown",
   "id": "3d7b4697",
   "metadata": {
    "id": "3d7b4697"
   },
   "source": [
    "<h4>Initializing the Base Estimator and AdaBoost Classifier</h4>"
   ]
  },
  {
   "cell_type": "markdown",
   "id": "c37737de",
   "metadata": {
    "id": "c37737de"
   },
   "source": [
    "We start by initializing the base estimator, which in this case is a Decision Tree Classifier with a maximum depth of 1.\n"
   ]
  },
  {
   "cell_type": "code",
   "execution_count": 39,
   "id": "8a081c4c",
   "metadata": {
    "id": "8a081c4c"
   },
   "outputs": [],
   "source": [
    "base_estimator = DecisionTreeClassifier(max_depth=1)"
   ]
  },
  {
   "cell_type": "markdown",
   "id": "7ff37b6e",
   "metadata": {
    "id": "7ff37b6e"
   },
   "source": [
    "Next, we initialize the AdaBoost Classifier using the Decision Tree as the base estimator. We set the number of estimators to 50 and the learning rate to 1.0. The random state is set to 42 for reproducibility."
   ]
  },
  {
   "cell_type": "code",
   "execution_count": 40,
   "id": "c0eb89a3",
   "metadata": {
    "id": "c0eb89a3"
   },
   "outputs": [],
   "source": [
    "# Initialize AdaBoost with a Decision Tree as the base estimator\n",
    "ada_classifier = AdaBoostClassifier(n_estimators=50,\n",
    "                                    learning_rate=1.0,\n",
    "                                    random_state=42)"
   ]
  },
  {
   "cell_type": "markdown",
   "id": "29472025",
   "metadata": {
    "id": "29472025"
   },
   "source": [
    "<h4>Training the AdaBoost Model</h4>\n"
   ]
  },
  {
   "cell_type": "markdown",
   "id": "098d777e",
   "metadata": {
    "id": "098d777e"
   },
   "source": [
    "We fit the AdaBoost Classifier to the training data.\n"
   ]
  },
  {
   "cell_type": "code",
   "execution_count": 41,
   "id": "d4775122",
   "metadata": {
    "id": "d4775122",
    "outputId": "dbbc40a0-c22b-421d-f862-7ad3639dfef2"
   },
   "outputs": [
    {
     "data": {
      "text/html": [
       "<style>#sk-container-id-6 {\n",
       "  /* Definition of color scheme common for light and dark mode */\n",
       "  --sklearn-color-text: black;\n",
       "  --sklearn-color-line: gray;\n",
       "  /* Definition of color scheme for unfitted estimators */\n",
       "  --sklearn-color-unfitted-level-0: #fff5e6;\n",
       "  --sklearn-color-unfitted-level-1: #f6e4d2;\n",
       "  --sklearn-color-unfitted-level-2: #ffe0b3;\n",
       "  --sklearn-color-unfitted-level-3: chocolate;\n",
       "  /* Definition of color scheme for fitted estimators */\n",
       "  --sklearn-color-fitted-level-0: #f0f8ff;\n",
       "  --sklearn-color-fitted-level-1: #d4ebff;\n",
       "  --sklearn-color-fitted-level-2: #b3dbfd;\n",
       "  --sklearn-color-fitted-level-3: cornflowerblue;\n",
       "\n",
       "  /* Specific color for light theme */\n",
       "  --sklearn-color-text-on-default-background: var(--sg-text-color, var(--theme-code-foreground, var(--jp-content-font-color1, black)));\n",
       "  --sklearn-color-background: var(--sg-background-color, var(--theme-background, var(--jp-layout-color0, white)));\n",
       "  --sklearn-color-border-box: var(--sg-text-color, var(--theme-code-foreground, var(--jp-content-font-color1, black)));\n",
       "  --sklearn-color-icon: #696969;\n",
       "\n",
       "  @media (prefers-color-scheme: dark) {\n",
       "    /* Redefinition of color scheme for dark theme */\n",
       "    --sklearn-color-text-on-default-background: var(--sg-text-color, var(--theme-code-foreground, var(--jp-content-font-color1, white)));\n",
       "    --sklearn-color-background: var(--sg-background-color, var(--theme-background, var(--jp-layout-color0, #111)));\n",
       "    --sklearn-color-border-box: var(--sg-text-color, var(--theme-code-foreground, var(--jp-content-font-color1, white)));\n",
       "    --sklearn-color-icon: #878787;\n",
       "  }\n",
       "}\n",
       "\n",
       "#sk-container-id-6 {\n",
       "  color: var(--sklearn-color-text);\n",
       "}\n",
       "\n",
       "#sk-container-id-6 pre {\n",
       "  padding: 0;\n",
       "}\n",
       "\n",
       "#sk-container-id-6 input.sk-hidden--visually {\n",
       "  border: 0;\n",
       "  clip: rect(1px 1px 1px 1px);\n",
       "  clip: rect(1px, 1px, 1px, 1px);\n",
       "  height: 1px;\n",
       "  margin: -1px;\n",
       "  overflow: hidden;\n",
       "  padding: 0;\n",
       "  position: absolute;\n",
       "  width: 1px;\n",
       "}\n",
       "\n",
       "#sk-container-id-6 div.sk-dashed-wrapped {\n",
       "  border: 1px dashed var(--sklearn-color-line);\n",
       "  margin: 0 0.4em 0.5em 0.4em;\n",
       "  box-sizing: border-box;\n",
       "  padding-bottom: 0.4em;\n",
       "  background-color: var(--sklearn-color-background);\n",
       "}\n",
       "\n",
       "#sk-container-id-6 div.sk-container {\n",
       "  /* jupyter's `normalize.less` sets `[hidden] { display: none; }`\n",
       "     but bootstrap.min.css set `[hidden] { display: none !important; }`\n",
       "     so we also need the `!important` here to be able to override the\n",
       "     default hidden behavior on the sphinx rendered scikit-learn.org.\n",
       "     See: https://github.com/scikit-learn/scikit-learn/issues/21755 */\n",
       "  display: inline-block !important;\n",
       "  position: relative;\n",
       "}\n",
       "\n",
       "#sk-container-id-6 div.sk-text-repr-fallback {\n",
       "  display: none;\n",
       "}\n",
       "\n",
       "div.sk-parallel-item,\n",
       "div.sk-serial,\n",
       "div.sk-item {\n",
       "  /* draw centered vertical line to link estimators */\n",
       "  background-image: linear-gradient(var(--sklearn-color-text-on-default-background), var(--sklearn-color-text-on-default-background));\n",
       "  background-size: 2px 100%;\n",
       "  background-repeat: no-repeat;\n",
       "  background-position: center center;\n",
       "}\n",
       "\n",
       "/* Parallel-specific style estimator block */\n",
       "\n",
       "#sk-container-id-6 div.sk-parallel-item::after {\n",
       "  content: \"\";\n",
       "  width: 100%;\n",
       "  border-bottom: 2px solid var(--sklearn-color-text-on-default-background);\n",
       "  flex-grow: 1;\n",
       "}\n",
       "\n",
       "#sk-container-id-6 div.sk-parallel {\n",
       "  display: flex;\n",
       "  align-items: stretch;\n",
       "  justify-content: center;\n",
       "  background-color: var(--sklearn-color-background);\n",
       "  position: relative;\n",
       "}\n",
       "\n",
       "#sk-container-id-6 div.sk-parallel-item {\n",
       "  display: flex;\n",
       "  flex-direction: column;\n",
       "}\n",
       "\n",
       "#sk-container-id-6 div.sk-parallel-item:first-child::after {\n",
       "  align-self: flex-end;\n",
       "  width: 50%;\n",
       "}\n",
       "\n",
       "#sk-container-id-6 div.sk-parallel-item:last-child::after {\n",
       "  align-self: flex-start;\n",
       "  width: 50%;\n",
       "}\n",
       "\n",
       "#sk-container-id-6 div.sk-parallel-item:only-child::after {\n",
       "  width: 0;\n",
       "}\n",
       "\n",
       "/* Serial-specific style estimator block */\n",
       "\n",
       "#sk-container-id-6 div.sk-serial {\n",
       "  display: flex;\n",
       "  flex-direction: column;\n",
       "  align-items: center;\n",
       "  background-color: var(--sklearn-color-background);\n",
       "  padding-right: 1em;\n",
       "  padding-left: 1em;\n",
       "}\n",
       "\n",
       "\n",
       "/* Toggleable style: style used for estimator/Pipeline/ColumnTransformer box that is\n",
       "clickable and can be expanded/collapsed.\n",
       "- Pipeline and ColumnTransformer use this feature and define the default style\n",
       "- Estimators will overwrite some part of the style using the `sk-estimator` class\n",
       "*/\n",
       "\n",
       "/* Pipeline and ColumnTransformer style (default) */\n",
       "\n",
       "#sk-container-id-6 div.sk-toggleable {\n",
       "  /* Default theme specific background. It is overwritten whether we have a\n",
       "  specific estimator or a Pipeline/ColumnTransformer */\n",
       "  background-color: var(--sklearn-color-background);\n",
       "}\n",
       "\n",
       "/* Toggleable label */\n",
       "#sk-container-id-6 label.sk-toggleable__label {\n",
       "  cursor: pointer;\n",
       "  display: block;\n",
       "  width: 100%;\n",
       "  margin-bottom: 0;\n",
       "  padding: 0.5em;\n",
       "  box-sizing: border-box;\n",
       "  text-align: center;\n",
       "}\n",
       "\n",
       "#sk-container-id-6 label.sk-toggleable__label-arrow:before {\n",
       "  /* Arrow on the left of the label */\n",
       "  content: \"▸\";\n",
       "  float: left;\n",
       "  margin-right: 0.25em;\n",
       "  color: var(--sklearn-color-icon);\n",
       "}\n",
       "\n",
       "#sk-container-id-6 label.sk-toggleable__label-arrow:hover:before {\n",
       "  color: var(--sklearn-color-text);\n",
       "}\n",
       "\n",
       "/* Toggleable content - dropdown */\n",
       "\n",
       "#sk-container-id-6 div.sk-toggleable__content {\n",
       "  max-height: 0;\n",
       "  max-width: 0;\n",
       "  overflow: hidden;\n",
       "  text-align: left;\n",
       "  /* unfitted */\n",
       "  background-color: var(--sklearn-color-unfitted-level-0);\n",
       "}\n",
       "\n",
       "#sk-container-id-6 div.sk-toggleable__content.fitted {\n",
       "  /* fitted */\n",
       "  background-color: var(--sklearn-color-fitted-level-0);\n",
       "}\n",
       "\n",
       "#sk-container-id-6 div.sk-toggleable__content pre {\n",
       "  margin: 0.2em;\n",
       "  border-radius: 0.25em;\n",
       "  color: var(--sklearn-color-text);\n",
       "  /* unfitted */\n",
       "  background-color: var(--sklearn-color-unfitted-level-0);\n",
       "}\n",
       "\n",
       "#sk-container-id-6 div.sk-toggleable__content.fitted pre {\n",
       "  /* unfitted */\n",
       "  background-color: var(--sklearn-color-fitted-level-0);\n",
       "}\n",
       "\n",
       "#sk-container-id-6 input.sk-toggleable__control:checked~div.sk-toggleable__content {\n",
       "  /* Expand drop-down */\n",
       "  max-height: 200px;\n",
       "  max-width: 100%;\n",
       "  overflow: auto;\n",
       "}\n",
       "\n",
       "#sk-container-id-6 input.sk-toggleable__control:checked~label.sk-toggleable__label-arrow:before {\n",
       "  content: \"▾\";\n",
       "}\n",
       "\n",
       "/* Pipeline/ColumnTransformer-specific style */\n",
       "\n",
       "#sk-container-id-6 div.sk-label input.sk-toggleable__control:checked~label.sk-toggleable__label {\n",
       "  color: var(--sklearn-color-text);\n",
       "  background-color: var(--sklearn-color-unfitted-level-2);\n",
       "}\n",
       "\n",
       "#sk-container-id-6 div.sk-label.fitted input.sk-toggleable__control:checked~label.sk-toggleable__label {\n",
       "  background-color: var(--sklearn-color-fitted-level-2);\n",
       "}\n",
       "\n",
       "/* Estimator-specific style */\n",
       "\n",
       "/* Colorize estimator box */\n",
       "#sk-container-id-6 div.sk-estimator input.sk-toggleable__control:checked~label.sk-toggleable__label {\n",
       "  /* unfitted */\n",
       "  background-color: var(--sklearn-color-unfitted-level-2);\n",
       "}\n",
       "\n",
       "#sk-container-id-6 div.sk-estimator.fitted input.sk-toggleable__control:checked~label.sk-toggleable__label {\n",
       "  /* fitted */\n",
       "  background-color: var(--sklearn-color-fitted-level-2);\n",
       "}\n",
       "\n",
       "#sk-container-id-6 div.sk-label label.sk-toggleable__label,\n",
       "#sk-container-id-6 div.sk-label label {\n",
       "  /* The background is the default theme color */\n",
       "  color: var(--sklearn-color-text-on-default-background);\n",
       "}\n",
       "\n",
       "/* On hover, darken the color of the background */\n",
       "#sk-container-id-6 div.sk-label:hover label.sk-toggleable__label {\n",
       "  color: var(--sklearn-color-text);\n",
       "  background-color: var(--sklearn-color-unfitted-level-2);\n",
       "}\n",
       "\n",
       "/* Label box, darken color on hover, fitted */\n",
       "#sk-container-id-6 div.sk-label.fitted:hover label.sk-toggleable__label.fitted {\n",
       "  color: var(--sklearn-color-text);\n",
       "  background-color: var(--sklearn-color-fitted-level-2);\n",
       "}\n",
       "\n",
       "/* Estimator label */\n",
       "\n",
       "#sk-container-id-6 div.sk-label label {\n",
       "  font-family: monospace;\n",
       "  font-weight: bold;\n",
       "  display: inline-block;\n",
       "  line-height: 1.2em;\n",
       "}\n",
       "\n",
       "#sk-container-id-6 div.sk-label-container {\n",
       "  text-align: center;\n",
       "}\n",
       "\n",
       "/* Estimator-specific */\n",
       "#sk-container-id-6 div.sk-estimator {\n",
       "  font-family: monospace;\n",
       "  border: 1px dotted var(--sklearn-color-border-box);\n",
       "  border-radius: 0.25em;\n",
       "  box-sizing: border-box;\n",
       "  margin-bottom: 0.5em;\n",
       "  /* unfitted */\n",
       "  background-color: var(--sklearn-color-unfitted-level-0);\n",
       "}\n",
       "\n",
       "#sk-container-id-6 div.sk-estimator.fitted {\n",
       "  /* fitted */\n",
       "  background-color: var(--sklearn-color-fitted-level-0);\n",
       "}\n",
       "\n",
       "/* on hover */\n",
       "#sk-container-id-6 div.sk-estimator:hover {\n",
       "  /* unfitted */\n",
       "  background-color: var(--sklearn-color-unfitted-level-2);\n",
       "}\n",
       "\n",
       "#sk-container-id-6 div.sk-estimator.fitted:hover {\n",
       "  /* fitted */\n",
       "  background-color: var(--sklearn-color-fitted-level-2);\n",
       "}\n",
       "\n",
       "/* Specification for estimator info (e.g. \"i\" and \"?\") */\n",
       "\n",
       "/* Common style for \"i\" and \"?\" */\n",
       "\n",
       ".sk-estimator-doc-link,\n",
       "a:link.sk-estimator-doc-link,\n",
       "a:visited.sk-estimator-doc-link {\n",
       "  float: right;\n",
       "  font-size: smaller;\n",
       "  line-height: 1em;\n",
       "  font-family: monospace;\n",
       "  background-color: var(--sklearn-color-background);\n",
       "  border-radius: 1em;\n",
       "  height: 1em;\n",
       "  width: 1em;\n",
       "  text-decoration: none !important;\n",
       "  margin-left: 1ex;\n",
       "  /* unfitted */\n",
       "  border: var(--sklearn-color-unfitted-level-1) 1pt solid;\n",
       "  color: var(--sklearn-color-unfitted-level-1);\n",
       "}\n",
       "\n",
       ".sk-estimator-doc-link.fitted,\n",
       "a:link.sk-estimator-doc-link.fitted,\n",
       "a:visited.sk-estimator-doc-link.fitted {\n",
       "  /* fitted */\n",
       "  border: var(--sklearn-color-fitted-level-1) 1pt solid;\n",
       "  color: var(--sklearn-color-fitted-level-1);\n",
       "}\n",
       "\n",
       "/* On hover */\n",
       "div.sk-estimator:hover .sk-estimator-doc-link:hover,\n",
       ".sk-estimator-doc-link:hover,\n",
       "div.sk-label-container:hover .sk-estimator-doc-link:hover,\n",
       ".sk-estimator-doc-link:hover {\n",
       "  /* unfitted */\n",
       "  background-color: var(--sklearn-color-unfitted-level-3);\n",
       "  color: var(--sklearn-color-background);\n",
       "  text-decoration: none;\n",
       "}\n",
       "\n",
       "div.sk-estimator.fitted:hover .sk-estimator-doc-link.fitted:hover,\n",
       ".sk-estimator-doc-link.fitted:hover,\n",
       "div.sk-label-container:hover .sk-estimator-doc-link.fitted:hover,\n",
       ".sk-estimator-doc-link.fitted:hover {\n",
       "  /* fitted */\n",
       "  background-color: var(--sklearn-color-fitted-level-3);\n",
       "  color: var(--sklearn-color-background);\n",
       "  text-decoration: none;\n",
       "}\n",
       "\n",
       "/* Span, style for the box shown on hovering the info icon */\n",
       ".sk-estimator-doc-link span {\n",
       "  display: none;\n",
       "  z-index: 9999;\n",
       "  position: relative;\n",
       "  font-weight: normal;\n",
       "  right: .2ex;\n",
       "  padding: .5ex;\n",
       "  margin: .5ex;\n",
       "  width: min-content;\n",
       "  min-width: 20ex;\n",
       "  max-width: 50ex;\n",
       "  color: var(--sklearn-color-text);\n",
       "  box-shadow: 2pt 2pt 4pt #999;\n",
       "  /* unfitted */\n",
       "  background: var(--sklearn-color-unfitted-level-0);\n",
       "  border: .5pt solid var(--sklearn-color-unfitted-level-3);\n",
       "}\n",
       "\n",
       ".sk-estimator-doc-link.fitted span {\n",
       "  /* fitted */\n",
       "  background: var(--sklearn-color-fitted-level-0);\n",
       "  border: var(--sklearn-color-fitted-level-3);\n",
       "}\n",
       "\n",
       ".sk-estimator-doc-link:hover span {\n",
       "  display: block;\n",
       "}\n",
       "\n",
       "/* \"?\"-specific style due to the `<a>` HTML tag */\n",
       "\n",
       "#sk-container-id-6 a.estimator_doc_link {\n",
       "  float: right;\n",
       "  font-size: 1rem;\n",
       "  line-height: 1em;\n",
       "  font-family: monospace;\n",
       "  background-color: var(--sklearn-color-background);\n",
       "  border-radius: 1rem;\n",
       "  height: 1rem;\n",
       "  width: 1rem;\n",
       "  text-decoration: none;\n",
       "  /* unfitted */\n",
       "  color: var(--sklearn-color-unfitted-level-1);\n",
       "  border: var(--sklearn-color-unfitted-level-1) 1pt solid;\n",
       "}\n",
       "\n",
       "#sk-container-id-6 a.estimator_doc_link.fitted {\n",
       "  /* fitted */\n",
       "  border: var(--sklearn-color-fitted-level-1) 1pt solid;\n",
       "  color: var(--sklearn-color-fitted-level-1);\n",
       "}\n",
       "\n",
       "/* On hover */\n",
       "#sk-container-id-6 a.estimator_doc_link:hover {\n",
       "  /* unfitted */\n",
       "  background-color: var(--sklearn-color-unfitted-level-3);\n",
       "  color: var(--sklearn-color-background);\n",
       "  text-decoration: none;\n",
       "}\n",
       "\n",
       "#sk-container-id-6 a.estimator_doc_link.fitted:hover {\n",
       "  /* fitted */\n",
       "  background-color: var(--sklearn-color-fitted-level-3);\n",
       "}\n",
       "</style><div id=\"sk-container-id-6\" class=\"sk-top-container\"><div class=\"sk-text-repr-fallback\"><pre>AdaBoostClassifier(random_state=42)</pre><b>In a Jupyter environment, please rerun this cell to show the HTML representation or trust the notebook. <br />On GitHub, the HTML representation is unable to render, please try loading this page with nbviewer.org.</b></div><div class=\"sk-container\" hidden><div class=\"sk-item\"><div class=\"sk-estimator fitted sk-toggleable\"><input class=\"sk-toggleable__control sk-hidden--visually\" id=\"sk-estimator-id-6\" type=\"checkbox\" checked><label for=\"sk-estimator-id-6\" class=\"sk-toggleable__label fitted sk-toggleable__label-arrow fitted\">&nbsp;&nbsp;AdaBoostClassifier<a class=\"sk-estimator-doc-link fitted\" rel=\"noreferrer\" target=\"_blank\" href=\"https://scikit-learn.org/1.4/modules/generated/sklearn.ensemble.AdaBoostClassifier.html\">?<span>Documentation for AdaBoostClassifier</span></a><span class=\"sk-estimator-doc-link fitted\">i<span>Fitted</span></span></label><div class=\"sk-toggleable__content fitted\"><pre>AdaBoostClassifier(random_state=42)</pre></div> </div></div></div></div>"
      ],
      "text/plain": [
       "AdaBoostClassifier(random_state=42)"
      ]
     },
     "execution_count": 41,
     "metadata": {},
     "output_type": "execute_result"
    }
   ],
   "source": [
    "ada_classifier.fit(X_train, y_train)"
   ]
  },
  {
   "cell_type": "markdown",
   "id": "b07534b7",
   "metadata": {
    "id": "b07534b7"
   },
   "source": [
    "<h4>Making Predictions and Evaluating Performance</h4>"
   ]
  },
  {
   "cell_type": "markdown",
   "id": "35b67133",
   "metadata": {
    "id": "35b67133"
   },
   "source": [
    "After training the model, we use it to make predictions on the test set.\n"
   ]
  },
  {
   "cell_type": "code",
   "execution_count": 42,
   "id": "012bf76a",
   "metadata": {
    "id": "012bf76a"
   },
   "outputs": [],
   "source": [
    "predictions_ada = ada_classifier.predict(X_test)"
   ]
  },
  {
   "cell_type": "markdown",
   "id": "b0ba0dc8",
   "metadata": {
    "id": "b0ba0dc8"
   },
   "source": [
    "We then calculate the accuracy and recall scores to evaluate the model's performance.\n"
   ]
  },
  {
   "cell_type": "code",
   "execution_count": 43,
   "id": "fccc4843",
   "metadata": {
    "id": "fccc4843",
    "outputId": "1ea45857-bafe-442f-ed1b-cd5e88b61cf8"
   },
   "outputs": [
    {
     "name": "stdout",
     "output_type": "stream",
     "text": [
      "AdaBoost with Decision Tree Classifier Metrics:\n",
      "Accuracy: 0.7679083094555874\n",
      "Recall score: 0.7806122448979592\n",
      "Confusion Matrix:\n",
      "[[230  76]\n",
      " [ 86 306]]\n"
     ]
    }
   ],
   "source": [
    "# Calculate metrics\n",
    "accuracy_ada = accuracy_score(y_test, predictions_ada)\n",
    "recall_ada = recall_score(y_test, predictions_ada)\n",
    "\n",
    "# Generating the confusion matrix\n",
    "conf_matrix_ada = confusion_matrix(y_test, predictions_ada)\n",
    "\n",
    "print(\"AdaBoost with Decision Tree Classifier Metrics:\")\n",
    "print(\"Accuracy:\", accuracy_ada)\n",
    "print(\"Recall score:\", recall_ada)\n",
    "print(\"Confusion Matrix:\")\n",
    "print(conf_matrix_ada)"
   ]
  },
  {
   "cell_type": "markdown",
   "id": "9b546609",
   "metadata": {
    "id": "9b546609"
   },
   "source": [
    "We visualize the confusion matrix using a heatmap to better understand the model's performance."
   ]
  },
  {
   "cell_type": "code",
   "execution_count": 44,
   "id": "cf85b2eb",
   "metadata": {
    "id": "cf85b2eb",
    "outputId": "d1c0db62-8787-415e-c58b-dca46e9f1ee1"
   },
   "outputs": [
    {
     "data": {
      "image/png": "[encoded data removed]",
      "text/plain": [
       "<Figure size 576x432 with 2 Axes>"
      ]
     },
     "metadata": {
      "needs_background": "light"
     },
     "output_type": "display_data"
    }
   ],
   "source": [
    "plt.figure(figsize=(8, 6))\n",
    "sns.heatmap(conf_matrix_ada, annot=True, fmt=\"d\", cmap=\"Blues\")\n",
    "plt.xlabel(\"Predicted Label\")\n",
    "plt.ylabel(\"True Label\")\n",
    "plt.title(\"Confusion Matrix - AdaBoost with Decision Tree\")\n",
    "plt.show()"
   ]
  },
  {
   "cell_type": "markdown",
   "id": "c01ffdd3",
   "metadata": {
    "id": "c01ffdd3"
   },
   "source": [
    "<h4>Saving Predictions</h4>"
   ]
  },
  {
   "cell_type": "markdown",
   "id": "53d42f73",
   "metadata": {
    "id": "53d42f73"
   },
   "source": [
    "Finally, we create a new column in the dataset with the AdaBoost Classifier's predictions for the 'IncomeInvestment' label."
   ]
  },
  {
   "cell_type": "code",
   "execution_count": 45,
   "id": "c717fd96",
   "metadata": {
    "id": "c717fd96",
    "outputId": "4ad2305a-f736-404c-ea9f-cf740cc14e2c"
   },
   "outputs": [
    {
     "data": {
      "text/html": [
       "<div>\n",
       "<style scoped>\n",
       "    .dataframe tbody tr th:only-of-type {\n",
       "        vertical-align: middle;\n",
       "    }\n",
       "\n",
       "    .dataframe tbody tr th {\n",
       "        vertical-align: top;\n",
       "    }\n",
       "\n",
       "    .dataframe thead th {\n",
       "        text-align: right;\n",
       "    }\n",
       "</style>\n",
       "<table border=\"1\" class=\"dataframe\">\n",
       "  <thead>\n",
       "    <tr style=\"text-align: right;\">\n",
       "      <th></th>\n",
       "      <th>Age</th>\n",
       "      <th>FinancialEducation</th>\n",
       "      <th>RiskPropensity</th>\n",
       "      <th>Income</th>\n",
       "      <th>Wealth</th>\n",
       "      <th>Income/Wealth</th>\n",
       "      <th>MLP IncomeInvestment</th>\n",
       "      <th>RF IncomeInvestment</th>\n",
       "      <th>LR IncomeInvestment</th>\n",
       "      <th>KNN IncomeInvestment</th>\n",
       "      <th>SVM IncomeInvestment</th>\n",
       "      <th>GB IncomeInvestment</th>\n",
       "      <th>DT+Ada IncomeInvestment</th>\n",
       "    </tr>\n",
       "  </thead>\n",
       "  <tbody>\n",
       "    <tr>\n",
       "      <th>179</th>\n",
       "      <td>0.518987</td>\n",
       "      <td>0.119366</td>\n",
       "      <td>0.166095</td>\n",
       "      <td>0.499077</td>\n",
       "      <td>0.447003</td>\n",
       "      <td>0.405424</td>\n",
       "      <td>1</td>\n",
       "      <td>1</td>\n",
       "      <td>1</td>\n",
       "      <td>1</td>\n",
       "      <td>1</td>\n",
       "      <td>1</td>\n",
       "      <td>1</td>\n",
       "    </tr>\n",
       "    <tr>\n",
       "      <th>2153</th>\n",
       "      <td>0.759494</td>\n",
       "      <td>0.568503</td>\n",
       "      <td>0.617078</td>\n",
       "      <td>0.902076</td>\n",
       "      <td>0.764515</td>\n",
       "      <td>0.381090</td>\n",
       "      <td>1</td>\n",
       "      <td>1</td>\n",
       "      <td>1</td>\n",
       "      <td>1</td>\n",
       "      <td>1</td>\n",
       "      <td>1</td>\n",
       "      <td>1</td>\n",
       "    </tr>\n",
       "    <tr>\n",
       "      <th>3234</th>\n",
       "      <td>0.582278</td>\n",
       "      <td>0.615310</td>\n",
       "      <td>0.398159</td>\n",
       "      <td>0.658283</td>\n",
       "      <td>0.661516</td>\n",
       "      <td>0.322413</td>\n",
       "      <td>1</td>\n",
       "      <td>1</td>\n",
       "      <td>1</td>\n",
       "      <td>1</td>\n",
       "      <td>1</td>\n",
       "      <td>1</td>\n",
       "      <td>1</td>\n",
       "    </tr>\n",
       "    <tr>\n",
       "      <th>184</th>\n",
       "      <td>0.582278</td>\n",
       "      <td>0.545493</td>\n",
       "      <td>0.482318</td>\n",
       "      <td>0.627178</td>\n",
       "      <td>0.580825</td>\n",
       "      <td>0.370585</td>\n",
       "      <td>1</td>\n",
       "      <td>1</td>\n",
       "      <td>1</td>\n",
       "      <td>1</td>\n",
       "      <td>1</td>\n",
       "      <td>1</td>\n",
       "      <td>1</td>\n",
       "    </tr>\n",
       "    <tr>\n",
       "      <th>1071</th>\n",
       "      <td>0.341772</td>\n",
       "      <td>0.610581</td>\n",
       "      <td>0.531877</td>\n",
       "      <td>0.845886</td>\n",
       "      <td>0.595056</td>\n",
       "      <td>0.487633</td>\n",
       "      <td>0</td>\n",
       "      <td>0</td>\n",
       "      <td>0</td>\n",
       "      <td>0</td>\n",
       "      <td>0</td>\n",
       "      <td>0</td>\n",
       "      <td>0</td>\n",
       "    </tr>\n",
       "  </tbody>\n",
       "</table>\n",
       "</div>"
      ],
      "text/plain": [
       "           Age  FinancialEducation  RiskPropensity    Income    Wealth  \\\n",
       "179   0.518987            0.119366        0.166095  0.499077  0.447003   \n",
       "2153  0.759494            0.568503        0.617078  0.902076  0.764515   \n",
       "3234  0.582278            0.615310        0.398159  0.658283  0.661516   \n",
       "184   0.582278            0.545493        0.482318  0.627178  0.580825   \n",
       "1071  0.341772            0.610581        0.531877  0.845886  0.595056   \n",
       "\n",
       "      Income/Wealth  MLP IncomeInvestment  RF IncomeInvestment  \\\n",
       "179        0.405424                     1                    1   \n",
       "2153       0.381090                     1                    1   \n",
       "3234       0.322413                     1                    1   \n",
       "184        0.370585                     1                    1   \n",
       "1071       0.487633                     0                    0   \n",
       "\n",
       "      LR IncomeInvestment  KNN IncomeInvestment  SVM IncomeInvestment  \\\n",
       "179                     1                     1                     1   \n",
       "2153                    1                     1                     1   \n",
       "3234                    1                     1                     1   \n",
       "184                     1                     1                     1   \n",
       "1071                    0                     0                     0   \n",
       "\n",
       "      GB IncomeInvestment  DT+Ada IncomeInvestment  \n",
       "179                     1                        1  \n",
       "2153                    1                        1  \n",
       "3234                    1                        1  \n",
       "184                     1                        1  \n",
       "1071                    0                        0  "
      ]
     },
     "execution_count": 45,
     "metadata": {},
     "output_type": "execute_result"
    }
   ],
   "source": [
    "dataset_with_predictions['DT+Ada IncomeInvestment'] = predictions_ada\n",
    "dataset_with_predictions.head()"
   ]
  },
  {
   "cell_type": "markdown",
   "id": "m0wh3W1uM7NS",
   "metadata": {
    "id": "m0wh3W1uM7NS"
   },
   "source": [
    "## Naïve Bayes"
   ]
  },
  {
   "cell_type": "markdown",
   "id": "6a2b6ccf",
   "metadata": {
    "id": "6a2b6ccf"
   },
   "source": [
    "In this section, we train a Gaussian Naive Bayes Classifier to predict the 'IncomeInvestment' label."
   ]
  },
  {
   "cell_type": "markdown",
   "id": "e35f91ff",
   "metadata": {
    "id": "e35f91ff"
   },
   "source": [
    "<h4>Model Initialization</h4>"
   ]
  },
  {
   "cell_type": "markdown",
   "id": "8b3a3f46",
   "metadata": {
    "id": "8b3a3f46"
   },
   "source": [
    "We start by creating an instance of the Gaussian Naive Bayes Classifier"
   ]
  },
  {
   "cell_type": "code",
   "execution_count": 46,
   "id": "e293ef72",
   "metadata": {
    "id": "e293ef72"
   },
   "outputs": [],
   "source": [
    "nb_classifier = GaussianNB()"
   ]
  },
  {
   "cell_type": "markdown",
   "id": "9defaf51",
   "metadata": {
    "id": "9defaf51"
   },
   "source": [
    "<h4>Model Training</h4>"
   ]
  },
  {
   "cell_type": "markdown",
   "id": "e9364e7b",
   "metadata": {
    "id": "e9364e7b"
   },
   "source": [
    "We fit the Naive Bayes Classifier to the training data using the fit method.\n"
   ]
  },
  {
   "cell_type": "code",
   "execution_count": 47,
   "id": "43ceb4d0",
   "metadata": {
    "id": "43ceb4d0",
    "outputId": "b644863d-0797-4d5e-fe80-ee808c0140ef"
   },
   "outputs": [
    {
     "data": {
      "text/html": [
       "<style>#sk-container-id-7 {\n",
       "  /* Definition of color scheme common for light and dark mode */\n",
       "  --sklearn-color-text: black;\n",
       "  --sklearn-color-line: gray;\n",
       "  /* Definition of color scheme for unfitted estimators */\n",
       "  --sklearn-color-unfitted-level-0: #fff5e6;\n",
       "  --sklearn-color-unfitted-level-1: #f6e4d2;\n",
       "  --sklearn-color-unfitted-level-2: #ffe0b3;\n",
       "  --sklearn-color-unfitted-level-3: chocolate;\n",
       "  /* Definition of color scheme for fitted estimators */\n",
       "  --sklearn-color-fitted-level-0: #f0f8ff;\n",
       "  --sklearn-color-fitted-level-1: #d4ebff;\n",
       "  --sklearn-color-fitted-level-2: #b3dbfd;\n",
       "  --sklearn-color-fitted-level-3: cornflowerblue;\n",
       "\n",
       "  /* Specific color for light theme */\n",
       "  --sklearn-color-text-on-default-background: var(--sg-text-color, var(--theme-code-foreground, var(--jp-content-font-color1, black)));\n",
       "  --sklearn-color-background: var(--sg-background-color, var(--theme-background, var(--jp-layout-color0, white)));\n",
       "  --sklearn-color-border-box: var(--sg-text-color, var(--theme-code-foreground, var(--jp-content-font-color1, black)));\n",
       "  --sklearn-color-icon: #696969;\n",
       "\n",
       "  @media (prefers-color-scheme: dark) {\n",
       "    /* Redefinition of color scheme for dark theme */\n",
       "    --sklearn-color-text-on-default-background: var(--sg-text-color, var(--theme-code-foreground, var(--jp-content-font-color1, white)));\n",
       "    --sklearn-color-background: var(--sg-background-color, var(--theme-background, var(--jp-layout-color0, #111)));\n",
       "    --sklearn-color-border-box: var(--sg-text-color, var(--theme-code-foreground, var(--jp-content-font-color1, white)));\n",
       "    --sklearn-color-icon: #878787;\n",
       "  }\n",
       "}\n",
       "\n",
       "#sk-container-id-7 {\n",
       "  color: var(--sklearn-color-text);\n",
       "}\n",
       "\n",
       "#sk-container-id-7 pre {\n",
       "  padding: 0;\n",
       "}\n",
       "\n",
       "#sk-container-id-7 input.sk-hidden--visually {\n",
       "  border: 0;\n",
       "  clip: rect(1px 1px 1px 1px);\n",
       "  clip: rect(1px, 1px, 1px, 1px);\n",
       "  height: 1px;\n",
       "  margin: -1px;\n",
       "  overflow: hidden;\n",
       "  padding: 0;\n",
       "  position: absolute;\n",
       "  width: 1px;\n",
       "}\n",
       "\n",
       "#sk-container-id-7 div.sk-dashed-wrapped {\n",
       "  border: 1px dashed var(--sklearn-color-line);\n",
       "  margin: 0 0.4em 0.5em 0.4em;\n",
       "  box-sizing: border-box;\n",
       "  padding-bottom: 0.4em;\n",
       "  background-color: var(--sklearn-color-background);\n",
       "}\n",
       "\n",
       "#sk-container-id-7 div.sk-container {\n",
       "  /* jupyter's `normalize.less` sets `[hidden] { display: none; }`\n",
       "     but bootstrap.min.css set `[hidden] { display: none !important; }`\n",
       "     so we also need the `!important` here to be able to override the\n",
       "     default hidden behavior on the sphinx rendered scikit-learn.org.\n",
       "     See: https://github.com/scikit-learn/scikit-learn/issues/21755 */\n",
       "  display: inline-block !important;\n",
       "  position: relative;\n",
       "}\n",
       "\n",
       "#sk-container-id-7 div.sk-text-repr-fallback {\n",
       "  display: none;\n",
       "}\n",
       "\n",
       "div.sk-parallel-item,\n",
       "div.sk-serial,\n",
       "div.sk-item {\n",
       "  /* draw centered vertical line to link estimators */\n",
       "  background-image: linear-gradient(var(--sklearn-color-text-on-default-background), var(--sklearn-color-text-on-default-background));\n",
       "  background-size: 2px 100%;\n",
       "  background-repeat: no-repeat;\n",
       "  background-position: center center;\n",
       "}\n",
       "\n",
       "/* Parallel-specific style estimator block */\n",
       "\n",
       "#sk-container-id-7 div.sk-parallel-item::after {\n",
       "  content: \"\";\n",
       "  width: 100%;\n",
       "  border-bottom: 2px solid var(--sklearn-color-text-on-default-background);\n",
       "  flex-grow: 1;\n",
       "}\n",
       "\n",
       "#sk-container-id-7 div.sk-parallel {\n",
       "  display: flex;\n",
       "  align-items: stretch;\n",
       "  justify-content: center;\n",
       "  background-color: var(--sklearn-color-background);\n",
       "  position: relative;\n",
       "}\n",
       "\n",
       "#sk-container-id-7 div.sk-parallel-item {\n",
       "  display: flex;\n",
       "  flex-direction: column;\n",
       "}\n",
       "\n",
       "#sk-container-id-7 div.sk-parallel-item:first-child::after {\n",
       "  align-self: flex-end;\n",
       "  width: 50%;\n",
       "}\n",
       "\n",
       "#sk-container-id-7 div.sk-parallel-item:last-child::after {\n",
       "  align-self: flex-start;\n",
       "  width: 50%;\n",
       "}\n",
       "\n",
       "#sk-container-id-7 div.sk-parallel-item:only-child::after {\n",
       "  width: 0;\n",
       "}\n",
       "\n",
       "/* Serial-specific style estimator block */\n",
       "\n",
       "#sk-container-id-7 div.sk-serial {\n",
       "  display: flex;\n",
       "  flex-direction: column;\n",
       "  align-items: center;\n",
       "  background-color: var(--sklearn-color-background);\n",
       "  padding-right: 1em;\n",
       "  padding-left: 1em;\n",
       "}\n",
       "\n",
       "\n",
       "/* Toggleable style: style used for estimator/Pipeline/ColumnTransformer box that is\n",
       "clickable and can be expanded/collapsed.\n",
       "- Pipeline and ColumnTransformer use this feature and define the default style\n",
       "- Estimators will overwrite some part of the style using the `sk-estimator` class\n",
       "*/\n",
       "\n",
       "/* Pipeline and ColumnTransformer style (default) */\n",
       "\n",
       "#sk-container-id-7 div.sk-toggleable {\n",
       "  /* Default theme specific background. It is overwritten whether we have a\n",
       "  specific estimator or a Pipeline/ColumnTransformer */\n",
       "  background-color: var(--sklearn-color-background);\n",
       "}\n",
       "\n",
       "/* Toggleable label */\n",
       "#sk-container-id-7 label.sk-toggleable__label {\n",
       "  cursor: pointer;\n",
       "  display: block;\n",
       "  width: 100%;\n",
       "  margin-bottom: 0;\n",
       "  padding: 0.5em;\n",
       "  box-sizing: border-box;\n",
       "  text-align: center;\n",
       "}\n",
       "\n",
       "#sk-container-id-7 label.sk-toggleable__label-arrow:before {\n",
       "  /* Arrow on the left of the label */\n",
       "  content: \"▸\";\n",
       "  float: left;\n",
       "  margin-right: 0.25em;\n",
       "  color: var(--sklearn-color-icon);\n",
       "}\n",
       "\n",
       "#sk-container-id-7 label.sk-toggleable__label-arrow:hover:before {\n",
       "  color: var(--sklearn-color-text);\n",
       "}\n",
       "\n",
       "/* Toggleable content - dropdown */\n",
       "\n",
       "#sk-container-id-7 div.sk-toggleable__content {\n",
       "  max-height: 0;\n",
       "  max-width: 0;\n",
       "  overflow: hidden;\n",
       "  text-align: left;\n",
       "  /* unfitted */\n",
       "  background-color: var(--sklearn-color-unfitted-level-0);\n",
       "}\n",
       "\n",
       "#sk-container-id-7 div.sk-toggleable__content.fitted {\n",
       "  /* fitted */\n",
       "  background-color: var(--sklearn-color-fitted-level-0);\n",
       "}\n",
       "\n",
       "#sk-container-id-7 div.sk-toggleable__content pre {\n",
       "  margin: 0.2em;\n",
       "  border-radius: 0.25em;\n",
       "  color: var(--sklearn-color-text);\n",
       "  /* unfitted */\n",
       "  background-color: var(--sklearn-color-unfitted-level-0);\n",
       "}\n",
       "\n",
       "#sk-container-id-7 div.sk-toggleable__content.fitted pre {\n",
       "  /* unfitted */\n",
       "  background-color: var(--sklearn-color-fitted-level-0);\n",
       "}\n",
       "\n",
       "#sk-container-id-7 input.sk-toggleable__control:checked~div.sk-toggleable__content {\n",
       "  /* Expand drop-down */\n",
       "  max-height: 200px;\n",
       "  max-width: 100%;\n",
       "  overflow: auto;\n",
       "}\n",
       "\n",
       "#sk-container-id-7 input.sk-toggleable__control:checked~label.sk-toggleable__label-arrow:before {\n",
       "  content: \"▾\";\n",
       "}\n",
       "\n",
       "/* Pipeline/ColumnTransformer-specific style */\n",
       "\n",
       "#sk-container-id-7 div.sk-label input.sk-toggleable__control:checked~label.sk-toggleable__label {\n",
       "  color: var(--sklearn-color-text);\n",
       "  background-color: var(--sklearn-color-unfitted-level-2);\n",
       "}\n",
       "\n",
       "#sk-container-id-7 div.sk-label.fitted input.sk-toggleable__control:checked~label.sk-toggleable__label {\n",
       "  background-color: var(--sklearn-color-fitted-level-2);\n",
       "}\n",
       "\n",
       "/* Estimator-specific style */\n",
       "\n",
       "/* Colorize estimator box */\n",
       "#sk-container-id-7 div.sk-estimator input.sk-toggleable__control:checked~label.sk-toggleable__label {\n",
       "  /* unfitted */\n",
       "  background-color: var(--sklearn-color-unfitted-level-2);\n",
       "}\n",
       "\n",
       "#sk-container-id-7 div.sk-estimator.fitted input.sk-toggleable__control:checked~label.sk-toggleable__label {\n",
       "  /* fitted */\n",
       "  background-color: var(--sklearn-color-fitted-level-2);\n",
       "}\n",
       "\n",
       "#sk-container-id-7 div.sk-label label.sk-toggleable__label,\n",
       "#sk-container-id-7 div.sk-label label {\n",
       "  /* The background is the default theme color */\n",
       "  color: var(--sklearn-color-text-on-default-background);\n",
       "}\n",
       "\n",
       "/* On hover, darken the color of the background */\n",
       "#sk-container-id-7 div.sk-label:hover label.sk-toggleable__label {\n",
       "  color: var(--sklearn-color-text);\n",
       "  background-color: var(--sklearn-color-unfitted-level-2);\n",
       "}\n",
       "\n",
       "/* Label box, darken color on hover, fitted */\n",
       "#sk-container-id-7 div.sk-label.fitted:hover label.sk-toggleable__label.fitted {\n",
       "  color: var(--sklearn-color-text);\n",
       "  background-color: var(--sklearn-color-fitted-level-2);\n",
       "}\n",
       "\n",
       "/* Estimator label */\n",
       "\n",
       "#sk-container-id-7 div.sk-label label {\n",
       "  font-family: monospace;\n",
       "  font-weight: bold;\n",
       "  display: inline-block;\n",
       "  line-height: 1.2em;\n",
       "}\n",
       "\n",
       "#sk-container-id-7 div.sk-label-container {\n",
       "  text-align: center;\n",
       "}\n",
       "\n",
       "/* Estimator-specific */\n",
       "#sk-container-id-7 div.sk-estimator {\n",
       "  font-family: monospace;\n",
       "  border: 1px dotted var(--sklearn-color-border-box);\n",
       "  border-radius: 0.25em;\n",
       "  box-sizing: border-box;\n",
       "  margin-bottom: 0.5em;\n",
       "  /* unfitted */\n",
       "  background-color: var(--sklearn-color-unfitted-level-0);\n",
       "}\n",
       "\n",
       "#sk-container-id-7 div.sk-estimator.fitted {\n",
       "  /* fitted */\n",
       "  background-color: var(--sklearn-color-fitted-level-0);\n",
       "}\n",
       "\n",
       "/* on hover */\n",
       "#sk-container-id-7 div.sk-estimator:hover {\n",
       "  /* unfitted */\n",
       "  background-color: var(--sklearn-color-unfitted-level-2);\n",
       "}\n",
       "\n",
       "#sk-container-id-7 div.sk-estimator.fitted:hover {\n",
       "  /* fitted */\n",
       "  background-color: var(--sklearn-color-fitted-level-2);\n",
       "}\n",
       "\n",
       "/* Specification for estimator info (e.g. \"i\" and \"?\") */\n",
       "\n",
       "/* Common style for \"i\" and \"?\" */\n",
       "\n",
       ".sk-estimator-doc-link,\n",
       "a:link.sk-estimator-doc-link,\n",
       "a:visited.sk-estimator-doc-link {\n",
       "  float: right;\n",
       "  font-size: smaller;\n",
       "  line-height: 1em;\n",
       "  font-family: monospace;\n",
       "  background-color: var(--sklearn-color-background);\n",
       "  border-radius: 1em;\n",
       "  height: 1em;\n",
       "  width: 1em;\n",
       "  text-decoration: none !important;\n",
       "  margin-left: 1ex;\n",
       "  /* unfitted */\n",
       "  border: var(--sklearn-color-unfitted-level-1) 1pt solid;\n",
       "  color: var(--sklearn-color-unfitted-level-1);\n",
       "}\n",
       "\n",
       ".sk-estimator-doc-link.fitted,\n",
       "a:link.sk-estimator-doc-link.fitted,\n",
       "a:visited.sk-estimator-doc-link.fitted {\n",
       "  /* fitted */\n",
       "  border: var(--sklearn-color-fitted-level-1) 1pt solid;\n",
       "  color: var(--sklearn-color-fitted-level-1);\n",
       "}\n",
       "\n",
       "/* On hover */\n",
       "div.sk-estimator:hover .sk-estimator-doc-link:hover,\n",
       ".sk-estimator-doc-link:hover,\n",
       "div.sk-label-container:hover .sk-estimator-doc-link:hover,\n",
       ".sk-estimator-doc-link:hover {\n",
       "  /* unfitted */\n",
       "  background-color: var(--sklearn-color-unfitted-level-3);\n",
       "  color: var(--sklearn-color-background);\n",
       "  text-decoration: none;\n",
       "}\n",
       "\n",
       "div.sk-estimator.fitted:hover .sk-estimator-doc-link.fitted:hover,\n",
       ".sk-estimator-doc-link.fitted:hover,\n",
       "div.sk-label-container:hover .sk-estimator-doc-link.fitted:hover,\n",
       ".sk-estimator-doc-link.fitted:hover {\n",
       "  /* fitted */\n",
       "  background-color: var(--sklearn-color-fitted-level-3);\n",
       "  color: var(--sklearn-color-background);\n",
       "  text-decoration: none;\n",
       "}\n",
       "\n",
       "/* Span, style for the box shown on hovering the info icon */\n",
       ".sk-estimator-doc-link span {\n",
       "  display: none;\n",
       "  z-index: 9999;\n",
       "  position: relative;\n",
       "  font-weight: normal;\n",
       "  right: .2ex;\n",
       "  padding: .5ex;\n",
       "  margin: .5ex;\n",
       "  width: min-content;\n",
       "  min-width: 20ex;\n",
       "  max-width: 50ex;\n",
       "  color: var(--sklearn-color-text);\n",
       "  box-shadow: 2pt 2pt 4pt #999;\n",
       "  /* unfitted */\n",
       "  background: var(--sklearn-color-unfitted-level-0);\n",
       "  border: .5pt solid var(--sklearn-color-unfitted-level-3);\n",
       "}\n",
       "\n",
       ".sk-estimator-doc-link.fitted span {\n",
       "  /* fitted */\n",
       "  background: var(--sklearn-color-fitted-level-0);\n",
       "  border: var(--sklearn-color-fitted-level-3);\n",
       "}\n",
       "\n",
       ".sk-estimator-doc-link:hover span {\n",
       "  display: block;\n",
       "}\n",
       "\n",
       "/* \"?\"-specific style due to the `<a>` HTML tag */\n",
       "\n",
       "#sk-container-id-7 a.estimator_doc_link {\n",
       "  float: right;\n",
       "  font-size: 1rem;\n",
       "  line-height: 1em;\n",
       "  font-family: monospace;\n",
       "  background-color: var(--sklearn-color-background);\n",
       "  border-radius: 1rem;\n",
       "  height: 1rem;\n",
       "  width: 1rem;\n",
       "  text-decoration: none;\n",
       "  /* unfitted */\n",
       "  color: var(--sklearn-color-unfitted-level-1);\n",
       "  border: var(--sklearn-color-unfitted-level-1) 1pt solid;\n",
       "}\n",
       "\n",
       "#sk-container-id-7 a.estimator_doc_link.fitted {\n",
       "  /* fitted */\n",
       "  border: var(--sklearn-color-fitted-level-1) 1pt solid;\n",
       "  color: var(--sklearn-color-fitted-level-1);\n",
       "}\n",
       "\n",
       "/* On hover */\n",
       "#sk-container-id-7 a.estimator_doc_link:hover {\n",
       "  /* unfitted */\n",
       "  background-color: var(--sklearn-color-unfitted-level-3);\n",
       "  color: var(--sklearn-color-background);\n",
       "  text-decoration: none;\n",
       "}\n",
       "\n",
       "#sk-container-id-7 a.estimator_doc_link.fitted:hover {\n",
       "  /* fitted */\n",
       "  background-color: var(--sklearn-color-fitted-level-3);\n",
       "}\n",
       "</style><div id=\"sk-container-id-7\" class=\"sk-top-container\"><div class=\"sk-text-repr-fallback\"><pre>GaussianNB()</pre><b>In a Jupyter environment, please rerun this cell to show the HTML representation or trust the notebook. <br />On GitHub, the HTML representation is unable to render, please try loading this page with nbviewer.org.</b></div><div class=\"sk-container\" hidden><div class=\"sk-item\"><div class=\"sk-estimator fitted sk-toggleable\"><input class=\"sk-toggleable__control sk-hidden--visually\" id=\"sk-estimator-id-7\" type=\"checkbox\" checked><label for=\"sk-estimator-id-7\" class=\"sk-toggleable__label fitted sk-toggleable__label-arrow fitted\">&nbsp;&nbsp;GaussianNB<a class=\"sk-estimator-doc-link fitted\" rel=\"noreferrer\" target=\"_blank\" href=\"https://scikit-learn.org/1.4/modules/generated/sklearn.naive_bayes.GaussianNB.html\">?<span>Documentation for GaussianNB</span></a><span class=\"sk-estimator-doc-link fitted\">i<span>Fitted</span></span></label><div class=\"sk-toggleable__content fitted\"><pre>GaussianNB()</pre></div> </div></div></div></div>"
      ],
      "text/plain": [
       "GaussianNB()"
      ]
     },
     "execution_count": 47,
     "metadata": {},
     "output_type": "execute_result"
    }
   ],
   "source": [
    "nb_classifier.fit(X_train, y_train)"
   ]
  },
  {
   "cell_type": "markdown",
   "id": "75309007",
   "metadata": {
    "id": "75309007"
   },
   "source": [
    "<h4>Making Predictions</h4>"
   ]
  },
  {
   "cell_type": "markdown",
   "id": "beab6b2d",
   "metadata": {
    "id": "beab6b2d"
   },
   "source": [
    "After training the model, we use it to make predictions on the test set using the predict method.\n"
   ]
  },
  {
   "cell_type": "code",
   "execution_count": 48,
   "id": "c19597c6",
   "metadata": {
    "id": "c19597c6"
   },
   "outputs": [],
   "source": [
    "predictions_nb = nb_classifier.predict(X_test)"
   ]
  },
  {
   "cell_type": "markdown",
   "id": "99673d8f",
   "metadata": {
    "id": "99673d8f"
   },
   "source": [
    "<h4>Model Evaluation</h4>"
   ]
  },
  {
   "cell_type": "markdown",
   "id": "5da7dbff",
   "metadata": {
    "id": "5da7dbff"
   },
   "source": [
    "To evaluate the performance of the trained Naive Bayes Classifier, we calculate the accuracy and recall scores on the test set predictions.\n"
   ]
  },
  {
   "cell_type": "code",
   "execution_count": 49,
   "id": "4ebf2c42",
   "metadata": {
    "id": "4ebf2c42",
    "outputId": "668f0dfb-4c44-490a-af27-1e78cd3c4531"
   },
   "outputs": [
    {
     "name": "stdout",
     "output_type": "stream",
     "text": [
      "Naive Bayes Classifier Metrics:\n",
      "Accuracy: 0.7335243553008596\n",
      "Recall score: 0.7040816326530612\n",
      "Confusion Matrix:\n",
      "[[236  70]\n",
      " [116 276]]\n"
     ]
    }
   ],
   "source": [
    "# Calculate metrics\n",
    "accuracy_nb = accuracy_score(y_test, predictions_nb)\n",
    "recall_nb = recall_score(y_test, predictions_nb)\n",
    "\n",
    "# Confusion Matrix\n",
    "conf_matrix_nb = confusion_matrix(y_test, predictions_nb)\n",
    "\n",
    "print(\"Naive Bayes Classifier Metrics:\")\n",
    "print(\"Accuracy:\", accuracy_nb)\n",
    "print(\"Recall score:\", recall_nb)\n",
    "print(\"Confusion Matrix:\")\n",
    "print(conf_matrix_nb)"
   ]
  },
  {
   "cell_type": "markdown",
   "id": "8ad904e4",
   "metadata": {
    "id": "8ad904e4"
   },
   "source": [
    "We visualize the confusion matrix using a heatmap to better understand the model's performance."
   ]
  },
  {
   "cell_type": "code",
   "execution_count": 50,
   "id": "1ee0fb38",
   "metadata": {
    "id": "1ee0fb38",
    "outputId": "8376c785-038c-4149-e3c0-14e467bad822"
   },
   "outputs": [
    {
     "data": {
      "image/png": "[encoded data removed]",
      "text/plain": [
       "<Figure size 576x432 with 2 Axes>"
      ]
     },
     "metadata": {
      "needs_background": "light"
     },
     "output_type": "display_data"
    }
   ],
   "source": [
    "plt.figure(figsize=(8, 6))\n",
    "sns.heatmap(conf_matrix_nb, annot=True, fmt=\"d\", cmap=\"Blues\")\n",
    "plt.xlabel(\"Predicted Label\")\n",
    "plt.ylabel(\"True Label\")\n",
    "plt.title(\"Confusion Matrix - Naïve Bayes\")\n",
    "plt.show()"
   ]
  },
  {
   "cell_type": "markdown",
   "id": "8060fb21",
   "metadata": {
    "id": "8060fb21"
   },
   "source": [
    "<h4>Saving Predictions</h4>"
   ]
  },
  {
   "cell_type": "markdown",
   "id": "0249b8dd",
   "metadata": {
    "id": "0249b8dd"
   },
   "source": [
    "Finally, we create a new column in the dataset with the Naive Bayes Classifier's predictions for the 'IncomeInvestment' label.\n"
   ]
  },
  {
   "cell_type": "code",
   "execution_count": 51,
   "id": "42f6f5f6",
   "metadata": {
    "id": "42f6f5f6",
    "outputId": "8c4b9439-e8ab-4da5-e272-9baac3ac8382"
   },
   "outputs": [
    {
     "data": {
      "text/html": [
       "<div>\n",
       "<style scoped>\n",
       "    .dataframe tbody tr th:only-of-type {\n",
       "        vertical-align: middle;\n",
       "    }\n",
       "\n",
       "    .dataframe tbody tr th {\n",
       "        vertical-align: top;\n",
       "    }\n",
       "\n",
       "    .dataframe thead th {\n",
       "        text-align: right;\n",
       "    }\n",
       "</style>\n",
       "<table border=\"1\" class=\"dataframe\">\n",
       "  <thead>\n",
       "    <tr style=\"text-align: right;\">\n",
       "      <th></th>\n",
       "      <th>Age</th>\n",
       "      <th>FinancialEducation</th>\n",
       "      <th>RiskPropensity</th>\n",
       "      <th>Income</th>\n",
       "      <th>Wealth</th>\n",
       "      <th>Income/Wealth</th>\n",
       "      <th>MLP IncomeInvestment</th>\n",
       "      <th>RF IncomeInvestment</th>\n",
       "      <th>LR IncomeInvestment</th>\n",
       "      <th>KNN IncomeInvestment</th>\n",
       "      <th>SVM IncomeInvestment</th>\n",
       "      <th>GB IncomeInvestment</th>\n",
       "      <th>DT+Ada IncomeInvestment</th>\n",
       "      <th>NB IncomeInvestment</th>\n",
       "    </tr>\n",
       "  </thead>\n",
       "  <tbody>\n",
       "    <tr>\n",
       "      <th>179</th>\n",
       "      <td>0.518987</td>\n",
       "      <td>0.119366</td>\n",
       "      <td>0.166095</td>\n",
       "      <td>0.499077</td>\n",
       "      <td>0.447003</td>\n",
       "      <td>0.405424</td>\n",
       "      <td>1</td>\n",
       "      <td>1</td>\n",
       "      <td>1</td>\n",
       "      <td>1</td>\n",
       "      <td>1</td>\n",
       "      <td>1</td>\n",
       "      <td>1</td>\n",
       "      <td>0</td>\n",
       "    </tr>\n",
       "    <tr>\n",
       "      <th>2153</th>\n",
       "      <td>0.759494</td>\n",
       "      <td>0.568503</td>\n",
       "      <td>0.617078</td>\n",
       "      <td>0.902076</td>\n",
       "      <td>0.764515</td>\n",
       "      <td>0.381090</td>\n",
       "      <td>1</td>\n",
       "      <td>1</td>\n",
       "      <td>1</td>\n",
       "      <td>1</td>\n",
       "      <td>1</td>\n",
       "      <td>1</td>\n",
       "      <td>1</td>\n",
       "      <td>1</td>\n",
       "    </tr>\n",
       "    <tr>\n",
       "      <th>3234</th>\n",
       "      <td>0.582278</td>\n",
       "      <td>0.615310</td>\n",
       "      <td>0.398159</td>\n",
       "      <td>0.658283</td>\n",
       "      <td>0.661516</td>\n",
       "      <td>0.322413</td>\n",
       "      <td>1</td>\n",
       "      <td>1</td>\n",
       "      <td>1</td>\n",
       "      <td>1</td>\n",
       "      <td>1</td>\n",
       "      <td>1</td>\n",
       "      <td>1</td>\n",
       "      <td>1</td>\n",
       "    </tr>\n",
       "    <tr>\n",
       "      <th>184</th>\n",
       "      <td>0.582278</td>\n",
       "      <td>0.545493</td>\n",
       "      <td>0.482318</td>\n",
       "      <td>0.627178</td>\n",
       "      <td>0.580825</td>\n",
       "      <td>0.370585</td>\n",
       "      <td>1</td>\n",
       "      <td>1</td>\n",
       "      <td>1</td>\n",
       "      <td>1</td>\n",
       "      <td>1</td>\n",
       "      <td>1</td>\n",
       "      <td>1</td>\n",
       "      <td>1</td>\n",
       "    </tr>\n",
       "    <tr>\n",
       "      <th>1071</th>\n",
       "      <td>0.341772</td>\n",
       "      <td>0.610581</td>\n",
       "      <td>0.531877</td>\n",
       "      <td>0.845886</td>\n",
       "      <td>0.595056</td>\n",
       "      <td>0.487633</td>\n",
       "      <td>0</td>\n",
       "      <td>0</td>\n",
       "      <td>0</td>\n",
       "      <td>0</td>\n",
       "      <td>0</td>\n",
       "      <td>0</td>\n",
       "      <td>0</td>\n",
       "      <td>0</td>\n",
       "    </tr>\n",
       "  </tbody>\n",
       "</table>\n",
       "</div>"
      ],
      "text/plain": [
       "           Age  FinancialEducation  RiskPropensity    Income    Wealth  \\\n",
       "179   0.518987            0.119366        0.166095  0.499077  0.447003   \n",
       "2153  0.759494            0.568503        0.617078  0.902076  0.764515   \n",
       "3234  0.582278            0.615310        0.398159  0.658283  0.661516   \n",
       "184   0.582278            0.545493        0.482318  0.627178  0.580825   \n",
       "1071  0.341772            0.610581        0.531877  0.845886  0.595056   \n",
       "\n",
       "      Income/Wealth  MLP IncomeInvestment  RF IncomeInvestment  \\\n",
       "179        0.405424                     1                    1   \n",
       "2153       0.381090                     1                    1   \n",
       "3234       0.322413                     1                    1   \n",
       "184        0.370585                     1                    1   \n",
       "1071       0.487633                     0                    0   \n",
       "\n",
       "      LR IncomeInvestment  KNN IncomeInvestment  SVM IncomeInvestment  \\\n",
       "179                     1                     1                     1   \n",
       "2153                    1                     1                     1   \n",
       "3234                    1                     1                     1   \n",
       "184                     1                     1                     1   \n",
       "1071                    0                     0                     0   \n",
       "\n",
       "      GB IncomeInvestment  DT+Ada IncomeInvestment  NB IncomeInvestment  \n",
       "179                     1                        1                    0  \n",
       "2153                    1                        1                    1  \n",
       "3234                    1                        1                    1  \n",
       "184                     1                        1                    1  \n",
       "1071                    0                        0                    0  "
      ]
     },
     "execution_count": 51,
     "metadata": {},
     "output_type": "execute_result"
    }
   ],
   "source": [
    "dataset_with_predictions['NB IncomeInvestment'] = predictions_nb\n",
    "dataset_with_predictions.head()"
   ]
  },
  {
   "cell_type": "markdown",
   "id": "8oeQhMZdNeUt",
   "metadata": {
    "id": "8oeQhMZdNeUt"
   },
   "source": [
    "## XGBoost"
   ]
  },
  {
   "cell_type": "markdown",
   "id": "7294fd0a",
   "metadata": {
    "id": "7294fd0a"
   },
   "source": [
    "In this section, we train an XGBoost Classifier to predict the 'IncomeInvestment' label.\n"
   ]
  },
  {
   "cell_type": "markdown",
   "id": "f228e55d",
   "metadata": {
    "id": "f228e55d"
   },
   "source": [
    "<h4>Model Initialization</h4>"
   ]
  },
  {
   "cell_type": "markdown",
   "id": "048277cc",
   "metadata": {
    "id": "048277cc"
   },
   "source": [
    "We start by creating an instance of the XGBoost Classifier using the XGBClassifier class from the xgboost library. We set the use_label_encoder parameter to False to avoid using the default label encoder, and set the eval_metric parameter to 'logloss' to use the log loss as the evaluation metric. The random_state parameter is set to 42 for reproducibility.\n"
   ]
  },
  {
   "cell_type": "code",
   "execution_count": 52,
   "id": "b7ab6e24",
   "metadata": {
    "id": "b7ab6e24"
   },
   "outputs": [],
   "source": [
    "xgb_classifier = XGBClassifier(use_label_encoder=False, eval_metric='logloss', random_state=42)"
   ]
  },
  {
   "cell_type": "markdown",
   "id": "6d2a020e",
   "metadata": {
    "id": "6d2a020e"
   },
   "source": [
    "<h4>Model Training</h4>"
   ]
  },
  {
   "cell_type": "markdown",
   "id": "ab29a6a7",
   "metadata": {
    "id": "ab29a6a7"
   },
   "source": [
    "We fit the XGBoost Classifier to the training data using the fit method.\n"
   ]
  },
  {
   "cell_type": "code",
   "execution_count": 53,
   "id": "b720b70f",
   "metadata": {
    "id": "b720b70f",
    "outputId": "3389723e-f34c-4ce6-c1b4-c65d90f74f24"
   },
   "outputs": [
    {
     "data": {
      "text/html": [
       "<style>#sk-container-id-8 {\n",
       "  /* Definition of color scheme common for light and dark mode */\n",
       "  --sklearn-color-text: black;\n",
       "  --sklearn-color-line: gray;\n",
       "  /* Definition of color scheme for unfitted estimators */\n",
       "  --sklearn-color-unfitted-level-0: #fff5e6;\n",
       "  --sklearn-color-unfitted-level-1: #f6e4d2;\n",
       "  --sklearn-color-unfitted-level-2: #ffe0b3;\n",
       "  --sklearn-color-unfitted-level-3: chocolate;\n",
       "  /* Definition of color scheme for fitted estimators */\n",
       "  --sklearn-color-fitted-level-0: #f0f8ff;\n",
       "  --sklearn-color-fitted-level-1: #d4ebff;\n",
       "  --sklearn-color-fitted-level-2: #b3dbfd;\n",
       "  --sklearn-color-fitted-level-3: cornflowerblue;\n",
       "\n",
       "  /* Specific color for light theme */\n",
       "  --sklearn-color-text-on-default-background: var(--sg-text-color, var(--theme-code-foreground, var(--jp-content-font-color1, black)));\n",
       "  --sklearn-color-background: var(--sg-background-color, var(--theme-background, var(--jp-layout-color0, white)));\n",
       "  --sklearn-color-border-box: var(--sg-text-color, var(--theme-code-foreground, var(--jp-content-font-color1, black)));\n",
       "  --sklearn-color-icon: #696969;\n",
       "\n",
       "  @media (prefers-color-scheme: dark) {\n",
       "    /* Redefinition of color scheme for dark theme */\n",
       "    --sklearn-color-text-on-default-background: var(--sg-text-color, var(--theme-code-foreground, var(--jp-content-font-color1, white)));\n",
       "    --sklearn-color-background: var(--sg-background-color, var(--theme-background, var(--jp-layout-color0, #111)));\n",
       "    --sklearn-color-border-box: var(--sg-text-color, var(--theme-code-foreground, var(--jp-content-font-color1, white)));\n",
       "    --sklearn-color-icon: #878787;\n",
       "  }\n",
       "}\n",
       "\n",
       "#sk-container-id-8 {\n",
       "  color: var(--sklearn-color-text);\n",
       "}\n",
       "\n",
       "#sk-container-id-8 pre {\n",
       "  padding: 0;\n",
       "}\n",
       "\n",
       "#sk-container-id-8 input.sk-hidden--visually {\n",
       "  border: 0;\n",
       "  clip: rect(1px 1px 1px 1px);\n",
       "  clip: rect(1px, 1px, 1px, 1px);\n",
       "  height: 1px;\n",
       "  margin: -1px;\n",
       "  overflow: hidden;\n",
       "  padding: 0;\n",
       "  position: absolute;\n",
       "  width: 1px;\n",
       "}\n",
       "\n",
       "#sk-container-id-8 div.sk-dashed-wrapped {\n",
       "  border: 1px dashed var(--sklearn-color-line);\n",
       "  margin: 0 0.4em 0.5em 0.4em;\n",
       "  box-sizing: border-box;\n",
       "  padding-bottom: 0.4em;\n",
       "  background-color: var(--sklearn-color-background);\n",
       "}\n",
       "\n",
       "#sk-container-id-8 div.sk-container {\n",
       "  /* jupyter's `normalize.less` sets `[hidden] { display: none; }`\n",
       "     but bootstrap.min.css set `[hidden] { display: none !important; }`\n",
       "     so we also need the `!important` here to be able to override the\n",
       "     default hidden behavior on the sphinx rendered scikit-learn.org.\n",
       "     See: https://github.com/scikit-learn/scikit-learn/issues/21755 */\n",
       "  display: inline-block !important;\n",
       "  position: relative;\n",
       "}\n",
       "\n",
       "#sk-container-id-8 div.sk-text-repr-fallback {\n",
       "  display: none;\n",
       "}\n",
       "\n",
       "div.sk-parallel-item,\n",
       "div.sk-serial,\n",
       "div.sk-item {\n",
       "  /* draw centered vertical line to link estimators */\n",
       "  background-image: linear-gradient(var(--sklearn-color-text-on-default-background), var(--sklearn-color-text-on-default-background));\n",
       "  background-size: 2px 100%;\n",
       "  background-repeat: no-repeat;\n",
       "  background-position: center center;\n",
       "}\n",
       "\n",
       "/* Parallel-specific style estimator block */\n",
       "\n",
       "#sk-container-id-8 div.sk-parallel-item::after {\n",
       "  content: \"\";\n",
       "  width: 100%;\n",
       "  border-bottom: 2px solid var(--sklearn-color-text-on-default-background);\n",
       "  flex-grow: 1;\n",
       "}\n",
       "\n",
       "#sk-container-id-8 div.sk-parallel {\n",
       "  display: flex;\n",
       "  align-items: stretch;\n",
       "  justify-content: center;\n",
       "  background-color: var(--sklearn-color-background);\n",
       "  position: relative;\n",
       "}\n",
       "\n",
       "#sk-container-id-8 div.sk-parallel-item {\n",
       "  display: flex;\n",
       "  flex-direction: column;\n",
       "}\n",
       "\n",
       "#sk-container-id-8 div.sk-parallel-item:first-child::after {\n",
       "  align-self: flex-end;\n",
       "  width: 50%;\n",
       "}\n",
       "\n",
       "#sk-container-id-8 div.sk-parallel-item:last-child::after {\n",
       "  align-self: flex-start;\n",
       "  width: 50%;\n",
       "}\n",
       "\n",
       "#sk-container-id-8 div.sk-parallel-item:only-child::after {\n",
       "  width: 0;\n",
       "}\n",
       "\n",
       "/* Serial-specific style estimator block */\n",
       "\n",
       "#sk-container-id-8 div.sk-serial {\n",
       "  display: flex;\n",
       "  flex-direction: column;\n",
       "  align-items: center;\n",
       "  background-color: var(--sklearn-color-background);\n",
       "  padding-right: 1em;\n",
       "  padding-left: 1em;\n",
       "}\n",
       "\n",
       "\n",
       "/* Toggleable style: style used for estimator/Pipeline/ColumnTransformer box that is\n",
       "clickable and can be expanded/collapsed.\n",
       "- Pipeline and ColumnTransformer use this feature and define the default style\n",
       "- Estimators will overwrite some part of the style using the `sk-estimator` class\n",
       "*/\n",
       "\n",
       "/* Pipeline and ColumnTransformer style (default) */\n",
       "\n",
       "#sk-container-id-8 div.sk-toggleable {\n",
       "  /* Default theme specific background. It is overwritten whether we have a\n",
       "  specific estimator or a Pipeline/ColumnTransformer */\n",
       "  background-color: var(--sklearn-color-background);\n",
       "}\n",
       "\n",
       "/* Toggleable label */\n",
       "#sk-container-id-8 label.sk-toggleable__label {\n",
       "  cursor: pointer;\n",
       "  display: block;\n",
       "  width: 100%;\n",
       "  margin-bottom: 0;\n",
       "  padding: 0.5em;\n",
       "  box-sizing: border-box;\n",
       "  text-align: center;\n",
       "}\n",
       "\n",
       "#sk-container-id-8 label.sk-toggleable__label-arrow:before {\n",
       "  /* Arrow on the left of the label */\n",
       "  content: \"▸\";\n",
       "  float: left;\n",
       "  margin-right: 0.25em;\n",
       "  color: var(--sklearn-color-icon);\n",
       "}\n",
       "\n",
       "#sk-container-id-8 label.sk-toggleable__label-arrow:hover:before {\n",
       "  color: var(--sklearn-color-text);\n",
       "}\n",
       "\n",
       "/* Toggleable content - dropdown */\n",
       "\n",
       "#sk-container-id-8 div.sk-toggleable__content {\n",
       "  max-height: 0;\n",
       "  max-width: 0;\n",
       "  overflow: hidden;\n",
       "  text-align: left;\n",
       "  /* unfitted */\n",
       "  background-color: var(--sklearn-color-unfitted-level-0);\n",
       "}\n",
       "\n",
       "#sk-container-id-8 div.sk-toggleable__content.fitted {\n",
       "  /* fitted */\n",
       "  background-color: var(--sklearn-color-fitted-level-0);\n",
       "}\n",
       "\n",
       "#sk-container-id-8 div.sk-toggleable__content pre {\n",
       "  margin: 0.2em;\n",
       "  border-radius: 0.25em;\n",
       "  color: var(--sklearn-color-text);\n",
       "  /* unfitted */\n",
       "  background-color: var(--sklearn-color-unfitted-level-0);\n",
       "}\n",
       "\n",
       "#sk-container-id-8 div.sk-toggleable__content.fitted pre {\n",
       "  /* unfitted */\n",
       "  background-color: var(--sklearn-color-fitted-level-0);\n",
       "}\n",
       "\n",
       "#sk-container-id-8 input.sk-toggleable__control:checked~div.sk-toggleable__content {\n",
       "  /* Expand drop-down */\n",
       "  max-height: 200px;\n",
       "  max-width: 100%;\n",
       "  overflow: auto;\n",
       "}\n",
       "\n",
       "#sk-container-id-8 input.sk-toggleable__control:checked~label.sk-toggleable__label-arrow:before {\n",
       "  content: \"▾\";\n",
       "}\n",
       "\n",
       "/* Pipeline/ColumnTransformer-specific style */\n",
       "\n",
       "#sk-container-id-8 div.sk-label input.sk-toggleable__control:checked~label.sk-toggleable__label {\n",
       "  color: var(--sklearn-color-text);\n",
       "  background-color: var(--sklearn-color-unfitted-level-2);\n",
       "}\n",
       "\n",
       "#sk-container-id-8 div.sk-label.fitted input.sk-toggleable__control:checked~label.sk-toggleable__label {\n",
       "  background-color: var(--sklearn-color-fitted-level-2);\n",
       "}\n",
       "\n",
       "/* Estimator-specific style */\n",
       "\n",
       "/* Colorize estimator box */\n",
       "#sk-container-id-8 div.sk-estimator input.sk-toggleable__control:checked~label.sk-toggleable__label {\n",
       "  /* unfitted */\n",
       "  background-color: var(--sklearn-color-unfitted-level-2);\n",
       "}\n",
       "\n",
       "#sk-container-id-8 div.sk-estimator.fitted input.sk-toggleable__control:checked~label.sk-toggleable__label {\n",
       "  /* fitted */\n",
       "  background-color: var(--sklearn-color-fitted-level-2);\n",
       "}\n",
       "\n",
       "#sk-container-id-8 div.sk-label label.sk-toggleable__label,\n",
       "#sk-container-id-8 div.sk-label label {\n",
       "  /* The background is the default theme color */\n",
       "  color: var(--sklearn-color-text-on-default-background);\n",
       "}\n",
       "\n",
       "/* On hover, darken the color of the background */\n",
       "#sk-container-id-8 div.sk-label:hover label.sk-toggleable__label {\n",
       "  color: var(--sklearn-color-text);\n",
       "  background-color: var(--sklearn-color-unfitted-level-2);\n",
       "}\n",
       "\n",
       "/* Label box, darken color on hover, fitted */\n",
       "#sk-container-id-8 div.sk-label.fitted:hover label.sk-toggleable__label.fitted {\n",
       "  color: var(--sklearn-color-text);\n",
       "  background-color: var(--sklearn-color-fitted-level-2);\n",
       "}\n",
       "\n",
       "/* Estimator label */\n",
       "\n",
       "#sk-container-id-8 div.sk-label label {\n",
       "  font-family: monospace;\n",
       "  font-weight: bold;\n",
       "  display: inline-block;\n",
       "  line-height: 1.2em;\n",
       "}\n",
       "\n",
       "#sk-container-id-8 div.sk-label-container {\n",
       "  text-align: center;\n",
       "}\n",
       "\n",
       "/* Estimator-specific */\n",
       "#sk-container-id-8 div.sk-estimator {\n",
       "  font-family: monospace;\n",
       "  border: 1px dotted var(--sklearn-color-border-box);\n",
       "  border-radius: 0.25em;\n",
       "  box-sizing: border-box;\n",
       "  margin-bottom: 0.5em;\n",
       "  /* unfitted */\n",
       "  background-color: var(--sklearn-color-unfitted-level-0);\n",
       "}\n",
       "\n",
       "#sk-container-id-8 div.sk-estimator.fitted {\n",
       "  /* fitted */\n",
       "  background-color: var(--sklearn-color-fitted-level-0);\n",
       "}\n",
       "\n",
       "/* on hover */\n",
       "#sk-container-id-8 div.sk-estimator:hover {\n",
       "  /* unfitted */\n",
       "  background-color: var(--sklearn-color-unfitted-level-2);\n",
       "}\n",
       "\n",
       "#sk-container-id-8 div.sk-estimator.fitted:hover {\n",
       "  /* fitted */\n",
       "  background-color: var(--sklearn-color-fitted-level-2);\n",
       "}\n",
       "\n",
       "/* Specification for estimator info (e.g. \"i\" and \"?\") */\n",
       "\n",
       "/* Common style for \"i\" and \"?\" */\n",
       "\n",
       ".sk-estimator-doc-link,\n",
       "a:link.sk-estimator-doc-link,\n",
       "a:visited.sk-estimator-doc-link {\n",
       "  float: right;\n",
       "  font-size: smaller;\n",
       "  line-height: 1em;\n",
       "  font-family: monospace;\n",
       "  background-color: var(--sklearn-color-background);\n",
       "  border-radius: 1em;\n",
       "  height: 1em;\n",
       "  width: 1em;\n",
       "  text-decoration: none !important;\n",
       "  margin-left: 1ex;\n",
       "  /* unfitted */\n",
       "  border: var(--sklearn-color-unfitted-level-1) 1pt solid;\n",
       "  color: var(--sklearn-color-unfitted-level-1);\n",
       "}\n",
       "\n",
       ".sk-estimator-doc-link.fitted,\n",
       "a:link.sk-estimator-doc-link.fitted,\n",
       "a:visited.sk-estimator-doc-link.fitted {\n",
       "  /* fitted */\n",
       "  border: var(--sklearn-color-fitted-level-1) 1pt solid;\n",
       "  color: var(--sklearn-color-fitted-level-1);\n",
       "}\n",
       "\n",
       "/* On hover */\n",
       "div.sk-estimator:hover .sk-estimator-doc-link:hover,\n",
       ".sk-estimator-doc-link:hover,\n",
       "div.sk-label-container:hover .sk-estimator-doc-link:hover,\n",
       ".sk-estimator-doc-link:hover {\n",
       "  /* unfitted */\n",
       "  background-color: var(--sklearn-color-unfitted-level-3);\n",
       "  color: var(--sklearn-color-background);\n",
       "  text-decoration: none;\n",
       "}\n",
       "\n",
       "div.sk-estimator.fitted:hover .sk-estimator-doc-link.fitted:hover,\n",
       ".sk-estimator-doc-link.fitted:hover,\n",
       "div.sk-label-container:hover .sk-estimator-doc-link.fitted:hover,\n",
       ".sk-estimator-doc-link.fitted:hover {\n",
       "  /* fitted */\n",
       "  background-color: var(--sklearn-color-fitted-level-3);\n",
       "  color: var(--sklearn-color-background);\n",
       "  text-decoration: none;\n",
       "}\n",
       "\n",
       "/* Span, style for the box shown on hovering the info icon */\n",
       ".sk-estimator-doc-link span {\n",
       "  display: none;\n",
       "  z-index: 9999;\n",
       "  position: relative;\n",
       "  font-weight: normal;\n",
       "  right: .2ex;\n",
       "  padding: .5ex;\n",
       "  margin: .5ex;\n",
       "  width: min-content;\n",
       "  min-width: 20ex;\n",
       "  max-width: 50ex;\n",
       "  color: var(--sklearn-color-text);\n",
       "  box-shadow: 2pt 2pt 4pt #999;\n",
       "  /* unfitted */\n",
       "  background: var(--sklearn-color-unfitted-level-0);\n",
       "  border: .5pt solid var(--sklearn-color-unfitted-level-3);\n",
       "}\n",
       "\n",
       ".sk-estimator-doc-link.fitted span {\n",
       "  /* fitted */\n",
       "  background: var(--sklearn-color-fitted-level-0);\n",
       "  border: var(--sklearn-color-fitted-level-3);\n",
       "}\n",
       "\n",
       ".sk-estimator-doc-link:hover span {\n",
       "  display: block;\n",
       "}\n",
       "\n",
       "/* \"?\"-specific style due to the `<a>` HTML tag */\n",
       "\n",
       "#sk-container-id-8 a.estimator_doc_link {\n",
       "  float: right;\n",
       "  font-size: 1rem;\n",
       "  line-height: 1em;\n",
       "  font-family: monospace;\n",
       "  background-color: var(--sklearn-color-background);\n",
       "  border-radius: 1rem;\n",
       "  height: 1rem;\n",
       "  width: 1rem;\n",
       "  text-decoration: none;\n",
       "  /* unfitted */\n",
       "  color: var(--sklearn-color-unfitted-level-1);\n",
       "  border: var(--sklearn-color-unfitted-level-1) 1pt solid;\n",
       "}\n",
       "\n",
       "#sk-container-id-8 a.estimator_doc_link.fitted {\n",
       "  /* fitted */\n",
       "  border: var(--sklearn-color-fitted-level-1) 1pt solid;\n",
       "  color: var(--sklearn-color-fitted-level-1);\n",
       "}\n",
       "\n",
       "/* On hover */\n",
       "#sk-container-id-8 a.estimator_doc_link:hover {\n",
       "  /* unfitted */\n",
       "  background-color: var(--sklearn-color-unfitted-level-3);\n",
       "  color: var(--sklearn-color-background);\n",
       "  text-decoration: none;\n",
       "}\n",
       "\n",
       "#sk-container-id-8 a.estimator_doc_link.fitted:hover {\n",
       "  /* fitted */\n",
       "  background-color: var(--sklearn-color-fitted-level-3);\n",
       "}\n",
       "</style><div id=\"sk-container-id-8\" class=\"sk-top-container\"><div class=\"sk-text-repr-fallback\"><pre>XGBClassifier(base_score=None, booster=None, callbacks=None,\n",
       "              colsample_bylevel=None, colsample_bynode=None,\n",
       "              colsample_bytree=None, device=None, early_stopping_rounds=None,\n",
       "              enable_categorical=False, eval_metric=&#x27;logloss&#x27;,\n",
       "              feature_types=None, gamma=None, grow_policy=None,\n",
       "              importance_type=None, interaction_constraints=None,\n",
       "              learning_rate=None, max_bin=None, max_cat_threshold=None,\n",
       "              max_cat_to_onehot=None, max_delta_step=None, max_depth=None,\n",
       "              max_leaves=None, min_child_weight=None, missing=nan,\n",
       "              monotone_constraints=None, multi_strategy=None, n_estimators=None,\n",
       "              n_jobs=None, num_parallel_tree=None, random_state=42, ...)</pre><b>In a Jupyter environment, please rerun this cell to show the HTML representation or trust the notebook. <br />On GitHub, the HTML representation is unable to render, please try loading this page with nbviewer.org.</b></div><div class=\"sk-container\" hidden><div class=\"sk-item\"><div class=\"sk-estimator fitted sk-toggleable\"><input class=\"sk-toggleable__control sk-hidden--visually\" id=\"sk-estimator-id-8\" type=\"checkbox\" checked><label for=\"sk-estimator-id-8\" class=\"sk-toggleable__label fitted sk-toggleable__label-arrow fitted\">&nbsp;XGBClassifier<span class=\"sk-estimator-doc-link fitted\">i<span>Fitted</span></span></label><div class=\"sk-toggleable__content fitted\"><pre>XGBClassifier(base_score=None, booster=None, callbacks=None,\n",
       "              colsample_bylevel=None, colsample_bynode=None,\n",
       "              colsample_bytree=None, device=None, early_stopping_rounds=None,\n",
       "              enable_categorical=False, eval_metric=&#x27;logloss&#x27;,\n",
       "              feature_types=None, gamma=None, grow_policy=None,\n",
       "              importance_type=None, interaction_constraints=None,\n",
       "              learning_rate=None, max_bin=None, max_cat_threshold=None,\n",
       "              max_cat_to_onehot=None, max_delta_step=None, max_depth=None,\n",
       "              max_leaves=None, min_child_weight=None, missing=nan,\n",
       "              monotone_constraints=None, multi_strategy=None, n_estimators=None,\n",
       "              n_jobs=None, num_parallel_tree=None, random_state=42, ...)</pre></div> </div></div></div></div>"
      ],
      "text/plain": [
       "XGBClassifier(base_score=None, booster=None, callbacks=None,\n",
       "              colsample_bylevel=None, colsample_bynode=None,\n",
       "              colsample_bytree=None, device=None, early_stopping_rounds=None,\n",
       "              enable_categorical=False, eval_metric='logloss',\n",
       "              feature_types=None, gamma=None, grow_policy=None,\n",
       "              importance_type=None, interaction_constraints=None,\n",
       "              learning_rate=None, max_bin=None, max_cat_threshold=None,\n",
       "              max_cat_to_onehot=None, max_delta_step=None, max_depth=None,\n",
       "              max_leaves=None, min_child_weight=None, missing=nan,\n",
       "              monotone_constraints=None, multi_strategy=None, n_estimators=None,\n",
       "              n_jobs=None, num_parallel_tree=None, random_state=42, ...)"
      ]
     },
     "execution_count": 53,
     "metadata": {},
     "output_type": "execute_result"
    }
   ],
   "source": [
    "xgb_classifier.fit(X_train, y_train)"
   ]
  },
  {
   "cell_type": "markdown",
   "id": "851965ec",
   "metadata": {
    "id": "851965ec"
   },
   "source": [
    "<h4>Making Predictions</h4>"
   ]
  },
  {
   "cell_type": "markdown",
   "id": "6aaf7715",
   "metadata": {
    "id": "6aaf7715"
   },
   "source": [
    "After training the model, we use it to make predictions on the test set using the predict method.\n"
   ]
  },
  {
   "cell_type": "code",
   "execution_count": 54,
   "id": "d88a92a8",
   "metadata": {
    "id": "d88a92a8"
   },
   "outputs": [],
   "source": [
    "predictions_xgb = xgb_classifier.predict(X_test)"
   ]
  },
  {
   "cell_type": "markdown",
   "id": "74070ef0",
   "metadata": {
    "id": "74070ef0"
   },
   "source": [
    "<h4>Model Evaluation</h4>"
   ]
  },
  {
   "cell_type": "markdown",
   "id": "3aee723b",
   "metadata": {
    "id": "3aee723b"
   },
   "source": [
    "To evaluate the performance of the trained XGBoost Classifier, we calculate the accuracy and recall scores on the test set predictions.\n"
   ]
  },
  {
   "cell_type": "code",
   "execution_count": 55,
   "id": "be8148b4",
   "metadata": {
    "id": "be8148b4",
    "outputId": "4a503829-234e-4953-9b8e-e65ec4bc4e92"
   },
   "outputs": [
    {
     "name": "stdout",
     "output_type": "stream",
     "text": [
      "XGBoost Classifier Metrics:\n",
      "Accuracy: 0.7478510028653295\n",
      "Recall score: 0.7372448979591837\n",
      "Confusion Matrix:\n",
      "[[233  73]\n",
      " [103 289]]\n"
     ]
    }
   ],
   "source": [
    "# Calculate metrics\n",
    "accuracy_xgb = accuracy_score(y_test, predictions_xgb)\n",
    "recall_xgb = recall_score(y_test, predictions_xgb)\n",
    "\n",
    "# Confusion Matrix\n",
    "conf_matrix_xgb = confusion_matrix(y_test, predictions_xgb)\n",
    "\n",
    "print(\"XGBoost Classifier Metrics:\")\n",
    "print(\"Accuracy:\", accuracy_xgb)\n",
    "print(\"Recall score:\", recall_xgb)\n",
    "print(\"Confusion Matrix:\")\n",
    "print(conf_matrix_xgb)"
   ]
  },
  {
   "cell_type": "markdown",
   "id": "ad3d6856",
   "metadata": {
    "id": "ad3d6856"
   },
   "source": [
    "We visualize the confusion matrix using a heatmap to better understand the model's performance."
   ]
  },
  {
   "cell_type": "code",
   "execution_count": 56,
   "id": "e3527940",
   "metadata": {
    "id": "e3527940",
    "outputId": "e5af8cfe-2a05-40c8-9097-d7419758247a"
   },
   "outputs": [
    {
     "data": {
      "image/png": "[encoded data removed]",
      "text/plain": [
       "<Figure size 576x432 with 2 Axes>"
      ]
     },
     "metadata": {
      "needs_background": "light"
     },
     "output_type": "display_data"
    }
   ],
   "source": [
    "plt.figure(figsize=(8, 6))\n",
    "sns.heatmap(conf_matrix_xgb, annot=True, fmt=\"d\", cmap=\"Blues\")\n",
    "plt.xlabel(\"Predicted Label\")\n",
    "plt.ylabel(\"True Label\")\n",
    "plt.title(\"Confusion Matrix - XGBoost\")\n",
    "plt.show()"
   ]
  },
  {
   "cell_type": "markdown",
   "id": "e0a545dc",
   "metadata": {
    "id": "e0a545dc"
   },
   "source": [
    "<h4>Saving Predictions</h4>"
   ]
  },
  {
   "cell_type": "markdown",
   "id": "2d20d0e3",
   "metadata": {
    "id": "2d20d0e3"
   },
   "source": [
    "Finally, we create a new column in the dataset with the XGBoost Classifier's predictions for the 'IncomeInvestment' label.\n"
   ]
  },
  {
   "cell_type": "code",
   "execution_count": 57,
   "id": "429d75cf",
   "metadata": {
    "id": "429d75cf",
    "outputId": "dab6eaaa-e4d4-45f0-ae30-e9d0fcd352ab"
   },
   "outputs": [
    {
     "data": {
      "text/html": [
       "<div>\n",
       "<style scoped>\n",
       "    .dataframe tbody tr th:only-of-type {\n",
       "        vertical-align: middle;\n",
       "    }\n",
       "\n",
       "    .dataframe tbody tr th {\n",
       "        vertical-align: top;\n",
       "    }\n",
       "\n",
       "    .dataframe thead th {\n",
       "        text-align: right;\n",
       "    }\n",
       "</style>\n",
       "<table border=\"1\" class=\"dataframe\">\n",
       "  <thead>\n",
       "    <tr style=\"text-align: right;\">\n",
       "      <th></th>\n",
       "      <th>Age</th>\n",
       "      <th>FinancialEducation</th>\n",
       "      <th>RiskPropensity</th>\n",
       "      <th>Income</th>\n",
       "      <th>Wealth</th>\n",
       "      <th>Income/Wealth</th>\n",
       "      <th>MLP IncomeInvestment</th>\n",
       "      <th>RF IncomeInvestment</th>\n",
       "      <th>LR IncomeInvestment</th>\n",
       "      <th>KNN IncomeInvestment</th>\n",
       "      <th>SVM IncomeInvestment</th>\n",
       "      <th>GB IncomeInvestment</th>\n",
       "      <th>DT+Ada IncomeInvestment</th>\n",
       "      <th>NB IncomeInvestment</th>\n",
       "      <th>XGB IncomeInvestment</th>\n",
       "    </tr>\n",
       "  </thead>\n",
       "  <tbody>\n",
       "    <tr>\n",
       "      <th>179</th>\n",
       "      <td>0.518987</td>\n",
       "      <td>0.119366</td>\n",
       "      <td>0.166095</td>\n",
       "      <td>0.499077</td>\n",
       "      <td>0.447003</td>\n",
       "      <td>0.405424</td>\n",
       "      <td>1</td>\n",
       "      <td>1</td>\n",
       "      <td>1</td>\n",
       "      <td>1</td>\n",
       "      <td>1</td>\n",
       "      <td>1</td>\n",
       "      <td>1</td>\n",
       "      <td>0</td>\n",
       "      <td>1</td>\n",
       "    </tr>\n",
       "    <tr>\n",
       "      <th>2153</th>\n",
       "      <td>0.759494</td>\n",
       "      <td>0.568503</td>\n",
       "      <td>0.617078</td>\n",
       "      <td>0.902076</td>\n",
       "      <td>0.764515</td>\n",
       "      <td>0.381090</td>\n",
       "      <td>1</td>\n",
       "      <td>1</td>\n",
       "      <td>1</td>\n",
       "      <td>1</td>\n",
       "      <td>1</td>\n",
       "      <td>1</td>\n",
       "      <td>1</td>\n",
       "      <td>1</td>\n",
       "      <td>1</td>\n",
       "    </tr>\n",
       "    <tr>\n",
       "      <th>3234</th>\n",
       "      <td>0.582278</td>\n",
       "      <td>0.615310</td>\n",
       "      <td>0.398159</td>\n",
       "      <td>0.658283</td>\n",
       "      <td>0.661516</td>\n",
       "      <td>0.322413</td>\n",
       "      <td>1</td>\n",
       "      <td>1</td>\n",
       "      <td>1</td>\n",
       "      <td>1</td>\n",
       "      <td>1</td>\n",
       "      <td>1</td>\n",
       "      <td>1</td>\n",
       "      <td>1</td>\n",
       "      <td>1</td>\n",
       "    </tr>\n",
       "    <tr>\n",
       "      <th>184</th>\n",
       "      <td>0.582278</td>\n",
       "      <td>0.545493</td>\n",
       "      <td>0.482318</td>\n",
       "      <td>0.627178</td>\n",
       "      <td>0.580825</td>\n",
       "      <td>0.370585</td>\n",
       "      <td>1</td>\n",
       "      <td>1</td>\n",
       "      <td>1</td>\n",
       "      <td>1</td>\n",
       "      <td>1</td>\n",
       "      <td>1</td>\n",
       "      <td>1</td>\n",
       "      <td>1</td>\n",
       "      <td>0</td>\n",
       "    </tr>\n",
       "    <tr>\n",
       "      <th>1071</th>\n",
       "      <td>0.341772</td>\n",
       "      <td>0.610581</td>\n",
       "      <td>0.531877</td>\n",
       "      <td>0.845886</td>\n",
       "      <td>0.595056</td>\n",
       "      <td>0.487633</td>\n",
       "      <td>0</td>\n",
       "      <td>0</td>\n",
       "      <td>0</td>\n",
       "      <td>0</td>\n",
       "      <td>0</td>\n",
       "      <td>0</td>\n",
       "      <td>0</td>\n",
       "      <td>0</td>\n",
       "      <td>0</td>\n",
       "    </tr>\n",
       "  </tbody>\n",
       "</table>\n",
       "</div>"
      ],
      "text/plain": [
       "           Age  FinancialEducation  RiskPropensity    Income    Wealth  \\\n",
       "179   0.518987            0.119366        0.166095  0.499077  0.447003   \n",
       "2153  0.759494            0.568503        0.617078  0.902076  0.764515   \n",
       "3234  0.582278            0.615310        0.398159  0.658283  0.661516   \n",
       "184   0.582278            0.545493        0.482318  0.627178  0.580825   \n",
       "1071  0.341772            0.610581        0.531877  0.845886  0.595056   \n",
       "\n",
       "      Income/Wealth  MLP IncomeInvestment  RF IncomeInvestment  \\\n",
       "179        0.405424                     1                    1   \n",
       "2153       0.381090                     1                    1   \n",
       "3234       0.322413                     1                    1   \n",
       "184        0.370585                     1                    1   \n",
       "1071       0.487633                     0                    0   \n",
       "\n",
       "      LR IncomeInvestment  KNN IncomeInvestment  SVM IncomeInvestment  \\\n",
       "179                     1                     1                     1   \n",
       "2153                    1                     1                     1   \n",
       "3234                    1                     1                     1   \n",
       "184                     1                     1                     1   \n",
       "1071                    0                     0                     0   \n",
       "\n",
       "      GB IncomeInvestment  DT+Ada IncomeInvestment  NB IncomeInvestment  \\\n",
       "179                     1                        1                    0   \n",
       "2153                    1                        1                    1   \n",
       "3234                    1                        1                    1   \n",
       "184                     1                        1                    1   \n",
       "1071                    0                        0                    0   \n",
       "\n",
       "      XGB IncomeInvestment  \n",
       "179                      1  \n",
       "2153                     1  \n",
       "3234                     1  \n",
       "184                      0  \n",
       "1071                     0  "
      ]
     },
     "execution_count": 57,
     "metadata": {},
     "output_type": "execute_result"
    }
   ],
   "source": [
    "dataset_with_predictions['XGB IncomeInvestment'] = predictions_xgb\n",
    "dataset_with_predictions.head()"
   ]
  },
  {
   "cell_type": "markdown",
   "id": "77c4c8fa-22a9-4931-bc13-223e4407dd37",
   "metadata": {
    "id": "77c4c8fa-22a9-4931-bc13-223e4407dd37"
   },
   "source": [
    "## Ensemble Modeling and Bagging"
   ]
  },
  {
   "cell_type": "markdown",
   "id": "74efd0d8",
   "metadata": {
    "id": "74efd0d8"
   },
   "source": [
    "In this final section, we combine the predictions from multiple models using a bagging approach to obtain a more robust and accurate prediction for the 'IncomeInvestment' label.\n"
   ]
  },
  {
   "cell_type": "markdown",
   "id": "3f91fa34",
   "metadata": {
    "id": "3f91fa34"
   },
   "source": [
    "<h4>Extracting Predictions from Individual Models</h4>"
   ]
  },
  {
   "cell_type": "markdown",
   "id": "50683578",
   "metadata": {
    "id": "50683578"
   },
   "source": [
    "We first extract the predictions from the 9 individual models into a separate DataFrame.\n"
   ]
  },
  {
   "cell_type": "code",
   "execution_count": 58,
   "id": "5b0a438e",
   "metadata": {
    "id": "5b0a438e"
   },
   "outputs": [],
   "source": [
    "predictions_from_models = dataset_with_predictions.iloc[:, -9:]"
   ]
  },
  {
   "cell_type": "markdown",
   "id": "3f58f9c7",
   "metadata": {
    "id": "3f58f9c7"
   },
   "source": [
    "<h4>Majority Voting Bagging</h4>"
   ]
  },
  {
   "cell_type": "markdown",
   "id": "2710e498",
   "metadata": {
    "id": "2710e498"
   },
   "source": [
    "We perform majority voting bagging using the predictions from the 5 models with the highest recall scores: MLP, IF, LR, GB, and DT+ADA.\n"
   ]
  },
  {
   "cell_type": "code",
   "execution_count": 59,
   "id": "e2b9e54d",
   "metadata": {
    "id": "e2b9e54d"
   },
   "outputs": [],
   "source": [
    "# Calculate the mode along the columns axis for each row\n",
    "# Using the best classifiers in term of biggest recall -> MLP, IF, LR, GB, DT+ADA\n",
    "bagging_predictions = predictions_from_models.iloc[:, [0, 1, 2, 5, 6]].mode(axis=1)\n",
    "\n",
    "# Add 'Bagging' column to dataset_with_predictions DataFrame\n",
    "dataset_with_predictions['Bagging'] = bagging_predictions.iloc[:, 0]"
   ]
  },
  {
   "cell_type": "markdown",
   "id": "23d37272",
   "metadata": {
    "id": "23d37272"
   },
   "source": [
    "<h4>Evaluating the Bagging Model</h4>"
   ]
  },
  {
   "cell_type": "markdown",
   "id": "2da639fe",
   "metadata": {
    "id": "2da639fe"
   },
   "source": [
    "We evaluate the performance of the bagging model by calculating the accuracy and recall scores on the test set predictions.\n"
   ]
  },
  {
   "cell_type": "code",
   "execution_count": 60,
   "id": "b32a32ad",
   "metadata": {
    "id": "b32a32ad",
    "outputId": "007680c9-ed63-43a1-a12e-2dabdf3bbb79"
   },
   "outputs": [
    {
     "name": "stdout",
     "output_type": "stream",
     "text": [
      "Accuracy: 0.7765042979942693\n",
      "Recall: 0.7882653061224489\n",
      "Confusion Matrix\n",
      "[[233  73]\n",
      " [ 83 309]]\n"
     ]
    },
    {
     "data": {
      "image/png": "[encoded data removed]",
      "text/plain": [
       "<Figure size 432x360 with 2 Axes>"
      ]
     },
     "metadata": {
      "needs_background": "light"
     },
     "output_type": "display_data"
    }
   ],
   "source": [
    "# Evaluating the overall model\n",
    "accuracy_bagging = accuracy_score(y_test, dataset_with_predictions['Bagging'])\n",
    "print(\"Accuracy:\", accuracy_bagging)\n",
    "\n",
    "recall_bagging = recall_score(y_test, dataset_with_predictions['Bagging'])\n",
    "print(\"Recall:\", recall_bagging)\n",
    "\n",
    "conf_matrix = confusion_matrix(y_test, dataset_with_predictions['Bagging'])\n",
    "print(\"Confusion Matrix\")\n",
    "print(conf_matrix)\n",
    "\n",
    "plt.figure(figsize=(6, 5))\n",
    "sns.heatmap(conf_matrix, annot=True, fmt=\"d\", cmap=\"Blues\")\n",
    "plt.xlabel(\"Predicted Label\")\n",
    "plt.ylabel(\"True Label\")\n",
    "plt.title(\"Confusion Matrix\")\n",
    "\n",
    "plt.tight_layout()\n",
    "plt.show()"
   ]
  },
  {
   "cell_type": "markdown",
   "id": "973ef976",
   "metadata": {
    "id": "973ef976"
   },
   "source": [
    "<h4>Comment:</h4>\n",
    "<p>The aim of bagging is to make the model more robust by combining predictions from multiple models, particularly through majority voting. It is observable that the ensemble approach outperforms almost all the individual models.</p>\n",
    "<p>While bagging aims to improve robustness, its effectiveness may vary depending on the individual models being combined and their respective strengths. This is the reason behind our selection of the 5 best algorithms out of the 9 based on recall scores.</p>  \n",
    "<p>With this choice, our goal is to obtain a more stable model with reduced variance, which can be useful in scenarios where robust predictions are desired or when dealing with noisy or uncertain datasets.</p>"
   ]
  },
  {
   "cell_type": "markdown",
   "id": "29568847",
   "metadata": {
    "id": "29568847"
   },
   "source": [
    "<h4>Saving the Predictions</h4>"
   ]
  },
  {
   "cell_type": "markdown",
   "id": "c9d52892",
   "metadata": {
    "id": "c9d52892"
   },
   "source": [
    "Finally, we save the dataset containing the bagging model's predictions for the 'IncomeInvestment' label.\n"
   ]
  },
  {
   "cell_type": "code",
   "execution_count": 61,
   "id": "3abf6bde",
   "metadata": {
    "id": "3abf6bde"
   },
   "outputs": [],
   "source": [
    "excel_file_path = \"IncomeInvestment_Predictions.xlsx\"\n",
    "\n",
    "dataset_with_predictions.to_excel(excel_file_path, index=False)"
   ]
  },
  {
   "cell_type": "markdown",
   "id": "45fa2bbd-da5f-42ab-a1a4-f61abe9ccbc1",
   "metadata": {
    "id": "45fa2bbd-da5f-42ab-a1a4-f61abe9ccbc1"
   },
   "source": [
    "# AccumulationInvestment classification"
   ]
  },
  {
   "cell_type": "markdown",
   "id": "3b07117b",
   "metadata": {
    "id": "3b07117b"
   },
   "source": [
    "Now we will perform the same classification tasks that has been done for the 'IncomeInvestment' label.\n",
    "Notice that the procedure is exaclty the same, so to not be redundant and to let the notebook be less heavy we didn't comment in detail this part so for well commented code, please check the IncomeInvestment classification section."
   ]
  },
  {
   "cell_type": "code",
   "execution_count": 62,
   "id": "a13e452d-bd91-45b0-bf6c-d47e51d0cc25",
   "metadata": {
    "id": "a13e452d-bd91-45b0-bf6c-d47e51d0cc25"
   },
   "outputs": [],
   "source": [
    "# Train and test split -> let's mantain the same index of the split done for the IncomeInvestment classification\n",
    "X_train, X_test\n",
    "y_train = y_AI.loc[X_train.index]\n",
    "y_test = y_AI.loc[X_test.index]"
   ]
  },
  {
   "cell_type": "markdown",
   "id": "45202c77-9e82-44b3-8382-532a014bc768",
   "metadata": {
    "id": "45202c77-9e82-44b3-8382-532a014bc768"
   },
   "source": [
    "## Multilayer perceptron"
   ]
  },
  {
   "cell_type": "code",
   "execution_count": 63,
   "id": "522a34e5-83f7-400b-8757-5a7e0a4043f4",
   "metadata": {
    "colab": {
     "base_uri": "https://localhost:8080/",
     "height": 653
    },
    "id": "522a34e5-83f7-400b-8757-5a7e0a4043f4",
    "outputId": "5fb94cf9-aaee-4865-cf9a-6e978603efb0"
   },
   "outputs": [
    {
     "name": "stdout",
     "output_type": "stream",
     "text": [
      "Accuracy: 0.7521489971346705\n",
      "Recall score: 0.8655804480651731\n",
      "Confusion Matrix:\n",
      "[[100 107]\n",
      " [ 66 425]]\n"
     ]
    },
    {
     "data": {
      "image/png": "[encoded data removed]",
      "text/plain": [
       "<Figure size 576x432 with 2 Axes>"
      ]
     },
     "metadata": {
      "needs_background": "light"
     },
     "output_type": "display_data"
    }
   ],
   "source": [
    "# Multi Layer Perceptron only on the clients with at least a preference\n",
    "mlp_classifier = MLPClassifier(hidden_layer_sizes=(50, 30), max_iter=1000, random_state=42)\n",
    "\n",
    "# MLP training\n",
    "mlp_classifier.fit(X_train, y_train)\n",
    "\n",
    "# Prediction on the test set\n",
    "predictions = mlp_classifier.predict(X_test)\n",
    "\n",
    "# Accuracy score\n",
    "accuracy = accuracy_score(y_test, predictions)\n",
    "print(\"Accuracy:\", accuracy)\n",
    "\n",
    "# Recall score -> True_positive/(True_positive + False_positive) -> what we want to maximize\n",
    "recall = recall_score(y_test, predictions)\n",
    "print(\"Recall score:\", recall)\n",
    "\n",
    "# Confusion matrix\n",
    "conf_matrix = confusion_matrix(y_test, predictions)\n",
    "print(\"Confusion Matrix:\")\n",
    "print(conf_matrix)\n",
    "\n",
    "\n",
    "plt.figure(figsize=(8, 6))\n",
    "sns.heatmap(conf_matrix, annot=True, fmt=\"d\", cmap=\"Blues\")\n",
    "plt.xlabel(\"Predicted Label\")\n",
    "plt.ylabel(\"True Label\")\n",
    "plt.title(\"Confusion Matrix\")\n",
    "#plt.savefig('ConfusionMatrix_IncomeInvestmentReduced.png')\n",
    "plt.show()"
   ]
  },
  {
   "cell_type": "code",
   "execution_count": 64,
   "id": "b7f576dc-94c1-4119-8f06-3820d6f65f6b",
   "metadata": {
    "colab": {
     "base_uri": "https://localhost:8080/",
     "height": 206
    },
    "id": "b7f576dc-94c1-4119-8f06-3820d6f65f6b",
    "outputId": "2c4322c8-2553-462b-bd4c-932add80fd49"
   },
   "outputs": [
    {
     "data": {
      "text/html": [
       "<div>\n",
       "<style scoped>\n",
       "    .dataframe tbody tr th:only-of-type {\n",
       "        vertical-align: middle;\n",
       "    }\n",
       "\n",
       "    .dataframe tbody tr th {\n",
       "        vertical-align: top;\n",
       "    }\n",
       "\n",
       "    .dataframe thead th {\n",
       "        text-align: right;\n",
       "    }\n",
       "</style>\n",
       "<table border=\"1\" class=\"dataframe\">\n",
       "  <thead>\n",
       "    <tr style=\"text-align: right;\">\n",
       "      <th></th>\n",
       "      <th>Age</th>\n",
       "      <th>FinancialEducation</th>\n",
       "      <th>RiskPropensity</th>\n",
       "      <th>Income</th>\n",
       "      <th>Wealth</th>\n",
       "      <th>Income/Wealth</th>\n",
       "      <th>MLP AccumulationInvestment</th>\n",
       "    </tr>\n",
       "  </thead>\n",
       "  <tbody>\n",
       "    <tr>\n",
       "      <th>179</th>\n",
       "      <td>0.518987</td>\n",
       "      <td>0.119366</td>\n",
       "      <td>0.166095</td>\n",
       "      <td>0.499077</td>\n",
       "      <td>0.447003</td>\n",
       "      <td>0.405424</td>\n",
       "      <td>1</td>\n",
       "    </tr>\n",
       "    <tr>\n",
       "      <th>2153</th>\n",
       "      <td>0.759494</td>\n",
       "      <td>0.568503</td>\n",
       "      <td>0.617078</td>\n",
       "      <td>0.902076</td>\n",
       "      <td>0.764515</td>\n",
       "      <td>0.381090</td>\n",
       "      <td>1</td>\n",
       "    </tr>\n",
       "    <tr>\n",
       "      <th>3234</th>\n",
       "      <td>0.582278</td>\n",
       "      <td>0.615310</td>\n",
       "      <td>0.398159</td>\n",
       "      <td>0.658283</td>\n",
       "      <td>0.661516</td>\n",
       "      <td>0.322413</td>\n",
       "      <td>0</td>\n",
       "    </tr>\n",
       "    <tr>\n",
       "      <th>184</th>\n",
       "      <td>0.582278</td>\n",
       "      <td>0.545493</td>\n",
       "      <td>0.482318</td>\n",
       "      <td>0.627178</td>\n",
       "      <td>0.580825</td>\n",
       "      <td>0.370585</td>\n",
       "      <td>1</td>\n",
       "    </tr>\n",
       "    <tr>\n",
       "      <th>1071</th>\n",
       "      <td>0.341772</td>\n",
       "      <td>0.610581</td>\n",
       "      <td>0.531877</td>\n",
       "      <td>0.845886</td>\n",
       "      <td>0.595056</td>\n",
       "      <td>0.487633</td>\n",
       "      <td>1</td>\n",
       "    </tr>\n",
       "  </tbody>\n",
       "</table>\n",
       "</div>"
      ],
      "text/plain": [
       "           Age  FinancialEducation  RiskPropensity    Income    Wealth  \\\n",
       "179   0.518987            0.119366        0.166095  0.499077  0.447003   \n",
       "2153  0.759494            0.568503        0.617078  0.902076  0.764515   \n",
       "3234  0.582278            0.615310        0.398159  0.658283  0.661516   \n",
       "184   0.582278            0.545493        0.482318  0.627178  0.580825   \n",
       "1071  0.341772            0.610581        0.531877  0.845886  0.595056   \n",
       "\n",
       "      Income/Wealth  MLP AccumulationInvestment  \n",
       "179        0.405424                           1  \n",
       "2153       0.381090                           1  \n",
       "3234       0.322413                           0  \n",
       "184        0.370585                           1  \n",
       "1071       0.487633                           1  "
      ]
     },
     "execution_count": 64,
     "metadata": {},
     "output_type": "execute_result"
    }
   ],
   "source": [
    "# Save the predictions\n",
    "dataset_with_predictions = X_test.copy()\n",
    "dataset_with_predictions['MLP AccumulationInvestment'] = predictions\n",
    "dataset_with_predictions.head()"
   ]
  },
  {
   "cell_type": "markdown",
   "id": "1c8661dc-d494-44c7-851a-e0168c571ead",
   "metadata": {
    "id": "1c8661dc-d494-44c7-851a-e0168c571ead"
   },
   "source": [
    "## Random Forest"
   ]
  },
  {
   "cell_type": "code",
   "execution_count": 65,
   "id": "66df5830-66e5-4a17-820b-365082382bfe",
   "metadata": {
    "colab": {
     "base_uri": "https://localhost:8080/",
     "height": 653
    },
    "id": "66df5830-66e5-4a17-820b-365082382bfe",
    "outputId": "4ac4cf3b-9b34-4316-dd69-b3026d3c3400"
   },
   "outputs": [
    {
     "name": "stdout",
     "output_type": "stream",
     "text": [
      "Accuracy: 0.7822349570200573\n",
      "Recall score: 0.9022403258655805\n",
      "Confusion Matrix:\n",
      "[[103 104]\n",
      " [ 48 443]]\n"
     ]
    },
    {
     "data": {
      "image/png": "[encoded data removed]",
      "text/plain": [
       "<Figure size 576x432 with 2 Axes>"
      ]
     },
     "metadata": {
      "needs_background": "light"
     },
     "output_type": "display_data"
    }
   ],
   "source": [
    "# First attempt without CV\n",
    "# Parameters\n",
    "n_estimators = 50\n",
    "max_depth = 50\n",
    "min_samples_split = 10\n",
    "min_samples_leaf = 10\n",
    "min_impurity_decrease = 0\n",
    "parameters = {\"n_estimators\": n_estimators,\n",
    "      \"max_depth\": max_depth,\n",
    "      \"min_samples_split\": min_samples_split,\n",
    "      \"min_samples_leaf\": min_samples_leaf,\n",
    "     \"min_impurity_decrease\": min_impurity_decrease,\n",
    "       }\n",
    "random_forest = RandomForestClassifier(**parameters, random_state=42)\n",
    "\n",
    "# Training\n",
    "random_forest.fit(X_train, y_train)\n",
    "\n",
    "# Prevision\n",
    "predictions = random_forest.predict(X_test)\n",
    "\n",
    "# Accuracy score\n",
    "accuracy = accuracy_score(y_test, predictions)\n",
    "print(\"Accuracy:\", accuracy)\n",
    "\n",
    "# Recall score\n",
    "recall = recall_score(y_test, predictions)\n",
    "print(\"Recall score:\", recall)\n",
    "\n",
    "# Confusion matrix\n",
    "conf_matrix = confusion_matrix(y_test, predictions)\n",
    "print(\"Confusion Matrix:\")\n",
    "print(conf_matrix)\n",
    "\n",
    "\n",
    "plt.figure(figsize=(8, 6))\n",
    "sns.heatmap(conf_matrix, annot=True, fmt=\"d\", cmap=\"Blues\")\n",
    "plt.xlabel(\"Predicted Label\")\n",
    "plt.ylabel(\"True Label\")\n",
    "plt.title(\"Confusion Matrix\")\n",
    "plt.show()"
   ]
  },
  {
   "cell_type": "code",
   "execution_count": 66,
   "id": "9fdcdd57-e834-4e64-9d46-ee9b08d274ad",
   "metadata": {
    "colab": {
     "base_uri": "https://localhost:8080/"
    },
    "id": "9fdcdd57-e834-4e64-9d46-ee9b08d274ad",
    "outputId": "b3c5e353-2afb-46d9-bea2-cd18703f2b8f"
   },
   "outputs": [
    {
     "name": "stdout",
     "output_type": "stream",
     "text": [
      "Age:0.13485717537885888\n",
      "FinancialEducation:0.08256271497259073\n",
      "RiskPropensity:0.08169738822778998\n",
      "Income:0.1348242664765318\n",
      "Wealth:0.24645456686819966\n",
      "Income/Wealth:0.319603888076029\n"
     ]
    }
   ],
   "source": [
    "# Features importance (impurity based)\n",
    "importances = random_forest.feature_importances_\n",
    "# Dictionary of features and their immportance\n",
    "feature_importance_dict = {X.columns[i] : importances[i] for i in range(len(importances))}\n",
    "for feat, imp in feature_importance_dict.items():\n",
    "    print(f'{feat}:{imp}')\n",
    "\n",
    "# Income/Wealth:0.319; Wealth:0.246; Age:0.135; Income: 0.135"
   ]
  },
  {
   "cell_type": "code",
   "execution_count": 67,
   "id": "eded7c1c-754a-4cb4-8ffe-af7717a42007",
   "metadata": {
    "colab": {
     "base_uri": "https://localhost:8080/",
     "height": 244
    },
    "id": "eded7c1c-754a-4cb4-8ffe-af7717a42007",
    "outputId": "6da5ce19-e728-426d-b7ac-84a18c1780ee"
   },
   "outputs": [
    {
     "data": {
      "text/html": [
       "<div>\n",
       "<style scoped>\n",
       "    .dataframe tbody tr th:only-of-type {\n",
       "        vertical-align: middle;\n",
       "    }\n",
       "\n",
       "    .dataframe tbody tr th {\n",
       "        vertical-align: top;\n",
       "    }\n",
       "\n",
       "    .dataframe thead th {\n",
       "        text-align: right;\n",
       "    }\n",
       "</style>\n",
       "<table border=\"1\" class=\"dataframe\">\n",
       "  <thead>\n",
       "    <tr style=\"text-align: right;\">\n",
       "      <th></th>\n",
       "      <th>Age</th>\n",
       "      <th>FinancialEducation</th>\n",
       "      <th>RiskPropensity</th>\n",
       "      <th>Income</th>\n",
       "      <th>Wealth</th>\n",
       "      <th>Income/Wealth</th>\n",
       "      <th>MLP AccumulationInvestment</th>\n",
       "      <th>RF AccumulationInvestment</th>\n",
       "    </tr>\n",
       "  </thead>\n",
       "  <tbody>\n",
       "    <tr>\n",
       "      <th>179</th>\n",
       "      <td>0.518987</td>\n",
       "      <td>0.119366</td>\n",
       "      <td>0.166095</td>\n",
       "      <td>0.499077</td>\n",
       "      <td>0.447003</td>\n",
       "      <td>0.405424</td>\n",
       "      <td>1</td>\n",
       "      <td>0</td>\n",
       "    </tr>\n",
       "    <tr>\n",
       "      <th>2153</th>\n",
       "      <td>0.759494</td>\n",
       "      <td>0.568503</td>\n",
       "      <td>0.617078</td>\n",
       "      <td>0.902076</td>\n",
       "      <td>0.764515</td>\n",
       "      <td>0.381090</td>\n",
       "      <td>1</td>\n",
       "      <td>1</td>\n",
       "    </tr>\n",
       "    <tr>\n",
       "      <th>3234</th>\n",
       "      <td>0.582278</td>\n",
       "      <td>0.615310</td>\n",
       "      <td>0.398159</td>\n",
       "      <td>0.658283</td>\n",
       "      <td>0.661516</td>\n",
       "      <td>0.322413</td>\n",
       "      <td>0</td>\n",
       "      <td>1</td>\n",
       "    </tr>\n",
       "    <tr>\n",
       "      <th>184</th>\n",
       "      <td>0.582278</td>\n",
       "      <td>0.545493</td>\n",
       "      <td>0.482318</td>\n",
       "      <td>0.627178</td>\n",
       "      <td>0.580825</td>\n",
       "      <td>0.370585</td>\n",
       "      <td>1</td>\n",
       "      <td>1</td>\n",
       "    </tr>\n",
       "    <tr>\n",
       "      <th>1071</th>\n",
       "      <td>0.341772</td>\n",
       "      <td>0.610581</td>\n",
       "      <td>0.531877</td>\n",
       "      <td>0.845886</td>\n",
       "      <td>0.595056</td>\n",
       "      <td>0.487633</td>\n",
       "      <td>1</td>\n",
       "      <td>1</td>\n",
       "    </tr>\n",
       "  </tbody>\n",
       "</table>\n",
       "</div>"
      ],
      "text/plain": [
       "           Age  FinancialEducation  RiskPropensity    Income    Wealth  \\\n",
       "179   0.518987            0.119366        0.166095  0.499077  0.447003   \n",
       "2153  0.759494            0.568503        0.617078  0.902076  0.764515   \n",
       "3234  0.582278            0.615310        0.398159  0.658283  0.661516   \n",
       "184   0.582278            0.545493        0.482318  0.627178  0.580825   \n",
       "1071  0.341772            0.610581        0.531877  0.845886  0.595056   \n",
       "\n",
       "      Income/Wealth  MLP AccumulationInvestment  RF AccumulationInvestment  \n",
       "179        0.405424                           1                          0  \n",
       "2153       0.381090                           1                          1  \n",
       "3234       0.322413                           0                          1  \n",
       "184        0.370585                           1                          1  \n",
       "1071       0.487633                           1                          1  "
      ]
     },
     "execution_count": 67,
     "metadata": {},
     "output_type": "execute_result"
    }
   ],
   "source": [
    "# Save the predictions\n",
    "dataset_with_predictions['RF AccumulationInvestment'] = predictions\n",
    "dataset_with_predictions.head()"
   ]
  },
  {
   "cell_type": "markdown",
   "id": "5bdca430-a0e5-4348-b4dd-e494a3a4e033",
   "metadata": {
    "id": "5bdca430-a0e5-4348-b4dd-e494a3a4e033"
   },
   "source": [
    "## Logistic Regression"
   ]
  },
  {
   "cell_type": "code",
   "execution_count": 68,
   "id": "68b3d719-8caa-4275-8846-bf824c94185d",
   "metadata": {
    "colab": {
     "base_uri": "https://localhost:8080/"
    },
    "id": "68b3d719-8caa-4275-8846-bf824c94185d",
    "outputId": "7e665200-6386-4db1-889b-a8233937660a"
   },
   "outputs": [
    {
     "name": "stdout",
     "output_type": "stream",
     "text": [
      "Accuracy: 0.7077363896848138\n",
      "Recall: 0.9775967413441955\n"
     ]
    }
   ],
   "source": [
    "# Creating the logistic regression model\n",
    "model = LogisticRegression()\n",
    "\n",
    "# Fitting the model on the training data\n",
    "model.fit(X_train, y_train)\n",
    "\n",
    "# Making predictions on the testing data\n",
    "y_pred = model.predict(X_test)\n",
    "\n",
    "# Calculating accuracy\n",
    "accuracy = accuracy_score(y_test, y_pred)\n",
    "print(\"Accuracy:\", accuracy)\n",
    "\n",
    "# Calculating recall\n",
    "recall = recall_score(y_test, y_pred)\n",
    "print(\"Recall:\", recall)"
   ]
  },
  {
   "cell_type": "code",
   "execution_count": 69,
   "id": "89c7fa1d-0c5a-42d9-985b-bac22f73f223",
   "metadata": {
    "colab": {
     "base_uri": "https://localhost:8080/",
     "height": 419
    },
    "id": "89c7fa1d-0c5a-42d9-985b-bac22f73f223",
    "outputId": "44af0430-2237-40e8-feda-d1d18acfe1d9"
   },
   "outputs": [
    {
     "data": {
      "image/png": "[encoded data removed]",
      "text/plain": [
       "<Figure size 1080x432 with 2 Axes>"
      ]
     },
     "metadata": {
      "needs_background": "light"
     },
     "output_type": "display_data"
    }
   ],
   "source": [
    "# Calculating ROC curve and AUC score\n",
    "y_prob = model.predict_proba(X_test)[:, 1]\n",
    "fpr, tpr, thresholds_roc = roc_curve(y_test, y_prob)\n",
    "roc_auc = roc_auc_score(y_test, y_prob)\n",
    "\n",
    "# Plotting ROC curve\n",
    "plt.figure(figsize=(15, 6))\n",
    "\n",
    "plt.subplot(1, 2, 1)\n",
    "plt.plot(fpr, tpr, color='orange', lw=2, label='ROC curve (AUC = %0.2f)' % roc_auc)\n",
    "plt.plot([0, 1], [0, 1], color='blue', linestyle='--')\n",
    "plt.xlabel('False Positive Rate')\n",
    "plt.ylabel('True Positive Rate')\n",
    "plt.title('Receiver Operating Characteristic (ROC) Curve')\n",
    "plt.legend(loc='lower right')\n",
    "\n",
    "# Calculating precision-recall curve\n",
    "precision, recall, thresholds_pr = precision_recall_curve(y_test, y_prob)\n",
    "\n",
    "# Plotting precision-recall curve\n",
    "plt.subplot(1, 2, 2)\n",
    "plt.plot(recall, precision, color='blue', lw=2, label='Precision-Recall curve')\n",
    "plt.xlabel('Recall')\n",
    "plt.ylabel('Precision')\n",
    "plt.title('Precision-Recall Curve')\n",
    "plt.legend(loc='lower left')\n",
    "\n",
    "plt.tight_layout()\n",
    "plt.show()"
   ]
  },
  {
   "cell_type": "code",
   "execution_count": 70,
   "id": "d1fc3086-05bb-4cb6-b786-37c1c383381e",
   "metadata": {
    "colab": {
     "base_uri": "https://localhost:8080/"
    },
    "id": "d1fc3086-05bb-4cb6-b786-37c1c383381e",
    "outputId": "c901bc6b-6353-4229-b185-add89f33c107"
   },
   "outputs": [
    {
     "name": "stdout",
     "output_type": "stream",
     "text": [
      "Optimal Threshold_ROC: 0.7467238312029655\n",
      "Corresponding TPR: 0.6782077393075356\n",
      "Corresponding FPR: 0.30434782608695654\n"
     ]
    }
   ],
   "source": [
    "# Find the point closest to the top-left corner of the ROC curve\n",
    "min_distance = float('inf')\n",
    "optimal_threshold_roc = None\n",
    "optimal_tpr_roc = None\n",
    "optimal_fpr_roc = None\n",
    "\n",
    "for i in range(len(fpr)):\n",
    "    distance = ((fpr[i])**2 + (1 - tpr[i])**2)**0.5  # Euclidean distance form (0,1)\n",
    "    if distance < min_distance:\n",
    "        min_distance = distance\n",
    "        optimal_threshold_roc = thresholds_roc[i]\n",
    "        optimal_tpr_roc = tpr[i]\n",
    "        optimal_fpr_roc = fpr[i]\n",
    "\n",
    "print(\"Optimal Threshold_ROC:\", optimal_threshold_roc) # This should maximize the accuracy\n",
    "print(\"Corresponding TPR:\", optimal_tpr_roc)\n",
    "print(\"Corresponding FPR:\", optimal_fpr_roc)"
   ]
  },
  {
   "cell_type": "code",
   "execution_count": 71,
   "id": "997f1105-66e6-427d-a17f-d8ff4d7e8d18",
   "metadata": {
    "id": "997f1105-66e6-427d-a17f-d8ff4d7e8d18"
   },
   "outputs": [],
   "source": [
    "# Predictions using the optimal threshold from the roc-curv\n",
    "# Getting predicted probabilities\n",
    "y_prob = model.predict_proba(X_test)[:, 1]\n",
    "\n",
    "# Making predictions based on the adjusted threshold\n",
    "y_pred_opt_roc = (y_prob >= optimal_threshold_roc).astype(int)"
   ]
  },
  {
   "cell_type": "code",
   "execution_count": 72,
   "id": "00ada5ec-4de7-4013-b861-40dcac8f4a8d",
   "metadata": {
    "colab": {
     "base_uri": "https://localhost:8080/"
    },
    "id": "00ada5ec-4de7-4013-b861-40dcac8f4a8d",
    "outputId": "c684e337-b1fa-425f-e31d-b2801eca2bb4"
   },
   "outputs": [
    {
     "name": "stdout",
     "output_type": "stream",
     "text": [
      "Optimal Threshold for balancing precision and recall: 0.4818428792261889\n",
      "Corresponding Precision: 0.7144970414201184\n",
      "Corresponding Recall: 0.9837067209775967\n"
     ]
    }
   ],
   "source": [
    "# Find the point closest to the top-right corner of the precision-recall curve\n",
    "min_distance = float('inf')\n",
    "optimal_threshold_pr = None\n",
    "optimal_precision = None\n",
    "optimal_recall = None\n",
    "\n",
    "for i in range(len(precision)):\n",
    "    distance = ((1 - recall[i])**2 + (1 - precision[i])**2)**0.5  # Euclidean distance formula\n",
    "    if distance < min_distance:\n",
    "        min_distance = distance\n",
    "        optimal_threshold_pr = thresholds_pr[i]\n",
    "        optimal_precision = precision[i]\n",
    "        optimal_recall = recall[i]\n",
    "\n",
    "print(\"Optimal Threshold for balancing precision and recall:\", optimal_threshold_pr)\n",
    "print(\"Corresponding Precision:\", optimal_precision)\n",
    "print(\"Corresponding Recall:\", optimal_recall)"
   ]
  },
  {
   "cell_type": "code",
   "execution_count": 73,
   "id": "f17d3f04-e3a7-4f06-8b17-2f71716f32cd",
   "metadata": {
    "id": "f17d3f04-e3a7-4f06-8b17-2f71716f32cd"
   },
   "outputs": [],
   "source": [
    "# Predictions using the optimal threshold from the precision-recall curve\n",
    "# Getting predicted probabilities\n",
    "y_prob = model.predict_proba(X_test)[:, 1]\n",
    "\n",
    "# Making predictions based on the adjusted threshold\n",
    "y_pred_opt_pr = (y_prob >= optimal_threshold_pr).astype(int)"
   ]
  },
  {
   "cell_type": "code",
   "execution_count": 74,
   "id": "a0dd5d03-7313-4875-95ac-ada1cc96a35b",
   "metadata": {
    "colab": {
     "base_uri": "https://localhost:8080/",
     "height": 446
    },
    "id": "a0dd5d03-7313-4875-95ac-ada1cc96a35b",
    "outputId": "29feda29-a6e4-4028-cf3c-b2beda9049f4"
   },
   "outputs": [
    {
     "name": "stdout",
     "output_type": "stream",
     "text": [
      "Confusion Matrix (threshold = 0.5):\n",
      "[[ 14 193]\n",
      " [ 11 480]]\n",
      "Confusion Matrix (threshold = 0.7467238312029655):\n",
      "[[144  63]\n",
      " [158 333]]\n",
      "Confusion Matrix (threshold = 0.4818428792261889):\n",
      "[[ 14 193]\n",
      " [  8 483]]\n"
     ]
    },
    {
     "data": {
      "image/png": "[encoded data removed]",
      "text/plain": [
       "<Figure size 1080x288 with 6 Axes>"
      ]
     },
     "metadata": {
      "needs_background": "light"
     },
     "output_type": "display_data"
    }
   ],
   "source": [
    "# Plot confusion matrix with three thresholds: 0.5/optimal_roc/optimal_pr\n",
    "plt.figure(figsize = (15, 4))\n",
    "\n",
    "plt.subplot(1, 3, 1)\n",
    "conf_matrix = confusion_matrix(y_test, y_pred)\n",
    "print(\"Confusion Matrix (threshold = 0.5):\")\n",
    "print(conf_matrix)\n",
    "\n",
    "sns.heatmap(conf_matrix, annot=True, fmt=\"d\", cmap=\"Blues\")\n",
    "plt.xlabel(\"Predicted Label\")\n",
    "plt.ylabel(\"True Label\")\n",
    "plt.title(\"Confusion Matrix 0.5\")\n",
    "\n",
    "plt.subplot(1, 3, 2)\n",
    "conf_matrix = confusion_matrix(y_test, y_pred_opt_roc)\n",
    "print(\"Confusion Matrix (threshold = 0.7467238312029655):\")\n",
    "print(conf_matrix)\n",
    "\n",
    "sns.heatmap(conf_matrix, annot=True, fmt=\"d\", cmap=\"Blues\")\n",
    "plt.xlabel(\"Predicted Label\")\n",
    "plt.ylabel(\"True Label\")\n",
    "plt.title(\"Confusion Matrix Optimal_ROC\")\n",
    "\n",
    "plt.subplot(1, 3, 3)\n",
    "conf_matrix = confusion_matrix(y_test, y_pred_opt_pr)\n",
    "print(\"Confusion Matrix (threshold = 0.4818428792261889):\")\n",
    "print(conf_matrix)\n",
    "\n",
    "sns.heatmap(conf_matrix, annot=True, fmt=\"d\", cmap=\"Blues\")\n",
    "plt.xlabel(\"Predicted Label\")\n",
    "plt.ylabel(\"True Label\")\n",
    "plt.title(\"Confusion Matrix Optimal_PR\")\n",
    "\n",
    "plt.tight_layout()\n",
    "plt.show()"
   ]
  },
  {
   "cell_type": "markdown",
   "id": "a2cb8bf8-f0f1-4432-80e0-6bda0e4913af",
   "metadata": {
    "id": "a2cb8bf8-f0f1-4432-80e0-6bda0e4913af"
   },
   "source": [
    "**Comment:**\n",
    "  \n",
    "Even though the last model (i.e., the model closest to the top right corner of the precision-recall space) has less accuracy in predicting the negative class, we choose it because our main focus is to sell.\n",
    "Therefore, we aim to identify potential customers, who are represented by the positive class.\n"
   ]
  },
  {
   "cell_type": "code",
   "execution_count": 75,
   "id": "1332c26d-8582-4026-8380-375aacefcb09",
   "metadata": {
    "colab": {
     "base_uri": "https://localhost:8080/",
     "height": 244
    },
    "id": "1332c26d-8582-4026-8380-375aacefcb09",
    "outputId": "e37a8852-ca6b-4aee-de34-004ed904d077"
   },
   "outputs": [
    {
     "data": {
      "text/html": [
       "<div>\n",
       "<style scoped>\n",
       "    .dataframe tbody tr th:only-of-type {\n",
       "        vertical-align: middle;\n",
       "    }\n",
       "\n",
       "    .dataframe tbody tr th {\n",
       "        vertical-align: top;\n",
       "    }\n",
       "\n",
       "    .dataframe thead th {\n",
       "        text-align: right;\n",
       "    }\n",
       "</style>\n",
       "<table border=\"1\" class=\"dataframe\">\n",
       "  <thead>\n",
       "    <tr style=\"text-align: right;\">\n",
       "      <th></th>\n",
       "      <th>Age</th>\n",
       "      <th>FinancialEducation</th>\n",
       "      <th>RiskPropensity</th>\n",
       "      <th>Income</th>\n",
       "      <th>Wealth</th>\n",
       "      <th>Income/Wealth</th>\n",
       "      <th>MLP AccumulationInvestment</th>\n",
       "      <th>RF AccumulationInvestment</th>\n",
       "      <th>LR AccumulationInvestment</th>\n",
       "    </tr>\n",
       "  </thead>\n",
       "  <tbody>\n",
       "    <tr>\n",
       "      <th>179</th>\n",
       "      <td>0.518987</td>\n",
       "      <td>0.119366</td>\n",
       "      <td>0.166095</td>\n",
       "      <td>0.499077</td>\n",
       "      <td>0.447003</td>\n",
       "      <td>0.405424</td>\n",
       "      <td>1</td>\n",
       "      <td>0</td>\n",
       "      <td>1</td>\n",
       "    </tr>\n",
       "    <tr>\n",
       "      <th>2153</th>\n",
       "      <td>0.759494</td>\n",
       "      <td>0.568503</td>\n",
       "      <td>0.617078</td>\n",
       "      <td>0.902076</td>\n",
       "      <td>0.764515</td>\n",
       "      <td>0.381090</td>\n",
       "      <td>1</td>\n",
       "      <td>1</td>\n",
       "      <td>1</td>\n",
       "    </tr>\n",
       "    <tr>\n",
       "      <th>3234</th>\n",
       "      <td>0.582278</td>\n",
       "      <td>0.615310</td>\n",
       "      <td>0.398159</td>\n",
       "      <td>0.658283</td>\n",
       "      <td>0.661516</td>\n",
       "      <td>0.322413</td>\n",
       "      <td>0</td>\n",
       "      <td>1</td>\n",
       "      <td>1</td>\n",
       "    </tr>\n",
       "    <tr>\n",
       "      <th>184</th>\n",
       "      <td>0.582278</td>\n",
       "      <td>0.545493</td>\n",
       "      <td>0.482318</td>\n",
       "      <td>0.627178</td>\n",
       "      <td>0.580825</td>\n",
       "      <td>0.370585</td>\n",
       "      <td>1</td>\n",
       "      <td>1</td>\n",
       "      <td>1</td>\n",
       "    </tr>\n",
       "    <tr>\n",
       "      <th>1071</th>\n",
       "      <td>0.341772</td>\n",
       "      <td>0.610581</td>\n",
       "      <td>0.531877</td>\n",
       "      <td>0.845886</td>\n",
       "      <td>0.595056</td>\n",
       "      <td>0.487633</td>\n",
       "      <td>1</td>\n",
       "      <td>1</td>\n",
       "      <td>1</td>\n",
       "    </tr>\n",
       "  </tbody>\n",
       "</table>\n",
       "</div>"
      ],
      "text/plain": [
       "           Age  FinancialEducation  RiskPropensity    Income    Wealth  \\\n",
       "179   0.518987            0.119366        0.166095  0.499077  0.447003   \n",
       "2153  0.759494            0.568503        0.617078  0.902076  0.764515   \n",
       "3234  0.582278            0.615310        0.398159  0.658283  0.661516   \n",
       "184   0.582278            0.545493        0.482318  0.627178  0.580825   \n",
       "1071  0.341772            0.610581        0.531877  0.845886  0.595056   \n",
       "\n",
       "      Income/Wealth  MLP AccumulationInvestment  RF AccumulationInvestment  \\\n",
       "179        0.405424                           1                          0   \n",
       "2153       0.381090                           1                          1   \n",
       "3234       0.322413                           0                          1   \n",
       "184        0.370585                           1                          1   \n",
       "1071       0.487633                           1                          1   \n",
       "\n",
       "      LR AccumulationInvestment  \n",
       "179                           1  \n",
       "2153                          1  \n",
       "3234                          1  \n",
       "184                           1  \n",
       "1071                          1  "
      ]
     },
     "execution_count": 75,
     "metadata": {},
     "output_type": "execute_result"
    }
   ],
   "source": [
    "# Save the predictions\n",
    "dataset_with_predictions['LR AccumulationInvestment'] = y_pred_opt_pr\n",
    "dataset_with_predictions.head()"
   ]
  },
  {
   "cell_type": "markdown",
   "id": "17cedcf3-b19c-4ea7-9362-7511c5a6ad60",
   "metadata": {
    "id": "17cedcf3-b19c-4ea7-9362-7511c5a6ad60"
   },
   "source": [
    "## K-Nearest Neighbors"
   ]
  },
  {
   "cell_type": "code",
   "execution_count": 76,
   "id": "8493e0a4-e6a6-4c02-8d49-18644e92aa78",
   "metadata": {
    "colab": {
     "base_uri": "https://localhost:8080/",
     "height": 564
    },
    "id": "8493e0a4-e6a6-4c02-8d49-18644e92aa78",
    "outputId": "b2fdc815-33a7-4760-d72a-e1cc5db039c4"
   },
   "outputs": [
    {
     "data": {
      "image/png": "[encoded data removed]",
      "text/plain": [
       "<Figure size 720x432 with 1 Axes>"
      ]
     },
     "metadata": {
      "needs_background": "light"
     },
     "output_type": "display_data"
    }
   ],
   "source": [
    "# Define a range of k values to test\n",
    "k_values = range(1, 50)  # Example: Test k values from 1 to 20\n",
    "\n",
    "# Empty list to store cross-validation scores for each k\n",
    "cv_scores = []\n",
    "\n",
    "# Perform 10-fold cross-validation for each k\n",
    "for k in k_values:\n",
    "    knn_model = KNeighborsClassifier(n_neighbors=k)\n",
    "    scores = cross_val_score(knn_model, X_train, y_train, cv=10, scoring='accuracy')\n",
    "    cv_scores.append(scores.mean())\n",
    "\n",
    "\n",
    "# Plotting the cross-validation scores for each k\n",
    "plt.figure(figsize=(10, 6))\n",
    "plt.plot(k_values, cv_scores, marker='o', linestyle='-', color='orange')\n",
    "\n",
    "plt.axvline(x=13, color='r', linestyle='--', label='Optimal k = 13')\n",
    "\n",
    "plt.xlabel('Number of Neighbors (k)')\n",
    "plt.ylabel('Cross-Validation Accuracy')\n",
    "plt.title('Cross-Validation Scores for Different Values of k')\n",
    "plt.grid(True)\n",
    "plt.legend()\n",
    "plt.show()"
   ]
  },
  {
   "cell_type": "code",
   "execution_count": 77,
   "id": "816626b9-776c-4dbf-8de1-4634a92697aa",
   "metadata": {
    "id": "816626b9-776c-4dbf-8de1-4634a92697aa"
   },
   "outputs": [],
   "source": [
    "# Creating the KNN model with the best K found\n",
    "k_best = 13\n",
    "knn_model = KNeighborsClassifier(n_neighbors=k_best)\n",
    "\n",
    "# Fitting the model on the training data\n",
    "knn_model.fit(X_train, y_train)\n",
    "\n",
    "# Making predictions on the testing data\n",
    "y_pred_knn = knn_model.predict(X_test)"
   ]
  },
  {
   "cell_type": "code",
   "execution_count": 78,
   "id": "0fcd1bd4-3a41-4561-bded-f5f1e80865b4",
   "metadata": {
    "colab": {
     "base_uri": "https://localhost:8080/",
     "height": 596
    },
    "id": "0fcd1bd4-3a41-4561-bded-f5f1e80865b4",
    "outputId": "3fa3da40-785c-4e15-b1db-6f06a66aef2a"
   },
   "outputs": [
    {
     "name": "stdout",
     "output_type": "stream",
     "text": [
      "Accuracy: 0.7693409742120344\n",
      "Recall: 0.924643584521385\n",
      "Confusion Matrix\n",
      "[[ 83 124]\n",
      " [ 37 454]]\n"
     ]
    },
    {
     "data": {
      "image/png": "[encoded data removed]",
      "text/plain": [
       "<Figure size 432x360 with 2 Axes>"
      ]
     },
     "metadata": {
      "needs_background": "light"
     },
     "output_type": "display_data"
    }
   ],
   "source": [
    "# Evaluating the model\n",
    "accuracy_knn = accuracy_score(y_test, y_pred_knn)\n",
    "print(\"Accuracy:\", accuracy_knn)\n",
    "\n",
    "recall_knn = recall_score(y_test, y_pred_knn)\n",
    "print(\"Recall:\", recall_knn)\n",
    "\n",
    "conf_matrix = confusion_matrix(y_test, y_pred_knn)\n",
    "print(\"Confusion Matrix\")\n",
    "print(conf_matrix)\n",
    "\n",
    "plt.figure(figsize=(6, 5))\n",
    "sns.heatmap(conf_matrix, annot=True, fmt=\"d\", cmap=\"Blues\")\n",
    "plt.xlabel(\"Predicted Label\")\n",
    "plt.ylabel(\"True Label\")\n",
    "plt.title(\"Confusion Matrix\")\n",
    "\n",
    "plt.tight_layout()\n",
    "plt.show()"
   ]
  },
  {
   "cell_type": "code",
   "execution_count": 79,
   "id": "7d653e4c-f0ea-45b2-8d30-c2b9a54ae5d5",
   "metadata": {
    "colab": {
     "base_uri": "https://localhost:8080/",
     "height": 244
    },
    "id": "7d653e4c-f0ea-45b2-8d30-c2b9a54ae5d5",
    "outputId": "55d9eeb9-95e2-47ad-8ae2-b47c12f1796f"
   },
   "outputs": [
    {
     "data": {
      "text/html": [
       "<div>\n",
       "<style scoped>\n",
       "    .dataframe tbody tr th:only-of-type {\n",
       "        vertical-align: middle;\n",
       "    }\n",
       "\n",
       "    .dataframe tbody tr th {\n",
       "        vertical-align: top;\n",
       "    }\n",
       "\n",
       "    .dataframe thead th {\n",
       "        text-align: right;\n",
       "    }\n",
       "</style>\n",
       "<table border=\"1\" class=\"dataframe\">\n",
       "  <thead>\n",
       "    <tr style=\"text-align: right;\">\n",
       "      <th></th>\n",
       "      <th>Age</th>\n",
       "      <th>FinancialEducation</th>\n",
       "      <th>RiskPropensity</th>\n",
       "      <th>Income</th>\n",
       "      <th>Wealth</th>\n",
       "      <th>Income/Wealth</th>\n",
       "      <th>MLP AccumulationInvestment</th>\n",
       "      <th>RF AccumulationInvestment</th>\n",
       "      <th>LR AccumulationInvestment</th>\n",
       "      <th>KNN AccumulationInvestment</th>\n",
       "    </tr>\n",
       "  </thead>\n",
       "  <tbody>\n",
       "    <tr>\n",
       "      <th>179</th>\n",
       "      <td>0.518987</td>\n",
       "      <td>0.119366</td>\n",
       "      <td>0.166095</td>\n",
       "      <td>0.499077</td>\n",
       "      <td>0.447003</td>\n",
       "      <td>0.405424</td>\n",
       "      <td>1</td>\n",
       "      <td>0</td>\n",
       "      <td>1</td>\n",
       "      <td>1</td>\n",
       "    </tr>\n",
       "    <tr>\n",
       "      <th>2153</th>\n",
       "      <td>0.759494</td>\n",
       "      <td>0.568503</td>\n",
       "      <td>0.617078</td>\n",
       "      <td>0.902076</td>\n",
       "      <td>0.764515</td>\n",
       "      <td>0.381090</td>\n",
       "      <td>1</td>\n",
       "      <td>1</td>\n",
       "      <td>1</td>\n",
       "      <td>1</td>\n",
       "    </tr>\n",
       "    <tr>\n",
       "      <th>3234</th>\n",
       "      <td>0.582278</td>\n",
       "      <td>0.615310</td>\n",
       "      <td>0.398159</td>\n",
       "      <td>0.658283</td>\n",
       "      <td>0.661516</td>\n",
       "      <td>0.322413</td>\n",
       "      <td>0</td>\n",
       "      <td>1</td>\n",
       "      <td>1</td>\n",
       "      <td>1</td>\n",
       "    </tr>\n",
       "    <tr>\n",
       "      <th>184</th>\n",
       "      <td>0.582278</td>\n",
       "      <td>0.545493</td>\n",
       "      <td>0.482318</td>\n",
       "      <td>0.627178</td>\n",
       "      <td>0.580825</td>\n",
       "      <td>0.370585</td>\n",
       "      <td>1</td>\n",
       "      <td>1</td>\n",
       "      <td>1</td>\n",
       "      <td>1</td>\n",
       "    </tr>\n",
       "    <tr>\n",
       "      <th>1071</th>\n",
       "      <td>0.341772</td>\n",
       "      <td>0.610581</td>\n",
       "      <td>0.531877</td>\n",
       "      <td>0.845886</td>\n",
       "      <td>0.595056</td>\n",
       "      <td>0.487633</td>\n",
       "      <td>1</td>\n",
       "      <td>1</td>\n",
       "      <td>1</td>\n",
       "      <td>1</td>\n",
       "    </tr>\n",
       "  </tbody>\n",
       "</table>\n",
       "</div>"
      ],
      "text/plain": [
       "           Age  FinancialEducation  RiskPropensity    Income    Wealth  \\\n",
       "179   0.518987            0.119366        0.166095  0.499077  0.447003   \n",
       "2153  0.759494            0.568503        0.617078  0.902076  0.764515   \n",
       "3234  0.582278            0.615310        0.398159  0.658283  0.661516   \n",
       "184   0.582278            0.545493        0.482318  0.627178  0.580825   \n",
       "1071  0.341772            0.610581        0.531877  0.845886  0.595056   \n",
       "\n",
       "      Income/Wealth  MLP AccumulationInvestment  RF AccumulationInvestment  \\\n",
       "179        0.405424                           1                          0   \n",
       "2153       0.381090                           1                          1   \n",
       "3234       0.322413                           0                          1   \n",
       "184        0.370585                           1                          1   \n",
       "1071       0.487633                           1                          1   \n",
       "\n",
       "      LR AccumulationInvestment  KNN AccumulationInvestment  \n",
       "179                           1                           1  \n",
       "2153                          1                           1  \n",
       "3234                          1                           1  \n",
       "184                           1                           1  \n",
       "1071                          1                           1  "
      ]
     },
     "execution_count": 79,
     "metadata": {},
     "output_type": "execute_result"
    }
   ],
   "source": [
    "# Save the predictions\n",
    "dataset_with_predictions['KNN AccumulationInvestment'] = y_pred_knn\n",
    "dataset_with_predictions.head()"
   ]
  },
  {
   "cell_type": "markdown",
   "id": "3f3f9bde-f5c6-4e7f-b1ef-6a29682f9473",
   "metadata": {
    "id": "3f3f9bde-f5c6-4e7f-b1ef-6a29682f9473"
   },
   "source": [
    "## Support Vector Machine (SVM)"
   ]
  },
  {
   "cell_type": "code",
   "execution_count": 80,
   "id": "785ba66e-7915-45ec-afcc-fb76a1f259bd",
   "metadata": {
    "colab": {
     "base_uri": "https://localhost:8080/",
     "height": 596
    },
    "id": "785ba66e-7915-45ec-afcc-fb76a1f259bd",
    "outputId": "1831a203-523d-435b-9dc2-c26752f78158"
   },
   "outputs": [
    {
     "name": "stdout",
     "output_type": "stream",
     "text": [
      "Accuracy: 0.7349570200573066\n",
      "Recall: 0.9572301425661914\n",
      "Confusion Matrix\n",
      "[[ 43 164]\n",
      " [ 21 470]]\n"
     ]
    },
    {
     "data": {
      "image/png": "[encoded data removed]",
      "text/plain": [
       "<Figure size 432x360 with 2 Axes>"
      ]
     },
     "metadata": {
      "needs_background": "light"
     },
     "output_type": "display_data"
    }
   ],
   "source": [
    "# Creating the SVM model\n",
    "svm_model = SVC(kernel='rbf', random_state=42)  # You can adjust the kernel and other parameters as needed\n",
    "\n",
    "# Fitting the model on the training data\n",
    "svm_model.fit(X_train, y_train)\n",
    "\n",
    "# Making predictions on the testing data\n",
    "y_pred_svm = svm_model.predict(X_test)\n",
    "\n",
    "# Evaluating the model\n",
    "accuracy_svm = accuracy_score(y_test, y_pred_svm)\n",
    "print(\"Accuracy:\", accuracy_svm)\n",
    "\n",
    "recall_svm = recall_score(y_test, y_pred_svm)\n",
    "print(\"Recall:\", recall_svm)\n",
    "\n",
    "conf_matrix = confusion_matrix(y_test, y_pred_svm)\n",
    "print(\"Confusion Matrix\")\n",
    "print(conf_matrix)\n",
    "\n",
    "plt.figure(figsize=(6, 5))\n",
    "sns.heatmap(conf_matrix, annot=True, fmt=\"d\", cmap=\"Blues\")\n",
    "plt.xlabel(\"Predicted Label\")\n",
    "plt.ylabel(\"True Label\")\n",
    "plt.title(\"Confusion Matrix\")\n",
    "\n",
    "plt.tight_layout()\n",
    "plt.show()"
   ]
  },
  {
   "cell_type": "code",
   "execution_count": 81,
   "id": "42cda87e-416c-42d9-8b93-9ec7ebe97222",
   "metadata": {
    "colab": {
     "base_uri": "https://localhost:8080/",
     "height": 244
    },
    "id": "42cda87e-416c-42d9-8b93-9ec7ebe97222",
    "outputId": "97357420-d2e1-4022-a0fa-ce74a0203e8f"
   },
   "outputs": [
    {
     "data": {
      "text/html": [
       "<div>\n",
       "<style scoped>\n",
       "    .dataframe tbody tr th:only-of-type {\n",
       "        vertical-align: middle;\n",
       "    }\n",
       "\n",
       "    .dataframe tbody tr th {\n",
       "        vertical-align: top;\n",
       "    }\n",
       "\n",
       "    .dataframe thead th {\n",
       "        text-align: right;\n",
       "    }\n",
       "</style>\n",
       "<table border=\"1\" class=\"dataframe\">\n",
       "  <thead>\n",
       "    <tr style=\"text-align: right;\">\n",
       "      <th></th>\n",
       "      <th>Age</th>\n",
       "      <th>FinancialEducation</th>\n",
       "      <th>RiskPropensity</th>\n",
       "      <th>Income</th>\n",
       "      <th>Wealth</th>\n",
       "      <th>Income/Wealth</th>\n",
       "      <th>MLP AccumulationInvestment</th>\n",
       "      <th>RF AccumulationInvestment</th>\n",
       "      <th>LR AccumulationInvestment</th>\n",
       "      <th>KNN AccumulationInvestment</th>\n",
       "      <th>SVM AccumulationInvestment</th>\n",
       "    </tr>\n",
       "  </thead>\n",
       "  <tbody>\n",
       "    <tr>\n",
       "      <th>179</th>\n",
       "      <td>0.518987</td>\n",
       "      <td>0.119366</td>\n",
       "      <td>0.166095</td>\n",
       "      <td>0.499077</td>\n",
       "      <td>0.447003</td>\n",
       "      <td>0.405424</td>\n",
       "      <td>1</td>\n",
       "      <td>0</td>\n",
       "      <td>1</td>\n",
       "      <td>1</td>\n",
       "      <td>1</td>\n",
       "    </tr>\n",
       "    <tr>\n",
       "      <th>2153</th>\n",
       "      <td>0.759494</td>\n",
       "      <td>0.568503</td>\n",
       "      <td>0.617078</td>\n",
       "      <td>0.902076</td>\n",
       "      <td>0.764515</td>\n",
       "      <td>0.381090</td>\n",
       "      <td>1</td>\n",
       "      <td>1</td>\n",
       "      <td>1</td>\n",
       "      <td>1</td>\n",
       "      <td>1</td>\n",
       "    </tr>\n",
       "    <tr>\n",
       "      <th>3234</th>\n",
       "      <td>0.582278</td>\n",
       "      <td>0.615310</td>\n",
       "      <td>0.398159</td>\n",
       "      <td>0.658283</td>\n",
       "      <td>0.661516</td>\n",
       "      <td>0.322413</td>\n",
       "      <td>0</td>\n",
       "      <td>1</td>\n",
       "      <td>1</td>\n",
       "      <td>1</td>\n",
       "      <td>1</td>\n",
       "    </tr>\n",
       "    <tr>\n",
       "      <th>184</th>\n",
       "      <td>0.582278</td>\n",
       "      <td>0.545493</td>\n",
       "      <td>0.482318</td>\n",
       "      <td>0.627178</td>\n",
       "      <td>0.580825</td>\n",
       "      <td>0.370585</td>\n",
       "      <td>1</td>\n",
       "      <td>1</td>\n",
       "      <td>1</td>\n",
       "      <td>1</td>\n",
       "      <td>1</td>\n",
       "    </tr>\n",
       "    <tr>\n",
       "      <th>1071</th>\n",
       "      <td>0.341772</td>\n",
       "      <td>0.610581</td>\n",
       "      <td>0.531877</td>\n",
       "      <td>0.845886</td>\n",
       "      <td>0.595056</td>\n",
       "      <td>0.487633</td>\n",
       "      <td>1</td>\n",
       "      <td>1</td>\n",
       "      <td>1</td>\n",
       "      <td>1</td>\n",
       "      <td>1</td>\n",
       "    </tr>\n",
       "  </tbody>\n",
       "</table>\n",
       "</div>"
      ],
      "text/plain": [
       "           Age  FinancialEducation  RiskPropensity    Income    Wealth  \\\n",
       "179   0.518987            0.119366        0.166095  0.499077  0.447003   \n",
       "2153  0.759494            0.568503        0.617078  0.902076  0.764515   \n",
       "3234  0.582278            0.615310        0.398159  0.658283  0.661516   \n",
       "184   0.582278            0.545493        0.482318  0.627178  0.580825   \n",
       "1071  0.341772            0.610581        0.531877  0.845886  0.595056   \n",
       "\n",
       "      Income/Wealth  MLP AccumulationInvestment  RF AccumulationInvestment  \\\n",
       "179        0.405424                           1                          0   \n",
       "2153       0.381090                           1                          1   \n",
       "3234       0.322413                           0                          1   \n",
       "184        0.370585                           1                          1   \n",
       "1071       0.487633                           1                          1   \n",
       "\n",
       "      LR AccumulationInvestment  KNN AccumulationInvestment  \\\n",
       "179                           1                           1   \n",
       "2153                          1                           1   \n",
       "3234                          1                           1   \n",
       "184                           1                           1   \n",
       "1071                          1                           1   \n",
       "\n",
       "      SVM AccumulationInvestment  \n",
       "179                            1  \n",
       "2153                           1  \n",
       "3234                           1  \n",
       "184                            1  \n",
       "1071                           1  "
      ]
     },
     "execution_count": 81,
     "metadata": {},
     "output_type": "execute_result"
    }
   ],
   "source": [
    "# Save the predictions\n",
    "dataset_with_predictions['SVM AccumulationInvestment'] = y_pred_svm\n",
    "dataset_with_predictions.head()"
   ]
  },
  {
   "cell_type": "markdown",
   "id": "PLrPssI0O6HQ",
   "metadata": {
    "id": "PLrPssI0O6HQ"
   },
   "source": [
    "## Gradient Boosting"
   ]
  },
  {
   "cell_type": "code",
   "execution_count": 82,
   "id": "F004OvaKO6HR",
   "metadata": {
    "colab": {
     "base_uri": "https://localhost:8080/",
     "height": 671
    },
    "id": "F004OvaKO6HR",
    "outputId": "249224dd-ea18-4e70-abae-210921235565"
   },
   "outputs": [
    {
     "name": "stdout",
     "output_type": "stream",
     "text": [
      "Gradient Boosting Classifier Metrics:\n",
      "Accuracy: 0.7851002865329513\n",
      "Recall score: 0.9042769857433809\n",
      "Confusion Matrix:\n",
      "[[104 103]\n",
      " [ 47 444]]\n"
     ]
    },
    {
     "data": {
      "image/png": "[encoded data removed]",
      "text/plain": [
       "<Figure size 576x432 with 2 Axes>"
      ]
     },
     "metadata": {
      "needs_background": "light"
     },
     "output_type": "display_data"
    }
   ],
   "source": [
    "from sklearn.ensemble import GradientBoostingClassifier\n",
    "from sklearn.metrics import accuracy_score, recall_score, confusion_matrix\n",
    "import seaborn as sns\n",
    "import matplotlib.pyplot as plt\n",
    "\n",
    "# Initialize the Gradient Boosting Classifier\n",
    "gb_classifier = GradientBoostingClassifier(n_estimators=100, learning_rate=0.1, max_depth=3, random_state=42)\n",
    "\n",
    "# Training the model\n",
    "gb_classifier.fit(X_train, y_train)\n",
    "\n",
    "# Prediction on the test set\n",
    "predictions_gb = gb_classifier.predict(X_test)\n",
    "\n",
    "# Accuracy and Recall\n",
    "accuracy_gb = accuracy_score(y_test, predictions_gb)\n",
    "recall_gb = recall_score(y_test, predictions_gb)\n",
    "\n",
    "# Confusion Matrix\n",
    "conf_matrix_gb = confusion_matrix(y_test, predictions_gb)\n",
    "\n",
    "print(\"Gradient Boosting Classifier Metrics:\")\n",
    "print(\"Accuracy:\", accuracy_gb)\n",
    "print(\"Recall score:\", recall_gb)\n",
    "print(\"Confusion Matrix:\")\n",
    "print(conf_matrix_gb)\n",
    "\n",
    "plt.figure(figsize=(8, 6))\n",
    "sns.heatmap(conf_matrix_gb, annot=True, fmt=\"d\", cmap=\"Blues\")\n",
    "plt.xlabel(\"Predicted Label\")\n",
    "plt.ylabel(\"True Label\")\n",
    "plt.title(\"Confusion Matrix - Gradient Boosting\")\n",
    "plt.show()\n"
   ]
  },
  {
   "cell_type": "code",
   "execution_count": 83,
   "id": "RoZPY9FKO6HR",
   "metadata": {
    "colab": {
     "base_uri": "https://localhost:8080/",
     "height": 244
    },
    "id": "RoZPY9FKO6HR",
    "outputId": "af3a9d33-a0d1-4984-8850-272cc5d535d4"
   },
   "outputs": [
    {
     "data": {
      "text/html": [
       "<div>\n",
       "<style scoped>\n",
       "    .dataframe tbody tr th:only-of-type {\n",
       "        vertical-align: middle;\n",
       "    }\n",
       "\n",
       "    .dataframe tbody tr th {\n",
       "        vertical-align: top;\n",
       "    }\n",
       "\n",
       "    .dataframe thead th {\n",
       "        text-align: right;\n",
       "    }\n",
       "</style>\n",
       "<table border=\"1\" class=\"dataframe\">\n",
       "  <thead>\n",
       "    <tr style=\"text-align: right;\">\n",
       "      <th></th>\n",
       "      <th>Age</th>\n",
       "      <th>FinancialEducation</th>\n",
       "      <th>RiskPropensity</th>\n",
       "      <th>Income</th>\n",
       "      <th>Wealth</th>\n",
       "      <th>Income/Wealth</th>\n",
       "      <th>MLP AccumulationInvestment</th>\n",
       "      <th>RF AccumulationInvestment</th>\n",
       "      <th>LR AccumulationInvestment</th>\n",
       "      <th>KNN AccumulationInvestment</th>\n",
       "      <th>SVM AccumulationInvestment</th>\n",
       "      <th>GB AccumulationInvestment</th>\n",
       "    </tr>\n",
       "  </thead>\n",
       "  <tbody>\n",
       "    <tr>\n",
       "      <th>179</th>\n",
       "      <td>0.518987</td>\n",
       "      <td>0.119366</td>\n",
       "      <td>0.166095</td>\n",
       "      <td>0.499077</td>\n",
       "      <td>0.447003</td>\n",
       "      <td>0.405424</td>\n",
       "      <td>1</td>\n",
       "      <td>0</td>\n",
       "      <td>1</td>\n",
       "      <td>1</td>\n",
       "      <td>1</td>\n",
       "      <td>0</td>\n",
       "    </tr>\n",
       "    <tr>\n",
       "      <th>2153</th>\n",
       "      <td>0.759494</td>\n",
       "      <td>0.568503</td>\n",
       "      <td>0.617078</td>\n",
       "      <td>0.902076</td>\n",
       "      <td>0.764515</td>\n",
       "      <td>0.381090</td>\n",
       "      <td>1</td>\n",
       "      <td>1</td>\n",
       "      <td>1</td>\n",
       "      <td>1</td>\n",
       "      <td>1</td>\n",
       "      <td>1</td>\n",
       "    </tr>\n",
       "    <tr>\n",
       "      <th>3234</th>\n",
       "      <td>0.582278</td>\n",
       "      <td>0.615310</td>\n",
       "      <td>0.398159</td>\n",
       "      <td>0.658283</td>\n",
       "      <td>0.661516</td>\n",
       "      <td>0.322413</td>\n",
       "      <td>0</td>\n",
       "      <td>1</td>\n",
       "      <td>1</td>\n",
       "      <td>1</td>\n",
       "      <td>1</td>\n",
       "      <td>1</td>\n",
       "    </tr>\n",
       "    <tr>\n",
       "      <th>184</th>\n",
       "      <td>0.582278</td>\n",
       "      <td>0.545493</td>\n",
       "      <td>0.482318</td>\n",
       "      <td>0.627178</td>\n",
       "      <td>0.580825</td>\n",
       "      <td>0.370585</td>\n",
       "      <td>1</td>\n",
       "      <td>1</td>\n",
       "      <td>1</td>\n",
       "      <td>1</td>\n",
       "      <td>1</td>\n",
       "      <td>1</td>\n",
       "    </tr>\n",
       "    <tr>\n",
       "      <th>1071</th>\n",
       "      <td>0.341772</td>\n",
       "      <td>0.610581</td>\n",
       "      <td>0.531877</td>\n",
       "      <td>0.845886</td>\n",
       "      <td>0.595056</td>\n",
       "      <td>0.487633</td>\n",
       "      <td>1</td>\n",
       "      <td>1</td>\n",
       "      <td>1</td>\n",
       "      <td>1</td>\n",
       "      <td>1</td>\n",
       "      <td>1</td>\n",
       "    </tr>\n",
       "  </tbody>\n",
       "</table>\n",
       "</div>"
      ],
      "text/plain": [
       "           Age  FinancialEducation  RiskPropensity    Income    Wealth  \\\n",
       "179   0.518987            0.119366        0.166095  0.499077  0.447003   \n",
       "2153  0.759494            0.568503        0.617078  0.902076  0.764515   \n",
       "3234  0.582278            0.615310        0.398159  0.658283  0.661516   \n",
       "184   0.582278            0.545493        0.482318  0.627178  0.580825   \n",
       "1071  0.341772            0.610581        0.531877  0.845886  0.595056   \n",
       "\n",
       "      Income/Wealth  MLP AccumulationInvestment  RF AccumulationInvestment  \\\n",
       "179        0.405424                           1                          0   \n",
       "2153       0.381090                           1                          1   \n",
       "3234       0.322413                           0                          1   \n",
       "184        0.370585                           1                          1   \n",
       "1071       0.487633                           1                          1   \n",
       "\n",
       "      LR AccumulationInvestment  KNN AccumulationInvestment  \\\n",
       "179                           1                           1   \n",
       "2153                          1                           1   \n",
       "3234                          1                           1   \n",
       "184                           1                           1   \n",
       "1071                          1                           1   \n",
       "\n",
       "      SVM AccumulationInvestment  GB AccumulationInvestment  \n",
       "179                            1                          0  \n",
       "2153                           1                          1  \n",
       "3234                           1                          1  \n",
       "184                            1                          1  \n",
       "1071                           1                          1  "
      ]
     },
     "execution_count": 83,
     "metadata": {},
     "output_type": "execute_result"
    }
   ],
   "source": [
    "# Save the predictions\n",
    "dataset_with_predictions['GB AccumulationInvestment'] = predictions_gb\n",
    "dataset_with_predictions.head()"
   ]
  },
  {
   "cell_type": "markdown",
   "id": "amoX07x3O6HS",
   "metadata": {
    "id": "amoX07x3O6HS"
   },
   "source": [
    "## Decision Tree + AdaBoost"
   ]
  },
  {
   "cell_type": "code",
   "execution_count": 84,
   "id": "1hsjm7JrO6HS",
   "metadata": {
    "colab": {
     "base_uri": "https://localhost:8080/",
     "height": 671
    },
    "id": "1hsjm7JrO6HS",
    "outputId": "cce2f86c-346d-4736-afee-034318e4336e"
   },
   "outputs": [
    {
     "name": "stdout",
     "output_type": "stream",
     "text": [
      "AdaBoost with Decision Tree Classifier Metrics:\n",
      "Accuracy: 0.7750716332378224\n",
      "Recall score: 0.8492871690427699\n",
      "Confusion Matrix:\n",
      "[[124  83]\n",
      " [ 74 417]]\n"
     ]
    },
    {
     "data": {
      "image/png": "[encoded data removed]",
      "text/plain": [
       "<Figure size 576x432 with 2 Axes>"
      ]
     },
     "metadata": {
      "needs_background": "light"
     },
     "output_type": "display_data"
    }
   ],
   "source": [
    "from sklearn.ensemble import AdaBoostClassifier\n",
    "from sklearn.tree import DecisionTreeClassifier\n",
    "from sklearn.metrics import accuracy_score, recall_score, confusion_matrix\n",
    "import matplotlib.pyplot as plt\n",
    "import seaborn as sns\n",
    "\n",
    "# Initialize the base classifier\n",
    "base_estimator = DecisionTreeClassifier(max_depth=1)\n",
    "\n",
    "# Initialize AdaBoost with a Decision Tree as the base estimator\n",
    "ada_classifier = AdaBoostClassifier(n_estimators=50,\n",
    "                                    learning_rate=1.0,\n",
    "                                    random_state=42)\n",
    "\n",
    "# Train the AdaBoost model\n",
    "ada_classifier.fit(X_train, y_train)\n",
    "\n",
    "# Prediction on the test set\n",
    "predictions_ada = ada_classifier.predict(X_test)\n",
    "\n",
    "# Calculate metrics\n",
    "accuracy_ada = accuracy_score(y_test, predictions_ada)\n",
    "recall_ada = recall_score(y_test, predictions_ada)\n",
    "\n",
    "# Generating the confusion matrix\n",
    "conf_matrix_ada = confusion_matrix(y_test, predictions_ada)\n",
    "\n",
    "print(\"AdaBoost with Decision Tree Classifier Metrics:\")\n",
    "print(\"Accuracy:\", accuracy_ada)\n",
    "print(\"Recall score:\", recall_ada)\n",
    "print(\"Confusion Matrix:\")\n",
    "print(conf_matrix_ada)\n",
    "\n",
    "plt.figure(figsize=(8, 6))\n",
    "sns.heatmap(conf_matrix_ada, annot=True, fmt=\"d\", cmap=\"Blues\")\n",
    "plt.xlabel(\"Predicted Label\")\n",
    "plt.ylabel(\"True Label\")\n",
    "plt.title(\"Confusion Matrix - AdaBoost with Decision Tree\")\n",
    "plt.show()"
   ]
  },
  {
   "cell_type": "code",
   "execution_count": 85,
   "id": "tMqhZDBAO6HS",
   "metadata": {
    "colab": {
     "base_uri": "https://localhost:8080/",
     "height": 244
    },
    "id": "tMqhZDBAO6HS",
    "outputId": "3d70ccca-1db5-4b74-ecc7-5fb206d83e4e"
   },
   "outputs": [
    {
     "data": {
      "text/html": [
       "<div>\n",
       "<style scoped>\n",
       "    .dataframe tbody tr th:only-of-type {\n",
       "        vertical-align: middle;\n",
       "    }\n",
       "\n",
       "    .dataframe tbody tr th {\n",
       "        vertical-align: top;\n",
       "    }\n",
       "\n",
       "    .dataframe thead th {\n",
       "        text-align: right;\n",
       "    }\n",
       "</style>\n",
       "<table border=\"1\" class=\"dataframe\">\n",
       "  <thead>\n",
       "    <tr style=\"text-align: right;\">\n",
       "      <th></th>\n",
       "      <th>Age</th>\n",
       "      <th>FinancialEducation</th>\n",
       "      <th>RiskPropensity</th>\n",
       "      <th>Income</th>\n",
       "      <th>Wealth</th>\n",
       "      <th>Income/Wealth</th>\n",
       "      <th>MLP AccumulationInvestment</th>\n",
       "      <th>RF AccumulationInvestment</th>\n",
       "      <th>LR AccumulationInvestment</th>\n",
       "      <th>KNN AccumulationInvestment</th>\n",
       "      <th>SVM AccumulationInvestment</th>\n",
       "      <th>GB AccumulationInvestment</th>\n",
       "      <th>DT+Ada AccumulationInvestment</th>\n",
       "    </tr>\n",
       "  </thead>\n",
       "  <tbody>\n",
       "    <tr>\n",
       "      <th>179</th>\n",
       "      <td>0.518987</td>\n",
       "      <td>0.119366</td>\n",
       "      <td>0.166095</td>\n",
       "      <td>0.499077</td>\n",
       "      <td>0.447003</td>\n",
       "      <td>0.405424</td>\n",
       "      <td>1</td>\n",
       "      <td>0</td>\n",
       "      <td>1</td>\n",
       "      <td>1</td>\n",
       "      <td>1</td>\n",
       "      <td>0</td>\n",
       "      <td>0</td>\n",
       "    </tr>\n",
       "    <tr>\n",
       "      <th>2153</th>\n",
       "      <td>0.759494</td>\n",
       "      <td>0.568503</td>\n",
       "      <td>0.617078</td>\n",
       "      <td>0.902076</td>\n",
       "      <td>0.764515</td>\n",
       "      <td>0.381090</td>\n",
       "      <td>1</td>\n",
       "      <td>1</td>\n",
       "      <td>1</td>\n",
       "      <td>1</td>\n",
       "      <td>1</td>\n",
       "      <td>1</td>\n",
       "      <td>1</td>\n",
       "    </tr>\n",
       "    <tr>\n",
       "      <th>3234</th>\n",
       "      <td>0.582278</td>\n",
       "      <td>0.615310</td>\n",
       "      <td>0.398159</td>\n",
       "      <td>0.658283</td>\n",
       "      <td>0.661516</td>\n",
       "      <td>0.322413</td>\n",
       "      <td>0</td>\n",
       "      <td>1</td>\n",
       "      <td>1</td>\n",
       "      <td>1</td>\n",
       "      <td>1</td>\n",
       "      <td>1</td>\n",
       "      <td>0</td>\n",
       "    </tr>\n",
       "    <tr>\n",
       "      <th>184</th>\n",
       "      <td>0.582278</td>\n",
       "      <td>0.545493</td>\n",
       "      <td>0.482318</td>\n",
       "      <td>0.627178</td>\n",
       "      <td>0.580825</td>\n",
       "      <td>0.370585</td>\n",
       "      <td>1</td>\n",
       "      <td>1</td>\n",
       "      <td>1</td>\n",
       "      <td>1</td>\n",
       "      <td>1</td>\n",
       "      <td>1</td>\n",
       "      <td>1</td>\n",
       "    </tr>\n",
       "    <tr>\n",
       "      <th>1071</th>\n",
       "      <td>0.341772</td>\n",
       "      <td>0.610581</td>\n",
       "      <td>0.531877</td>\n",
       "      <td>0.845886</td>\n",
       "      <td>0.595056</td>\n",
       "      <td>0.487633</td>\n",
       "      <td>1</td>\n",
       "      <td>1</td>\n",
       "      <td>1</td>\n",
       "      <td>1</td>\n",
       "      <td>1</td>\n",
       "      <td>1</td>\n",
       "      <td>1</td>\n",
       "    </tr>\n",
       "  </tbody>\n",
       "</table>\n",
       "</div>"
      ],
      "text/plain": [
       "           Age  FinancialEducation  RiskPropensity    Income    Wealth  \\\n",
       "179   0.518987            0.119366        0.166095  0.499077  0.447003   \n",
       "2153  0.759494            0.568503        0.617078  0.902076  0.764515   \n",
       "3234  0.582278            0.615310        0.398159  0.658283  0.661516   \n",
       "184   0.582278            0.545493        0.482318  0.627178  0.580825   \n",
       "1071  0.341772            0.610581        0.531877  0.845886  0.595056   \n",
       "\n",
       "      Income/Wealth  MLP AccumulationInvestment  RF AccumulationInvestment  \\\n",
       "179        0.405424                           1                          0   \n",
       "2153       0.381090                           1                          1   \n",
       "3234       0.322413                           0                          1   \n",
       "184        0.370585                           1                          1   \n",
       "1071       0.487633                           1                          1   \n",
       "\n",
       "      LR AccumulationInvestment  KNN AccumulationInvestment  \\\n",
       "179                           1                           1   \n",
       "2153                          1                           1   \n",
       "3234                          1                           1   \n",
       "184                           1                           1   \n",
       "1071                          1                           1   \n",
       "\n",
       "      SVM AccumulationInvestment  GB AccumulationInvestment  \\\n",
       "179                            1                          0   \n",
       "2153                           1                          1   \n",
       "3234                           1                          1   \n",
       "184                            1                          1   \n",
       "1071                           1                          1   \n",
       "\n",
       "      DT+Ada AccumulationInvestment  \n",
       "179                               0  \n",
       "2153                              1  \n",
       "3234                              0  \n",
       "184                               1  \n",
       "1071                              1  "
      ]
     },
     "execution_count": 85,
     "metadata": {},
     "output_type": "execute_result"
    }
   ],
   "source": [
    "# Save the predictions\n",
    "dataset_with_predictions['DT+Ada AccumulationInvestment'] = predictions_ada\n",
    "dataset_with_predictions.head()"
   ]
  },
  {
   "cell_type": "markdown",
   "id": "93mQPsMdO6HT",
   "metadata": {
    "id": "93mQPsMdO6HT"
   },
   "source": [
    "## Naïve Bayes"
   ]
  },
  {
   "cell_type": "code",
   "execution_count": 86,
   "id": "9EAgbmFXO6HT",
   "metadata": {
    "colab": {
     "base_uri": "https://localhost:8080/",
     "height": 671
    },
    "id": "9EAgbmFXO6HT",
    "outputId": "29f8ab4f-552a-4883-d696-534bf1c24892"
   },
   "outputs": [
    {
     "name": "stdout",
     "output_type": "stream",
     "text": [
      "Naive Bayes Classifier Metrics:\n",
      "Accuracy: 0.6948424068767909\n",
      "Recall score: 0.9205702647657841\n",
      "Confusion Matrix:\n",
      "[[ 33 174]\n",
      " [ 39 452]]\n"
     ]
    },
    {
     "data": {
      "image/png": "[encoded data removed]",
      "text/plain": [
       "<Figure size 576x432 with 2 Axes>"
      ]
     },
     "metadata": {
      "needs_background": "light"
     },
     "output_type": "display_data"
    }
   ],
   "source": [
    "from sklearn.naive_bayes import GaussianNB\n",
    "\n",
    "# Initialize the Naive Bayes classifier\n",
    "nb_classifier = GaussianNB()\n",
    "\n",
    "# Training the model\n",
    "nb_classifier.fit(X_train, y_train)\n",
    "\n",
    "# Prediction on the test set\n",
    "predictions_nb = nb_classifier.predict(X_test)\n",
    "\n",
    "# Calculate metrics\n",
    "accuracy_nb = accuracy_score(y_test, predictions_nb)\n",
    "recall_nb = recall_score(y_test, predictions_nb)\n",
    "\n",
    "# Confusion Matrix\n",
    "conf_matrix_nb = confusion_matrix(y_test, predictions_nb)\n",
    "\n",
    "print(\"Naive Bayes Classifier Metrics:\")\n",
    "print(\"Accuracy:\", accuracy_nb)\n",
    "print(\"Recall score:\", recall_nb)\n",
    "print(\"Confusion Matrix:\")\n",
    "print(conf_matrix_nb)\n",
    "\n",
    "plt.figure(figsize=(8, 6))\n",
    "sns.heatmap(conf_matrix_nb, annot=True, fmt=\"d\", cmap=\"Blues\")\n",
    "plt.xlabel(\"Predicted Label\")\n",
    "plt.ylabel(\"True Label\")\n",
    "plt.title(\"Confusion Matrix - Naïve Bayes\")\n",
    "plt.show()"
   ]
  },
  {
   "cell_type": "code",
   "execution_count": 87,
   "id": "ILgPVsCEO6HT",
   "metadata": {
    "colab": {
     "base_uri": "https://localhost:8080/",
     "height": 244
    },
    "id": "ILgPVsCEO6HT",
    "outputId": "ff7ff5ec-859b-467e-e894-c4dbbb389215"
   },
   "outputs": [
    {
     "data": {
      "text/html": [
       "<div>\n",
       "<style scoped>\n",
       "    .dataframe tbody tr th:only-of-type {\n",
       "        vertical-align: middle;\n",
       "    }\n",
       "\n",
       "    .dataframe tbody tr th {\n",
       "        vertical-align: top;\n",
       "    }\n",
       "\n",
       "    .dataframe thead th {\n",
       "        text-align: right;\n",
       "    }\n",
       "</style>\n",
       "<table border=\"1\" class=\"dataframe\">\n",
       "  <thead>\n",
       "    <tr style=\"text-align: right;\">\n",
       "      <th></th>\n",
       "      <th>Age</th>\n",
       "      <th>FinancialEducation</th>\n",
       "      <th>RiskPropensity</th>\n",
       "      <th>Income</th>\n",
       "      <th>Wealth</th>\n",
       "      <th>Income/Wealth</th>\n",
       "      <th>MLP AccumulationInvestment</th>\n",
       "      <th>RF AccumulationInvestment</th>\n",
       "      <th>LR AccumulationInvestment</th>\n",
       "      <th>KNN AccumulationInvestment</th>\n",
       "      <th>SVM AccumulationInvestment</th>\n",
       "      <th>GB AccumulationInvestment</th>\n",
       "      <th>DT+Ada AccumulationInvestment</th>\n",
       "      <th>NB AccumulationInvestment</th>\n",
       "    </tr>\n",
       "  </thead>\n",
       "  <tbody>\n",
       "    <tr>\n",
       "      <th>179</th>\n",
       "      <td>0.518987</td>\n",
       "      <td>0.119366</td>\n",
       "      <td>0.166095</td>\n",
       "      <td>0.499077</td>\n",
       "      <td>0.447003</td>\n",
       "      <td>0.405424</td>\n",
       "      <td>1</td>\n",
       "      <td>0</td>\n",
       "      <td>1</td>\n",
       "      <td>1</td>\n",
       "      <td>1</td>\n",
       "      <td>0</td>\n",
       "      <td>0</td>\n",
       "      <td>1</td>\n",
       "    </tr>\n",
       "    <tr>\n",
       "      <th>2153</th>\n",
       "      <td>0.759494</td>\n",
       "      <td>0.568503</td>\n",
       "      <td>0.617078</td>\n",
       "      <td>0.902076</td>\n",
       "      <td>0.764515</td>\n",
       "      <td>0.381090</td>\n",
       "      <td>1</td>\n",
       "      <td>1</td>\n",
       "      <td>1</td>\n",
       "      <td>1</td>\n",
       "      <td>1</td>\n",
       "      <td>1</td>\n",
       "      <td>1</td>\n",
       "      <td>1</td>\n",
       "    </tr>\n",
       "    <tr>\n",
       "      <th>3234</th>\n",
       "      <td>0.582278</td>\n",
       "      <td>0.615310</td>\n",
       "      <td>0.398159</td>\n",
       "      <td>0.658283</td>\n",
       "      <td>0.661516</td>\n",
       "      <td>0.322413</td>\n",
       "      <td>0</td>\n",
       "      <td>1</td>\n",
       "      <td>1</td>\n",
       "      <td>1</td>\n",
       "      <td>1</td>\n",
       "      <td>1</td>\n",
       "      <td>0</td>\n",
       "      <td>1</td>\n",
       "    </tr>\n",
       "    <tr>\n",
       "      <th>184</th>\n",
       "      <td>0.582278</td>\n",
       "      <td>0.545493</td>\n",
       "      <td>0.482318</td>\n",
       "      <td>0.627178</td>\n",
       "      <td>0.580825</td>\n",
       "      <td>0.370585</td>\n",
       "      <td>1</td>\n",
       "      <td>1</td>\n",
       "      <td>1</td>\n",
       "      <td>1</td>\n",
       "      <td>1</td>\n",
       "      <td>1</td>\n",
       "      <td>1</td>\n",
       "      <td>1</td>\n",
       "    </tr>\n",
       "    <tr>\n",
       "      <th>1071</th>\n",
       "      <td>0.341772</td>\n",
       "      <td>0.610581</td>\n",
       "      <td>0.531877</td>\n",
       "      <td>0.845886</td>\n",
       "      <td>0.595056</td>\n",
       "      <td>0.487633</td>\n",
       "      <td>1</td>\n",
       "      <td>1</td>\n",
       "      <td>1</td>\n",
       "      <td>1</td>\n",
       "      <td>1</td>\n",
       "      <td>1</td>\n",
       "      <td>1</td>\n",
       "      <td>1</td>\n",
       "    </tr>\n",
       "  </tbody>\n",
       "</table>\n",
       "</div>"
      ],
      "text/plain": [
       "           Age  FinancialEducation  RiskPropensity    Income    Wealth  \\\n",
       "179   0.518987            0.119366        0.166095  0.499077  0.447003   \n",
       "2153  0.759494            0.568503        0.617078  0.902076  0.764515   \n",
       "3234  0.582278            0.615310        0.398159  0.658283  0.661516   \n",
       "184   0.582278            0.545493        0.482318  0.627178  0.580825   \n",
       "1071  0.341772            0.610581        0.531877  0.845886  0.595056   \n",
       "\n",
       "      Income/Wealth  MLP AccumulationInvestment  RF AccumulationInvestment  \\\n",
       "179        0.405424                           1                          0   \n",
       "2153       0.381090                           1                          1   \n",
       "3234       0.322413                           0                          1   \n",
       "184        0.370585                           1                          1   \n",
       "1071       0.487633                           1                          1   \n",
       "\n",
       "      LR AccumulationInvestment  KNN AccumulationInvestment  \\\n",
       "179                           1                           1   \n",
       "2153                          1                           1   \n",
       "3234                          1                           1   \n",
       "184                           1                           1   \n",
       "1071                          1                           1   \n",
       "\n",
       "      SVM AccumulationInvestment  GB AccumulationInvestment  \\\n",
       "179                            1                          0   \n",
       "2153                           1                          1   \n",
       "3234                           1                          1   \n",
       "184                            1                          1   \n",
       "1071                           1                          1   \n",
       "\n",
       "      DT+Ada AccumulationInvestment  NB AccumulationInvestment  \n",
       "179                               0                          1  \n",
       "2153                              1                          1  \n",
       "3234                              0                          1  \n",
       "184                               1                          1  \n",
       "1071                              1                          1  "
      ]
     },
     "execution_count": 87,
     "metadata": {},
     "output_type": "execute_result"
    }
   ],
   "source": [
    "# Save the predictions\n",
    "dataset_with_predictions['NB AccumulationInvestment'] = predictions_nb\n",
    "dataset_with_predictions.head()"
   ]
  },
  {
   "cell_type": "markdown",
   "id": "dX0VPO7wO6HT",
   "metadata": {
    "id": "dX0VPO7wO6HT"
   },
   "source": [
    "## XGBoost"
   ]
  },
  {
   "cell_type": "code",
   "execution_count": 88,
   "id": "LCe4W0dgO6HU",
   "metadata": {
    "colab": {
     "base_uri": "https://localhost:8080/",
     "height": 671
    },
    "id": "LCe4W0dgO6HU",
    "outputId": "f22fd8ee-17aa-40ef-f9a3-140d8c110d96"
   },
   "outputs": [
    {
     "name": "stdout",
     "output_type": "stream",
     "text": [
      "XGBoost Classifier Metrics:\n",
      "Accuracy: 0.7679083094555874\n",
      "Recall score: 0.8615071283095723\n",
      "Confusion Matrix:\n",
      "[[113  94]\n",
      " [ 68 423]]\n"
     ]
    },
    {
     "data": {
      "image/png": "[encoded data removed]",
      "text/plain": [
       "<Figure size 576x432 with 2 Axes>"
      ]
     },
     "metadata": {
      "needs_background": "light"
     },
     "output_type": "display_data"
    }
   ],
   "source": [
    "from xgboost import XGBClassifier\n",
    "\n",
    "# Initialize the XGBoost classifier\n",
    "xgb_classifier = XGBClassifier(use_label_encoder=False, eval_metric='logloss', random_state=42)\n",
    "\n",
    "# Training the model\n",
    "xgb_classifier.fit(X_train, y_train)\n",
    "\n",
    "# Prediction on the test set\n",
    "predictions_xgb = xgb_classifier.predict(X_test)\n",
    "\n",
    "# Calculate metrics\n",
    "accuracy_xgb = accuracy_score(y_test, predictions_xgb)\n",
    "recall_xgb = recall_score(y_test, predictions_xgb)\n",
    "\n",
    "# Confusion Matrix\n",
    "conf_matrix_xgb = confusion_matrix(y_test, predictions_xgb)\n",
    "\n",
    "print(\"XGBoost Classifier Metrics:\")\n",
    "print(\"Accuracy:\", accuracy_xgb)\n",
    "print(\"Recall score:\", recall_xgb)\n",
    "print(\"Confusion Matrix:\")\n",
    "print(conf_matrix_xgb)\n",
    "\n",
    "plt.figure(figsize=(8, 6))\n",
    "sns.heatmap(conf_matrix_xgb, annot=True, fmt=\"d\", cmap=\"Blues\")\n",
    "plt.xlabel(\"Predicted Label\")\n",
    "plt.ylabel(\"True Label\")\n",
    "plt.title(\"Confusion Matrix - XGBoost\")\n",
    "plt.show()"
   ]
  },
  {
   "cell_type": "code",
   "execution_count": 89,
   "id": "bJPW6j3dO6HU",
   "metadata": {
    "colab": {
     "base_uri": "https://localhost:8080/",
     "height": 244
    },
    "id": "bJPW6j3dO6HU",
    "outputId": "d0ff02a0-7878-4379-aa1a-4720f4c23f16"
   },
   "outputs": [
    {
     "data": {
      "text/html": [
       "<div>\n",
       "<style scoped>\n",
       "    .dataframe tbody tr th:only-of-type {\n",
       "        vertical-align: middle;\n",
       "    }\n",
       "\n",
       "    .dataframe tbody tr th {\n",
       "        vertical-align: top;\n",
       "    }\n",
       "\n",
       "    .dataframe thead th {\n",
       "        text-align: right;\n",
       "    }\n",
       "</style>\n",
       "<table border=\"1\" class=\"dataframe\">\n",
       "  <thead>\n",
       "    <tr style=\"text-align: right;\">\n",
       "      <th></th>\n",
       "      <th>Age</th>\n",
       "      <th>FinancialEducation</th>\n",
       "      <th>RiskPropensity</th>\n",
       "      <th>Income</th>\n",
       "      <th>Wealth</th>\n",
       "      <th>Income/Wealth</th>\n",
       "      <th>MLP AccumulationInvestment</th>\n",
       "      <th>RF AccumulationInvestment</th>\n",
       "      <th>LR AccumulationInvestment</th>\n",
       "      <th>KNN AccumulationInvestment</th>\n",
       "      <th>SVM AccumulationInvestment</th>\n",
       "      <th>GB AccumulationInvestment</th>\n",
       "      <th>DT+Ada AccumulationInvestment</th>\n",
       "      <th>NB AccumulationInvestment</th>\n",
       "      <th>XGB AccumulationInvestment</th>\n",
       "    </tr>\n",
       "  </thead>\n",
       "  <tbody>\n",
       "    <tr>\n",
       "      <th>179</th>\n",
       "      <td>0.518987</td>\n",
       "      <td>0.119366</td>\n",
       "      <td>0.166095</td>\n",
       "      <td>0.499077</td>\n",
       "      <td>0.447003</td>\n",
       "      <td>0.405424</td>\n",
       "      <td>1</td>\n",
       "      <td>0</td>\n",
       "      <td>1</td>\n",
       "      <td>1</td>\n",
       "      <td>1</td>\n",
       "      <td>0</td>\n",
       "      <td>0</td>\n",
       "      <td>1</td>\n",
       "      <td>0</td>\n",
       "    </tr>\n",
       "    <tr>\n",
       "      <th>2153</th>\n",
       "      <td>0.759494</td>\n",
       "      <td>0.568503</td>\n",
       "      <td>0.617078</td>\n",
       "      <td>0.902076</td>\n",
       "      <td>0.764515</td>\n",
       "      <td>0.381090</td>\n",
       "      <td>1</td>\n",
       "      <td>1</td>\n",
       "      <td>1</td>\n",
       "      <td>1</td>\n",
       "      <td>1</td>\n",
       "      <td>1</td>\n",
       "      <td>1</td>\n",
       "      <td>1</td>\n",
       "      <td>1</td>\n",
       "    </tr>\n",
       "    <tr>\n",
       "      <th>3234</th>\n",
       "      <td>0.582278</td>\n",
       "      <td>0.615310</td>\n",
       "      <td>0.398159</td>\n",
       "      <td>0.658283</td>\n",
       "      <td>0.661516</td>\n",
       "      <td>0.322413</td>\n",
       "      <td>0</td>\n",
       "      <td>1</td>\n",
       "      <td>1</td>\n",
       "      <td>1</td>\n",
       "      <td>1</td>\n",
       "      <td>1</td>\n",
       "      <td>0</td>\n",
       "      <td>1</td>\n",
       "      <td>1</td>\n",
       "    </tr>\n",
       "    <tr>\n",
       "      <th>184</th>\n",
       "      <td>0.582278</td>\n",
       "      <td>0.545493</td>\n",
       "      <td>0.482318</td>\n",
       "      <td>0.627178</td>\n",
       "      <td>0.580825</td>\n",
       "      <td>0.370585</td>\n",
       "      <td>1</td>\n",
       "      <td>1</td>\n",
       "      <td>1</td>\n",
       "      <td>1</td>\n",
       "      <td>1</td>\n",
       "      <td>1</td>\n",
       "      <td>1</td>\n",
       "      <td>1</td>\n",
       "      <td>1</td>\n",
       "    </tr>\n",
       "    <tr>\n",
       "      <th>1071</th>\n",
       "      <td>0.341772</td>\n",
       "      <td>0.610581</td>\n",
       "      <td>0.531877</td>\n",
       "      <td>0.845886</td>\n",
       "      <td>0.595056</td>\n",
       "      <td>0.487633</td>\n",
       "      <td>1</td>\n",
       "      <td>1</td>\n",
       "      <td>1</td>\n",
       "      <td>1</td>\n",
       "      <td>1</td>\n",
       "      <td>1</td>\n",
       "      <td>1</td>\n",
       "      <td>1</td>\n",
       "      <td>1</td>\n",
       "    </tr>\n",
       "  </tbody>\n",
       "</table>\n",
       "</div>"
      ],
      "text/plain": [
       "           Age  FinancialEducation  RiskPropensity    Income    Wealth  \\\n",
       "179   0.518987            0.119366        0.166095  0.499077  0.447003   \n",
       "2153  0.759494            0.568503        0.617078  0.902076  0.764515   \n",
       "3234  0.582278            0.615310        0.398159  0.658283  0.661516   \n",
       "184   0.582278            0.545493        0.482318  0.627178  0.580825   \n",
       "1071  0.341772            0.610581        0.531877  0.845886  0.595056   \n",
       "\n",
       "      Income/Wealth  MLP AccumulationInvestment  RF AccumulationInvestment  \\\n",
       "179        0.405424                           1                          0   \n",
       "2153       0.381090                           1                          1   \n",
       "3234       0.322413                           0                          1   \n",
       "184        0.370585                           1                          1   \n",
       "1071       0.487633                           1                          1   \n",
       "\n",
       "      LR AccumulationInvestment  KNN AccumulationInvestment  \\\n",
       "179                           1                           1   \n",
       "2153                          1                           1   \n",
       "3234                          1                           1   \n",
       "184                           1                           1   \n",
       "1071                          1                           1   \n",
       "\n",
       "      SVM AccumulationInvestment  GB AccumulationInvestment  \\\n",
       "179                            1                          0   \n",
       "2153                           1                          1   \n",
       "3234                           1                          1   \n",
       "184                            1                          1   \n",
       "1071                           1                          1   \n",
       "\n",
       "      DT+Ada AccumulationInvestment  NB AccumulationInvestment  \\\n",
       "179                               0                          1   \n",
       "2153                              1                          1   \n",
       "3234                              0                          1   \n",
       "184                               1                          1   \n",
       "1071                              1                          1   \n",
       "\n",
       "      XGB AccumulationInvestment  \n",
       "179                            0  \n",
       "2153                           1  \n",
       "3234                           1  \n",
       "184                            1  \n",
       "1071                           1  "
      ]
     },
     "execution_count": 89,
     "metadata": {},
     "output_type": "execute_result"
    }
   ],
   "source": [
    "# Save the predictions\n",
    "dataset_with_predictions['XGB AccumulationInvestment'] = predictions_xgb\n",
    "dataset_with_predictions.head()"
   ]
  },
  {
   "cell_type": "markdown",
   "id": "1f4752cb-7b24-4a60-9f88-03be82321e72",
   "metadata": {
    "id": "1f4752cb-7b24-4a60-9f88-03be82321e72"
   },
   "source": [
    "## Bagging"
   ]
  },
  {
   "cell_type": "code",
   "execution_count": 90,
   "id": "53725df2-6697-4da7-9ac2-d826f6d4ab9e",
   "metadata": {
    "colab": {
     "base_uri": "https://localhost:8080/",
     "height": 244
    },
    "id": "53725df2-6697-4da7-9ac2-d826f6d4ab9e",
    "outputId": "428b5c83-56e5-4bf7-cb7e-03b6dd762caa"
   },
   "outputs": [
    {
     "data": {
      "text/html": [
       "<div>\n",
       "<style scoped>\n",
       "    .dataframe tbody tr th:only-of-type {\n",
       "        vertical-align: middle;\n",
       "    }\n",
       "\n",
       "    .dataframe tbody tr th {\n",
       "        vertical-align: top;\n",
       "    }\n",
       "\n",
       "    .dataframe thead th {\n",
       "        text-align: right;\n",
       "    }\n",
       "</style>\n",
       "<table border=\"1\" class=\"dataframe\">\n",
       "  <thead>\n",
       "    <tr style=\"text-align: right;\">\n",
       "      <th></th>\n",
       "      <th>Age</th>\n",
       "      <th>FinancialEducation</th>\n",
       "      <th>RiskPropensity</th>\n",
       "      <th>Income</th>\n",
       "      <th>Wealth</th>\n",
       "      <th>Income/Wealth</th>\n",
       "      <th>MLP AccumulationInvestment</th>\n",
       "      <th>RF AccumulationInvestment</th>\n",
       "      <th>LR AccumulationInvestment</th>\n",
       "      <th>KNN AccumulationInvestment</th>\n",
       "      <th>SVM AccumulationInvestment</th>\n",
       "      <th>GB AccumulationInvestment</th>\n",
       "      <th>DT+Ada AccumulationInvestment</th>\n",
       "      <th>NB AccumulationInvestment</th>\n",
       "      <th>XGB AccumulationInvestment</th>\n",
       "      <th>Bagging</th>\n",
       "    </tr>\n",
       "  </thead>\n",
       "  <tbody>\n",
       "    <tr>\n",
       "      <th>179</th>\n",
       "      <td>0.518987</td>\n",
       "      <td>0.119366</td>\n",
       "      <td>0.166095</td>\n",
       "      <td>0.499077</td>\n",
       "      <td>0.447003</td>\n",
       "      <td>0.405424</td>\n",
       "      <td>1</td>\n",
       "      <td>0</td>\n",
       "      <td>1</td>\n",
       "      <td>1</td>\n",
       "      <td>1</td>\n",
       "      <td>0</td>\n",
       "      <td>0</td>\n",
       "      <td>1</td>\n",
       "      <td>0</td>\n",
       "      <td>0</td>\n",
       "    </tr>\n",
       "    <tr>\n",
       "      <th>2153</th>\n",
       "      <td>0.759494</td>\n",
       "      <td>0.568503</td>\n",
       "      <td>0.617078</td>\n",
       "      <td>0.902076</td>\n",
       "      <td>0.764515</td>\n",
       "      <td>0.381090</td>\n",
       "      <td>1</td>\n",
       "      <td>1</td>\n",
       "      <td>1</td>\n",
       "      <td>1</td>\n",
       "      <td>1</td>\n",
       "      <td>1</td>\n",
       "      <td>1</td>\n",
       "      <td>1</td>\n",
       "      <td>1</td>\n",
       "      <td>1</td>\n",
       "    </tr>\n",
       "    <tr>\n",
       "      <th>3234</th>\n",
       "      <td>0.582278</td>\n",
       "      <td>0.615310</td>\n",
       "      <td>0.398159</td>\n",
       "      <td>0.658283</td>\n",
       "      <td>0.661516</td>\n",
       "      <td>0.322413</td>\n",
       "      <td>0</td>\n",
       "      <td>1</td>\n",
       "      <td>1</td>\n",
       "      <td>1</td>\n",
       "      <td>1</td>\n",
       "      <td>1</td>\n",
       "      <td>0</td>\n",
       "      <td>1</td>\n",
       "      <td>1</td>\n",
       "      <td>1</td>\n",
       "    </tr>\n",
       "    <tr>\n",
       "      <th>184</th>\n",
       "      <td>0.582278</td>\n",
       "      <td>0.545493</td>\n",
       "      <td>0.482318</td>\n",
       "      <td>0.627178</td>\n",
       "      <td>0.580825</td>\n",
       "      <td>0.370585</td>\n",
       "      <td>1</td>\n",
       "      <td>1</td>\n",
       "      <td>1</td>\n",
       "      <td>1</td>\n",
       "      <td>1</td>\n",
       "      <td>1</td>\n",
       "      <td>1</td>\n",
       "      <td>1</td>\n",
       "      <td>1</td>\n",
       "      <td>1</td>\n",
       "    </tr>\n",
       "    <tr>\n",
       "      <th>1071</th>\n",
       "      <td>0.341772</td>\n",
       "      <td>0.610581</td>\n",
       "      <td>0.531877</td>\n",
       "      <td>0.845886</td>\n",
       "      <td>0.595056</td>\n",
       "      <td>0.487633</td>\n",
       "      <td>1</td>\n",
       "      <td>1</td>\n",
       "      <td>1</td>\n",
       "      <td>1</td>\n",
       "      <td>1</td>\n",
       "      <td>1</td>\n",
       "      <td>1</td>\n",
       "      <td>1</td>\n",
       "      <td>1</td>\n",
       "      <td>1</td>\n",
       "    </tr>\n",
       "  </tbody>\n",
       "</table>\n",
       "</div>"
      ],
      "text/plain": [
       "           Age  FinancialEducation  RiskPropensity    Income    Wealth  \\\n",
       "179   0.518987            0.119366        0.166095  0.499077  0.447003   \n",
       "2153  0.759494            0.568503        0.617078  0.902076  0.764515   \n",
       "3234  0.582278            0.615310        0.398159  0.658283  0.661516   \n",
       "184   0.582278            0.545493        0.482318  0.627178  0.580825   \n",
       "1071  0.341772            0.610581        0.531877  0.845886  0.595056   \n",
       "\n",
       "      Income/Wealth  MLP AccumulationInvestment  RF AccumulationInvestment  \\\n",
       "179        0.405424                           1                          0   \n",
       "2153       0.381090                           1                          1   \n",
       "3234       0.322413                           0                          1   \n",
       "184        0.370585                           1                          1   \n",
       "1071       0.487633                           1                          1   \n",
       "\n",
       "      LR AccumulationInvestment  KNN AccumulationInvestment  \\\n",
       "179                           1                           1   \n",
       "2153                          1                           1   \n",
       "3234                          1                           1   \n",
       "184                           1                           1   \n",
       "1071                          1                           1   \n",
       "\n",
       "      SVM AccumulationInvestment  GB AccumulationInvestment  \\\n",
       "179                            1                          0   \n",
       "2153                           1                          1   \n",
       "3234                           1                          1   \n",
       "184                            1                          1   \n",
       "1071                           1                          1   \n",
       "\n",
       "      DT+Ada AccumulationInvestment  NB AccumulationInvestment  \\\n",
       "179                               0                          1   \n",
       "2153                              1                          1   \n",
       "3234                              0                          1   \n",
       "184                               1                          1   \n",
       "1071                              1                          1   \n",
       "\n",
       "      XGB AccumulationInvestment  Bagging  \n",
       "179                            0        0  \n",
       "2153                           1        1  \n",
       "3234                           1        1  \n",
       "184                            1        1  \n",
       "1071                           1        1  "
      ]
     },
     "execution_count": 90,
     "metadata": {},
     "output_type": "execute_result"
    }
   ],
   "source": [
    "# Predictions from the 5 models\n",
    "predictions_from_models = dataset_with_predictions.iloc[:, -9:]\n",
    "\n",
    "# Calculate the mode along the columns axis for each row\n",
    "# Using the best classifiers in term of biggest recall -> MLP, IF, KNN, GB, XGBoost\n",
    "bagging_predictions = predictions_from_models.iloc[:, [0, 1, 3, 5, 8]].mode(axis=1)\n",
    "\n",
    "# Add 'Bagging' column to dataset_with_predictions DataFrame\n",
    "dataset_with_predictions['Bagging'] = bagging_predictions.iloc[:, 0]\n",
    "dataset_with_predictions.head()"
   ]
  },
  {
   "cell_type": "code",
   "execution_count": 91,
   "id": "b4e4b9cc-9166-45bc-9173-18308102ceb5",
   "metadata": {
    "colab": {
     "base_uri": "https://localhost:8080/",
     "height": 596
    },
    "id": "b4e4b9cc-9166-45bc-9173-18308102ceb5",
    "outputId": "b96e044b-59dc-4a93-8e41-f366cbc0b7b9"
   },
   "outputs": [
    {
     "name": "stdout",
     "output_type": "stream",
     "text": [
      "Accuracy: 0.7808022922636103\n",
      "Recall: 0.9124236252545825\n",
      "Confusion Matrix\n",
      "[[ 97 110]\n",
      " [ 43 448]]\n"
     ]
    },
    {
     "data": {
      "image/png": "[encoded data removed]",
      "text/plain": [
       "<Figure size 432x360 with 2 Axes>"
      ]
     },
     "metadata": {
      "needs_background": "light"
     },
     "output_type": "display_data"
    }
   ],
   "source": [
    "# Evaluating the overall model\n",
    "accuracy_bagging = accuracy_score(y_test, dataset_with_predictions['Bagging'])\n",
    "print(\"Accuracy:\", accuracy_bagging)\n",
    "\n",
    "recall_bagging = recall_score(y_test, dataset_with_predictions['Bagging'])\n",
    "print(\"Recall:\", recall_bagging)\n",
    "\n",
    "conf_matrix = confusion_matrix(y_test, dataset_with_predictions['Bagging'])\n",
    "print(\"Confusion Matrix\")\n",
    "print(conf_matrix)\n",
    "\n",
    "plt.figure(figsize=(6, 5))\n",
    "sns.heatmap(conf_matrix, annot=True, fmt=\"d\", cmap=\"Blues\")\n",
    "plt.xlabel(\"Predicted Label\")\n",
    "plt.ylabel(\"True Label\")\n",
    "plt.title(\"Confusion Matrix\")\n",
    "\n",
    "plt.tight_layout()\n",
    "plt.show()"
   ]
  },
  {
   "cell_type": "markdown",
   "id": "d864bd5c-24eb-444f-9d32-d3afc5d5cc6a",
   "metadata": {
    "id": "d864bd5c-24eb-444f-9d32-d3afc5d5cc6a"
   },
   "source": [
    "**General comment:**  \n",
    "  \n",
    "In this classification part, it's observed that the negative class is frequently misclassified, while the positive class is misclassified less often.  \n",
    "This imbalance in classification accuracy is likely attributed to the removal of 'uninterested' clients, resulting in a dataset that is skewed towards the positive class.  \n",
    "While this imbalance may seem unfavorable from a traditional classification perspective, it's important to note that our primary objective is to target potential customers interested in purchasing our products.\n",
    "Therefore, the higher accuracy in predicting the positive class, despite the imbalance, aligns well with our business goal of targeting interested customers for sales opportunities.\n",
    "\n",
    "\n",
    "\n",
    "\n",
    "\n",
    "\n"
   ]
  },
  {
   "cell_type": "code",
   "execution_count": 92,
   "id": "8b8e85c6-ea61-47c1-a481-f87c9643451b",
   "metadata": {
    "id": "8b8e85c6-ea61-47c1-a481-f87c9643451b"
   },
   "outputs": [],
   "source": [
    "# Save the predictions dataset for the 'IncomeInvestment' label\n",
    "excel_file_path = \"AccumulationInvestment_Predicitons.xlsx\"\n",
    "\n",
    "dataset_with_predictions.to_excel(excel_file_path, index=False)"
   ]
  }
 ],
 "metadata": {
  "colab": {
   "provenance": [],
   "toc_visible": true
  },
  "kernelspec": {
   "display_name": "Python 3 (ipykernel)",
   "language": "python",
   "name": "python3"
  },
  "language_info": {
   "codemirror_mode": {
    "name": "ipython",
    "version": 3
   },
   "file_extension": ".py",
   "mimetype": "text/x-python",
   "name": "python",
   "nbconvert_exporter": "python",
   "pygments_lexer": "ipython3",
   "version": "3.10.12"
  }
 },
 "nbformat": 4,
 "nbformat_minor": 5
}
